{
 "cells": [
  {
   "cell_type": "markdown",
   "id": "e2d2a714",
   "metadata": {},
   "source": [
    "# Tuple"
   ]
  },
  {
   "cell_type": "markdown",
   "id": "8c7e093e",
   "metadata": {},
   "source": [
    "This section analyzes another important data structure in Python - that is, **tuple**.   \n",
    "The chapter explains where and how tuples can be used to manipulate data. "
   ]
  },
  {
   "cell_type": "markdown",
   "id": "4752f500",
   "metadata": {},
   "source": [
    "## Agenda"
   ]
  },
  {
   "cell_type": "markdown",
   "id": "922dff3f",
   "metadata": {},
   "source": [
    "+ Introduction\n",
    "+ Creating and accessing values of a tuple\n",
    "+ Updating and deleting values\n",
    "+ Indexing, Assigning, Joining, and Unpacking tuple objects\n",
    "+ Using tuples to return multiple values from a function\n",
    "+ The count() and zip() methods\n",
    "+ Comparing tuples and lists\n",
    "+ Nested tuples"
   ]
  },
  {
   "cell_type": "markdown",
   "id": "83fca1c5",
   "metadata": {},
   "source": [
    "## Introduction"
   ]
  },
  {
   "cell_type": "markdown",
   "id": "658ad44e",
   "metadata": {},
   "source": [
    "+ A tuple is an immutable object. This means that you cannot change the values in a tuple.\n",
    "\n",
    "+ Tuples uses round parentheses to define its elements whereas lists use square brackets."
   ]
  },
  {
   "cell_type": "markdown",
   "id": "db3b4934",
   "metadata": {},
   "source": [
    "## Creating a Tuple"
   ]
  },
  {
   "cell_type": "code",
   "execution_count": 9,
   "id": "a1ec22db",
   "metadata": {},
   "outputs": [
    {
     "name": "stdout",
     "output_type": "stream",
     "text": [
      "()\n"
     ]
    }
   ],
   "source": [
    "# creates an empty tuple\n",
    "tup1 = ()\n",
    "print(tup1)"
   ]
  },
  {
   "cell_type": "code",
   "execution_count": 10,
   "id": "be1c1e84",
   "metadata": {},
   "outputs": [
    {
     "name": "stdout",
     "output_type": "stream",
     "text": [
      "(5,)\n",
      "<class 'tuple'>\n"
     ]
    }
   ],
   "source": [
    "# creates a tuple with a single element\n",
    "tup1 = (5,)\n",
    "print(tup1)\n",
    "print(type(tup1))"
   ]
  },
  {
   "cell_type": "code",
   "execution_count": 14,
   "id": "6c7dd9c9",
   "metadata": {},
   "outputs": [
    {
     "name": "stdout",
     "output_type": "stream",
     "text": [
      "5\n",
      "<class 'int'>\n"
     ]
    }
   ],
   "source": [
    "# CATCH: using only round brackets will not create tuple\n",
    "tup1 = (5)\n",
    "print(tup1)\n",
    "print(type(tup1))"
   ]
  },
  {
   "cell_type": "code",
   "execution_count": 18,
   "id": "8707c4b0",
   "metadata": {},
   "outputs": [
    {
     "name": "stdout",
     "output_type": "stream",
     "text": [
      "(5,)\n",
      "<class 'tuple'>\n"
     ]
    }
   ],
   "source": [
    "# CATCH : Using only comma after element is a tuple \n",
    "tup1 = 5,\n",
    "print(tup1)\n",
    "print(type(tup1))"
   ]
  },
  {
   "cell_type": "code",
   "execution_count": 21,
   "id": "f3f2a405",
   "metadata": {},
   "outputs": [
    {
     "name": "stdout",
     "output_type": "stream",
     "text": [
      "(5, 6, 7, 8)\n",
      "<class 'tuple'>\n"
     ]
    }
   ],
   "source": [
    "# CATCH: Using comma only \n",
    "tup1 = 5,6,7,8\n",
    "print(tup1)\n",
    "print(type(tup1))"
   ]
  },
  {
   "cell_type": "code",
   "execution_count": 22,
   "id": "9fee29d4",
   "metadata": {},
   "outputs": [
    {
     "name": "stdout",
     "output_type": "stream",
     "text": [
      "(1, 2, 3, 4, 5, 6)\n"
     ]
    }
   ],
   "source": [
    "# Tuple of integers\n",
    "tup1 = (1,2,3,4,5,6)\n",
    "print(tup1)"
   ]
  },
  {
   "cell_type": "code",
   "execution_count": 23,
   "id": "606244db",
   "metadata": {},
   "outputs": [
    {
     "name": "stdout",
     "output_type": "stream",
     "text": [
      "(1, 'abc', 2.3, 'd')\n"
     ]
    }
   ],
   "source": [
    "# create a tuple of mixed values\n",
    "tup1 = (1, \"abc\", 2.3, 'd')\n",
    "print(tup1)"
   ]
  },
  {
   "cell_type": "code",
   "execution_count": 24,
   "id": "05a03329",
   "metadata": {},
   "outputs": [
    {
     "name": "stdout",
     "output_type": "stream",
     "text": [
      "('a', 'b', 'c', 'd', 'e', 'f')\n"
     ]
    }
   ],
   "source": [
    "# create a tuple of characters\n",
    "tup1 = ('a', 'b', 'c', 'd', 'e', 'f')\n",
    "print(tup1)"
   ]
  },
  {
   "cell_type": "code",
   "execution_count": 25,
   "id": "5a9819a6",
   "metadata": {},
   "outputs": [
    {
     "name": "stdout",
     "output_type": "stream",
     "text": [
      "('abc', 'def', 'ghi')\n"
     ]
    }
   ],
   "source": [
    "# create a tuple of srings\n",
    "tup1 = (\"abc\", \"def\", \"ghi\")\n",
    "print(tup1)"
   ]
  },
  {
   "cell_type": "code",
   "execution_count": 26,
   "id": "fd346bac",
   "metadata": {},
   "outputs": [
    {
     "name": "stdout",
     "output_type": "stream",
     "text": [
      "(1.2, 3.4, 5.6, 7.8, 9.4)\n"
     ]
    }
   ],
   "source": [
    "# create a tuple of floating point numbers\n",
    "tup1 = (1.2, 3.4, 5.6, 7.8, 9.4)\n",
    "print(tup1)"
   ]
  },
  {
   "cell_type": "markdown",
   "id": "ebccdbca",
   "metadata": {},
   "source": [
    "## KEY POINTS TO REMEBER"
   ]
  },
  {
   "cell_type": "markdown",
   "id": "4dbea76f",
   "metadata": {},
   "source": [
    "+ An set of comma-separated values written without an identifying symbol like brackets or parentheses, etc. is treated as a tuple by default. "
   ]
  },
  {
   "cell_type": "code",
   "execution_count": 34,
   "id": "fc5e8d2c",
   "metadata": {},
   "outputs": [
    {
     "name": "stdout",
     "output_type": "stream",
     "text": [
      "(14, 15, 16)\n",
      "<class 'tuple'>\n"
     ]
    }
   ],
   "source": [
    "tup = 14,15,16\n",
    "print(tup)\n",
    "print(type(tup))"
   ]
  },
  {
   "cell_type": "markdown",
   "id": "ec7f28e0",
   "metadata": {},
   "source": [
    "+ If you want to create a tuple with single element, you must add a comma after the element. In the absence of a comma, Python treats the element as an ordinary data type. "
   ]
  },
  {
   "cell_type": "code",
   "execution_count": 31,
   "id": "8d703619",
   "metadata": {},
   "outputs": [
    {
     "name": "stdout",
     "output_type": "stream",
     "text": [
      "(15,)\n"
     ]
    }
   ],
   "source": [
    "tup = (15,)\n",
    "print(tup)"
   ]
  },
  {
   "cell_type": "code",
   "execution_count": 32,
   "id": "a416aae0",
   "metadata": {},
   "outputs": [
    {
     "name": "stdout",
     "output_type": "stream",
     "text": [
      "<class 'int'>\n"
     ]
    }
   ],
   "source": [
    "tup = (10)\n",
    "print(type(tup))"
   ]
  },
  {
   "cell_type": "markdown",
   "id": "e4acd71d",
   "metadata": {},
   "source": [
    "+ We can use the **eval()** function to input a tuple. But while specifying the input elements, enclose them within parenthese as shown in the code."
   ]
  },
  {
   "cell_type": "code",
   "execution_count": 28,
   "id": "09fb61b4",
   "metadata": {},
   "outputs": [
    {
     "name": "stdout",
     "output_type": "stream",
     "text": [
      "Enter the value of a tuple: (1,2,3.4,'a',\"abc\")\n",
      "(1, 2, 3.4, 'a', 'abc')\n",
      "<class 'tuple'>\n"
     ]
    }
   ],
   "source": [
    "# eval() function to read Tuple\n",
    "tup = eval(input(\"Enter the value of a tuple: \"))\n",
    "print(tup)\n",
    "print(type(tup))"
   ]
  },
  {
   "cell_type": "markdown",
   "id": "5f52fb63",
   "metadata": {},
   "source": [
    "+ We can also use **tuple()** function to create a tuple with the specified sequence. "
   ]
  },
  {
   "cell_type": "code",
   "execution_count": 36,
   "id": "e54d8150",
   "metadata": {},
   "outputs": [
    {
     "name": "stdout",
     "output_type": "stream",
     "text": [
      "('a', 'b', 'c')\n"
     ]
    }
   ],
   "source": [
    "tup = tuple(\"abc\")\n",
    "print(tup)"
   ]
  },
  {
   "cell_type": "code",
   "execution_count": 37,
   "id": "648a9e0b",
   "metadata": {},
   "outputs": [
    {
     "name": "stdout",
     "output_type": "stream",
     "text": [
      "(1, 2, 3)\n"
     ]
    }
   ],
   "source": [
    "tup = tuple([1,2,3])\n",
    "print(tup)"
   ]
  },
  {
   "cell_type": "markdown",
   "id": "2ceaa2bf",
   "metadata": {},
   "source": [
    "# UTILITY OF TUPLES"
   ]
  },
  {
   "cell_type": "markdown",
   "id": "b31c54a7",
   "metadata": {},
   "source": [
    "Tuples are immutable. Hence they are primarily used to store data that doesn't change frequently. Any operation can store data in a tuple when you don't want it to change.\n",
    "\n",
    "Tuples are great to use if you want the data in your collection to be read-only, never to change, and always remain the same and constant.\n",
    "\n",
    "Because of this ability and the guarantee that data is never changed, you can use tuples in dictionaries and sets, which require the elements inside them to be of an immutable type.\n",
    "\n",
    "It is beneficial when you need to store values that don't change over time, like a person's birthdate or height."
   ]
  },
  {
   "cell_type": "markdown",
   "id": "afcaae5e",
   "metadata": {},
   "source": [
    "# ACCESSING VALUES IN A TUPLE"
   ]
  },
  {
   "cell_type": "code",
   "execution_count": 39,
   "id": "6aabf8ee",
   "metadata": {},
   "outputs": [
    {
     "name": "stdout",
     "output_type": "stream",
     "text": [
      "(1, 20, 3, 40, 5, 60, 7, 80, 9, 100, 11, 120)\n",
      "(5, 60, 7, 80)\n",
      "(1, 20, 3, 40, 5)\n",
      "(40, 5, 60, 7, 80, 9, 100, 11, 120)\n",
      "(1, 20, 3, 40, 5, 60, 7, 80, 9, 100, 11, 120)\n",
      "(1, 20, 3, 40, 5, 60, 7, 80)\n",
      "()\n",
      "(120, 100, 80, 60, 40, 20)\n"
     ]
    }
   ],
   "source": [
    "tup1 = (1,20,3,40,5,60,7,80,9,100,11,120)\n",
    "print(tup1)\n",
    "print(tup1[4:8])\n",
    "print(tup1[:5])\n",
    "print(tup1[3:])\n",
    "print(tup1[:])\n",
    "print(tup1[:-4])\n",
    "print(tup1[-1:5])\n",
    "print(tup1[::-2])"
   ]
  },
  {
   "cell_type": "code",
   "execution_count": 42,
   "id": "ed6687a8",
   "metadata": {},
   "outputs": [
    {
     "name": "stdout",
     "output_type": "stream",
     "text": [
      "[1, 'a', 2, 'bcd', 3.4, 5, '3', 6.7, 'efg', 'e']\n",
      "bcd\n",
      "6.7\n",
      "['bcd', 3.4, 5]\n",
      "[2, 3.4, '3']\n",
      "[1, 'a', 2, 'bcd', 3.4, 5, '3', 6.7, 'efg', 'e']\n",
      "b\n",
      "g\n"
     ]
    }
   ],
   "source": [
    "tup2 = [1,'a', 2, 'bcd', 3.4, 5, '3', 6.7, 'efg', 'e']\n",
    "print(tup2)\n",
    "print(tup2[3])\n",
    "print(tup2[10-4*2+5])\n",
    "print(tup2[3:6])\n",
    "print(tup2[2:7:2])\n",
    "print(tup2[-10:10])\n",
    "print(tup2[3][0])\n",
    "print(tup2[8][-1])"
   ]
  },
  {
   "cell_type": "markdown",
   "id": "812c8e95",
   "metadata": {},
   "source": [
    "# UPDATING TUPLE"
   ]
  },
  {
   "cell_type": "code",
   "execution_count": 43,
   "id": "fc8f4fcb",
   "metadata": {},
   "outputs": [
    {
     "ename": "TypeError",
     "evalue": "'tuple' object does not support item assignment",
     "output_type": "error",
     "traceback": [
      "\u001b[1;31m---------------------------------------------------------------------------\u001b[0m",
      "\u001b[1;31mTypeError\u001b[0m                                 Traceback (most recent call last)",
      "Cell \u001b[1;32mIn[43], line 2\u001b[0m\n\u001b[0;32m      1\u001b[0m tup \u001b[38;5;241m=\u001b[39m (\u001b[38;5;241m1\u001b[39m, \u001b[38;5;124m'\u001b[39m\u001b[38;5;124ma\u001b[39m\u001b[38;5;124m'\u001b[39m, \u001b[38;5;241m2\u001b[39m, \u001b[38;5;124m'\u001b[39m\u001b[38;5;124mbcd\u001b[39m\u001b[38;5;124m'\u001b[39m, \u001b[38;5;241m3.4\u001b[39m, \u001b[38;5;241m5\u001b[39m, \u001b[38;5;124m'\u001b[39m\u001b[38;5;124me\u001b[39m\u001b[38;5;124m'\u001b[39m)\n\u001b[1;32m----> 2\u001b[0m \u001b[43mtup\u001b[49m\u001b[43m[\u001b[49m\u001b[38;5;241;43m3\u001b[39;49m\u001b[43m]\u001b[49m \u001b[38;5;241m=\u001b[39m \u001b[38;5;124m'\u001b[39m\u001b[38;5;124mNot Possible\u001b[39m\u001b[38;5;124m'\u001b[39m\n\u001b[0;32m      3\u001b[0m \u001b[38;5;28mprint\u001b[39m(tup)\n",
      "\u001b[1;31mTypeError\u001b[0m: 'tuple' object does not support item assignment"
     ]
    }
   ],
   "source": [
    "tup = (1, 'a', 2, 'bcd', 3.4, 5, 'e')\n",
    "tup[3] = 'Not Possible'\n",
    "print(tup)"
   ]
  },
  {
   "cell_type": "code",
   "execution_count": 44,
   "id": "210d2c10",
   "metadata": {},
   "outputs": [
    {
     "ename": "IndexError",
     "evalue": "tuple index out of range",
     "output_type": "error",
     "traceback": [
      "\u001b[1;31m---------------------------------------------------------------------------\u001b[0m",
      "\u001b[1;31mIndexError\u001b[0m                                Traceback (most recent call last)",
      "Cell \u001b[1;32mIn[44], line 2\u001b[0m\n\u001b[0;32m      1\u001b[0m tup \u001b[38;5;241m=\u001b[39m (\u001b[38;5;241m1\u001b[39m,\u001b[38;5;241m2\u001b[39m,\u001b[38;5;241m3\u001b[39m)\n\u001b[1;32m----> 2\u001b[0m \u001b[38;5;28mprint\u001b[39m(\u001b[43mtup\u001b[49m\u001b[43m[\u001b[49m\u001b[38;5;241;43m10\u001b[39;49m\u001b[43m]\u001b[49m)\n",
      "\u001b[1;31mIndexError\u001b[0m: tuple index out of range"
     ]
    }
   ],
   "source": [
    "tup = (1,2,3)\n",
    "print(tup[10])"
   ]
  },
  {
   "cell_type": "code",
   "execution_count": 47,
   "id": "4aba64ce",
   "metadata": {},
   "outputs": [
    {
     "name": "stdout",
     "output_type": "stream",
     "text": [
      "(1, 2, 3)\n"
     ]
    }
   ],
   "source": [
    "tup = (1,2,3)\n",
    "print(tup[-10:10]) # No error in case of slice"
   ]
  },
  {
   "cell_type": "markdown",
   "id": "53b5ecde",
   "metadata": {},
   "source": [
    "# DELETING ELEMENTS IN TUPLE\n"
   ]
  },
  {
   "cell_type": "markdown",
   "id": "c1cfc894",
   "metadata": {},
   "source": [
    "Since tuple is an immutable data structure, you cannot delete value(s) from it.     \n",
    "Of course, you can create a new tuple that has all elements in your tuple except the ones you do not want (those you wanted to deleted).\n",
    "\n",
    "+ However entire tuple can be deleted by tuple by using the **del** statement."
   ]
  },
  {
   "cell_type": "code",
   "execution_count": 56,
   "id": "f1876549",
   "metadata": {},
   "outputs": [
    {
     "ename": "TypeError",
     "evalue": "'tuple' object doesn't support item deletion",
     "output_type": "error",
     "traceback": [
      "\u001b[1;31m---------------------------------------------------------------------------\u001b[0m",
      "\u001b[1;31mTypeError\u001b[0m                                 Traceback (most recent call last)",
      "Cell \u001b[1;32mIn[56], line 2\u001b[0m\n\u001b[0;32m      1\u001b[0m tup1 \u001b[38;5;241m=\u001b[39m (\u001b[38;5;241m1\u001b[39m,\u001b[38;5;241m2\u001b[39m,\u001b[38;5;241m3\u001b[39m,\u001b[38;5;241m4\u001b[39m,\u001b[38;5;241m5\u001b[39m)\n\u001b[1;32m----> 2\u001b[0m \u001b[38;5;28;01mdel\u001b[39;00m \u001b[43mtup1\u001b[49m\u001b[43m[\u001b[49m\u001b[38;5;241;43m3\u001b[39;49m\u001b[43m]\u001b[49m  \u001b[38;5;66;03m# delete an element\u001b[39;00m\n\u001b[0;32m      3\u001b[0m \u001b[38;5;28mprint\u001b[39m(tup1)\n",
      "\u001b[1;31mTypeError\u001b[0m: 'tuple' object doesn't support item deletion"
     ]
    }
   ],
   "source": [
    "tup1 = (1,2,3,4,5)\n",
    "del tup1[3]  # delete an element\n",
    "print(tup1)"
   ]
  },
  {
   "cell_type": "code",
   "execution_count": 57,
   "id": "c835908e",
   "metadata": {},
   "outputs": [
    {
     "ename": "TypeError",
     "evalue": "'tuple' object does not support item deletion",
     "output_type": "error",
     "traceback": [
      "\u001b[1;31m---------------------------------------------------------------------------\u001b[0m",
      "\u001b[1;31mTypeError\u001b[0m                                 Traceback (most recent call last)",
      "Cell \u001b[1;32mIn[57], line 2\u001b[0m\n\u001b[0;32m      1\u001b[0m tup1 \u001b[38;5;241m=\u001b[39m (\u001b[38;5;241m1\u001b[39m,\u001b[38;5;241m2\u001b[39m,\u001b[38;5;241m3\u001b[39m,\u001b[38;5;241m4\u001b[39m,\u001b[38;5;241m5\u001b[39m)\n\u001b[1;32m----> 2\u001b[0m \u001b[38;5;28;01mdel\u001b[39;00m \u001b[43mtup1\u001b[49m\u001b[43m[\u001b[49m\u001b[38;5;241;43m1\u001b[39;49m\u001b[43m:\u001b[49m\u001b[38;5;241;43m4\u001b[39;49m\u001b[43m]\u001b[49m  \u001b[38;5;66;03m# delete an element\u001b[39;00m\n\u001b[0;32m      3\u001b[0m \u001b[38;5;28mprint\u001b[39m(tup1)\n",
      "\u001b[1;31mTypeError\u001b[0m: 'tuple' object does not support item deletion"
     ]
    }
   ],
   "source": [
    "tup1 = (1,2,3,4,5)\n",
    "del tup1[1:4]  # delete an element\n",
    "print(tup1)"
   ]
  },
  {
   "cell_type": "code",
   "execution_count": 58,
   "id": "d6450680",
   "metadata": {},
   "outputs": [],
   "source": [
    "tup4 = (1,2,3,4,5)\n",
    "del tup4  # deleting whole tuple"
   ]
  },
  {
   "cell_type": "code",
   "execution_count": 59,
   "id": "92f0d917",
   "metadata": {},
   "outputs": [
    {
     "ename": "NameError",
     "evalue": "name 'tup4' is not defined",
     "output_type": "error",
     "traceback": [
      "\u001b[1;31m---------------------------------------------------------------------------\u001b[0m",
      "\u001b[1;31mNameError\u001b[0m                                 Traceback (most recent call last)",
      "Cell \u001b[1;32mIn[59], line 1\u001b[0m\n\u001b[1;32m----> 1\u001b[0m \u001b[38;5;28mprint\u001b[39m(\u001b[43mtup4\u001b[49m)\n",
      "\u001b[1;31mNameError\u001b[0m: name 'tup4' is not defined"
     ]
    }
   ],
   "source": [
    "print(tup4)"
   ]
  },
  {
   "cell_type": "markdown",
   "id": "f6bd3e5f",
   "metadata": {},
   "source": [
    "# JOINING TUPLES"
   ]
  },
  {
   "cell_type": "markdown",
   "id": "687fe9ee",
   "metadata": {},
   "source": [
    "+ Like lists, two or more tuples can be joined using the **+** operator.  \n",
    "+ The **+** operator requires that both the operand must be of tuple types.  \n",
    "+ Number or any other data tupye vales cannot be added to a tuple.  \n",
    "+ To add a single element to a tuple, we must use comma after the value"
   ]
  },
  {
   "cell_type": "code",
   "execution_count": 61,
   "id": "22ae56d7",
   "metadata": {},
   "outputs": [
    {
     "name": "stdout",
     "output_type": "stream",
     "text": [
      "(1, 2, 3, 4, 5, 6)\n"
     ]
    }
   ],
   "source": [
    "# joining tuple\n",
    "tup1 = (1,2,3)\n",
    "tup2 = (4,5,6)\n",
    "tup3 = tup1 + tup2\n",
    "print(tup3)"
   ]
  },
  {
   "cell_type": "code",
   "execution_count": 62,
   "id": "1d0c1109",
   "metadata": {},
   "outputs": [
    {
     "ename": "TypeError",
     "evalue": "can only concatenate tuple (not \"str\") to tuple",
     "output_type": "error",
     "traceback": [
      "\u001b[1;31m---------------------------------------------------------------------------\u001b[0m",
      "\u001b[1;31mTypeError\u001b[0m                                 Traceback (most recent call last)",
      "Cell \u001b[1;32mIn[62], line 3\u001b[0m\n\u001b[0;32m      1\u001b[0m \u001b[38;5;66;03m# joining tuples with a non number value\u001b[39;00m\n\u001b[0;32m      2\u001b[0m tup1 \u001b[38;5;241m=\u001b[39m (\u001b[38;5;241m1\u001b[39m,\u001b[38;5;241m2\u001b[39m,\u001b[38;5;241m3\u001b[39m)\n\u001b[1;32m----> 3\u001b[0m tup2 \u001b[38;5;241m=\u001b[39m \u001b[43mtup1\u001b[49m\u001b[43m \u001b[49m\u001b[38;5;241;43m+\u001b[39;49m\u001b[43m \u001b[49m\u001b[38;5;124;43m'\u001b[39;49m\u001b[38;5;124;43ma\u001b[39;49m\u001b[38;5;124;43m'\u001b[39;49m\n\u001b[0;32m      4\u001b[0m \u001b[38;5;28mprint\u001b[39m(tup2)\n",
      "\u001b[1;31mTypeError\u001b[0m: can only concatenate tuple (not \"str\") to tuple"
     ]
    }
   ],
   "source": [
    "# joining tuples with a non-number value\n",
    "tup1 = (1,2,3)\n",
    "tup2 = tup1 + 'a'\n",
    "print(tup2)"
   ]
  },
  {
   "cell_type": "code",
   "execution_count": 63,
   "id": "3e5d61ea",
   "metadata": {},
   "outputs": [
    {
     "name": "stdout",
     "output_type": "stream",
     "text": [
      "(1, 2, 3, 4)\n"
     ]
    }
   ],
   "source": [
    "tup1 = (1,2,3)\n",
    "tup2 = tup1 + (4,)\n",
    "print(tup2)"
   ]
  },
  {
   "cell_type": "markdown",
   "id": "ba6c9f57",
   "metadata": {},
   "source": [
    "# UNPACKING TUPLES"
   ]
  },
  {
   "cell_type": "markdown",
   "id": "62994ce9",
   "metadata": {},
   "source": [
    "+ Creating a tuple from a set of vakues is called packing.\n",
    "+ Creating individual values from a tuple is known as unpacking.\n",
    "+ The syntax of unpacking can be given as:\n",
    "> var1, var2, var3, ..., varn = tuple_variable\n",
    "+ Tuple packing and unpacking are very useful to change the values in a tuple."
   ]
  },
  {
   "cell_type": "code",
   "execution_count": 67,
   "id": "e452ae4b",
   "metadata": {},
   "outputs": [
    {
     "name": "stdout",
     "output_type": "stream",
     "text": [
      "a =  1 | b =  a | c =  2.0 | d =  bcd | e =  3 | "
     ]
    }
   ],
   "source": [
    "# Unpacking tuple\n",
    "tup = (1, 'a', 2.0, 'bcd', 3)\n",
    "(a,b,c,d,e) = tup\n",
    "print(\"a = \", a, end = \" | \")\n",
    "print(\"b = \", b, end = \" | \")\n",
    "print(\"c = \", c, end = \" | \")\n",
    "print(\"d = \", d, end = \" | \")\n",
    "print(\"e = \", e, end = \" | \")"
   ]
  },
  {
   "cell_type": "code",
   "execution_count": 68,
   "id": "45a271c1",
   "metadata": {},
   "outputs": [
    {
     "name": "stdout",
     "output_type": "stream",
     "text": [
      "tup =  (1, 'a', 2, 'bcd')\n"
     ]
    }
   ],
   "source": [
    "# Packing tuple\n",
    "a= 1; b = 'a'; c = 2; d = 'bcd'\n",
    "tup = (a,b,c,d)\n",
    "print(\"tup = \", tup)"
   ]
  },
  {
   "cell_type": "markdown",
   "id": "a44fb186",
   "metadata": {},
   "source": [
    "### In case we need to change the values in a tuple, there are three ways:  \n",
    "\n",
    "1. Create a new tuple with modified values\n",
    "2. First unpack the tuples into variables. Modify the value of the variables and then pack those variable to form a tuple.\n",
    "3. Convert a tuple into a list using the **list()** function. Modify the list values and then use the **tuple()** function to convert the list into a tuple."
   ]
  },
  {
   "cell_type": "code",
   "execution_count": 70,
   "id": "fb6728a7",
   "metadata": {},
   "outputs": [
    {
     "name": "stdout",
     "output_type": "stream",
     "text": [
      "(1, 2, 3, 4)\n"
     ]
    }
   ],
   "source": [
    "## first way\n",
    "tup1 = (1,2,4,4)\n",
    "tup2 = (1,2,3,4) # changed tuple\n",
    "print(tup2)"
   ]
  },
  {
   "cell_type": "code",
   "execution_count": 71,
   "id": "71556902",
   "metadata": {},
   "outputs": [
    {
     "name": "stdout",
     "output_type": "stream",
     "text": [
      "(1, 2, 3, 4)\n"
     ]
    }
   ],
   "source": [
    "# second way\n",
    "tup1 = (1,2,4,4)\n",
    "a,b,c,d = tup1\n",
    "c = 3\n",
    "tup1 = (a,b,c,d)\n",
    "print(tup1)"
   ]
  },
  {
   "cell_type": "code",
   "execution_count": 72,
   "id": "b37e838b",
   "metadata": {},
   "outputs": [
    {
     "name": "stdout",
     "output_type": "stream",
     "text": [
      "(1, 2, 3, 4)\n"
     ]
    }
   ],
   "source": [
    "# third way\n",
    "tup1 = (1,2,4,4)\n",
    "l = list(tup1)\n",
    "l[2] = 3\n",
    "print(tuple(l))"
   ]
  },
  {
   "cell_type": "markdown",
   "id": "024354e5",
   "metadata": {},
   "source": [
    "# BASIC TUPLE OPERATIONS"
   ]
  },
  {
   "cell_type": "code",
   "execution_count": null,
   "id": "30106a9b",
   "metadata": {},
   "outputs": [],
   "source": []
  }
 ],
 "metadata": {
  "kernelspec": {
   "display_name": "Python 3 (ipykernel)",
   "language": "python",
   "name": "python3"
  },
  "language_info": {
   "codemirror_mode": {
    "name": "ipython",
    "version": 3
   },
   "file_extension": ".py",
   "mimetype": "text/x-python",
   "name": "python",
   "nbconvert_exporter": "python",
   "pygments_lexer": "ipython3",
   "version": "3.11.0"
  }
 },
 "nbformat": 4,
 "nbformat_minor": 5
}
