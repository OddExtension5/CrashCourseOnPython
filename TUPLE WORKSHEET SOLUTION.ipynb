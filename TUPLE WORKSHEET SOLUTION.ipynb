{
 "cells": [
  {
   "cell_type": "markdown",
   "id": "97f03901",
   "metadata": {},
   "source": [
    "# WORKSHEET ON TUPLE"
   ]
  },
  {
   "cell_type": "markdown",
   "id": "83e4d079",
   "metadata": {},
   "source": [
    "## MCQ\n",
    "\n",
    "```python\n",
    "\n",
    "1. (a) (1,)   (d) tuple([1])\n",
    "2. (b) (2, 4, 3, 2, 4, 3)\n",
    "3. (d) Error\n",
    "4. (c) max()   (d) sum()\n",
    "5. (c) True\n",
    "6. (a) +\n",
    "7. (d) T[3]\n",
    "```"
   ]
  },
  {
   "cell_type": "markdown",
   "id": "a5ee160d",
   "metadata": {},
   "source": [
    "## ASSERTION AND REASONING BASED:"
   ]
  },
  {
   "cell_type": "code",
   "execution_count": null,
   "id": "ad225ae1",
   "metadata": {},
   "outputs": [],
   "source": []
  },
  {
   "cell_type": "markdown",
   "id": "99031ba1",
   "metadata": {},
   "source": [
    "## CASE BASED QUESTIONS"
   ]
  },
  {
   "cell_type": "markdown",
   "id": "68ad7e81",
   "metadata": {},
   "source": [
    "```python\n",
    "12.  \n",
    "(a) T1[1:6]\n",
    "(b) T1[-4:]\n",
    "(c) T1[:7:2]\n",
    "(d) T1[1:-2:3]\n",
    "\n",
    "13.\n",
    "T1=(23,41,12,78,82,33,45,29)\n",
    "print(T1.index(12))      <--- (c) 2\n",
    "print(T1[3:])            <--- (d) (78, 82, 33, 45, 29) \n",
    "print(max(T1) - min(T1)) <--- (a) 70\n",
    "print(list(T1[:4]))      <--- (b) [23, 41, 12, 78]\n",
    "\n",
    "14.\n",
    "T1=eval(input())\n",
    "tln=len(T1)\n",
    "\n",
    "for x in T1:\n",
    "    if(x<10):\n",
    "        c1=c1+1\n",
    "    elif(x<100):\n",
    "        c2=c2+1\n",
    "    else:\n",
    "        c3=c3+1\n",
    "        \n",
    "(a) LINE 17\n",
    "(b) LINE 16\n",
    "(c) LINE 19\n",
    "(d) LINE 22 23\n",
    "```"
   ]
  },
  {
   "cell_type": "markdown",
   "id": "e41c240a",
   "metadata": {},
   "source": [
    "## SAQ (APPLICATION BASED):"
   ]
  },
  {
   "cell_type": "markdown",
   "id": "8c841b85",
   "metadata": {},
   "source": [
    "```python\n",
    "15. \n",
    "(i)   False\n",
    "(ii)  False\n",
    "(iii) True\n",
    "(iv)  True\n",
    "\n",
    "16.\n",
    "4\n",
    "17\n",
    "\n",
    "17. \n",
    "(i) 3\n",
    "(ii) 5\n",
    "(iii) 10\n",
    "\n",
    "18. \n",
    "(a) TypeError: Because of the line 22 where (3,) is a tuple it must be  integer.\n",
    "t3 = (6, 7)\n",
    "t4 = t3*3\n",
    "t5 = t3 * (3)\n",
    "t6 = t3 * (3,)\n",
    "print(t4)\n",
    "print(t5)\n",
    "print(t6)\n",
    "\n",
    "(b) NO ERROR\n",
    "\n",
    "19.\n",
    "True\n",
    "\n",
    "20. \n",
    "4\n",
    "\n",
    "21.\n",
    "(i) 5\n",
    "(ii) 8\n",
    "\n",
    "22.\n",
    "x = (1, (2, (3, (4,))))\n",
    "print (len(x) )           <-- 2\n",
    "print( x[1][0] )          <-- 2\n",
    "print( 2 in x )           <-- False\n",
    "\n",
    "y = (1, (2, (3,), 4), 5)\n",
    "print( len(y) )           <-- 3\n",
    "print( len(y[1]) )        <-- 3\n",
    "print( y[2] = 50 )        <-- Syntax Error\n",
    "\n",
    "z = (2, (1, (2,), 1), 1)\n",
    "print( z[z[z[0]]] )       <-- (1, (2,), 1)\n",
    "\n",
    "23.\n",
    "(i) ('c', 'd', 'e')\n",
    "(ii) (('g', 'h', 'i'), 'k')\n",
    "(iii) ('k', ('g', 'h', 'i'), 'e', 'c', 'a')\n",
    "(iv) 'h'\n",
    "(v) ('k', 'f', 'c')\n",
    "\n",
    "24. \n",
    "T=('Jack','and','Jill','went','up','the','the','hill')\n",
    "\n",
    "(i) T[2:5]\n",
    "(ii) T[::2]\n",
    "(iii) T.index('Jill')\n",
    "(iv) sorted(T)\n",
    "\n",
    "```"
   ]
  },
  {
   "cell_type": "markdown",
   "id": "80be9a3a",
   "metadata": {},
   "source": [
    "## THEORY QUESTIONS"
   ]
  },
  {
   "cell_type": "code",
   "execution_count": null,
   "id": "bda17c05",
   "metadata": {},
   "outputs": [],
   "source": []
  },
  {
   "cell_type": "markdown",
   "id": "44cf2a48",
   "metadata": {},
   "source": [
    "## PROGRAM:"
   ]
  },
  {
   "cell_type": "code",
   "execution_count": 79,
   "id": "18d9eda7",
   "metadata": {},
   "outputs": [
    {
     "name": "stdout",
     "output_type": "stream",
     "text": [
      "Enter the tuple =(1,2,3,4)\n",
      "Enter the index number =2\n",
      "value is = 3\n"
     ]
    }
   ],
   "source": [
    "# 31\n",
    "a = eval (input('Enter the tuple ='))\n",
    "b = int (input (\"Enter the index number =\"))\n",
    "if b < len(a):\n",
    "    print (\"Value is =\", a[b])\n",
    "else :\n",
    "    print (\"Index out of range\")"
   ]
  },
  {
   "cell_type": "code",
   "execution_count": 81,
   "id": "7fa4e8f4",
   "metadata": {},
   "outputs": [
    {
     "name": "stdout",
     "output_type": "stream",
     "text": [
      "Enter Fibonacci Term =36\n",
      "Not Exist in Fibonacci Series \n"
     ]
    }
   ],
   "source": [
    "# 32\n",
    "term= int (input (\"Enter Fibonacci Term =\"))\n",
    "fib = (0,1,1)\n",
    "\n",
    "for i in range(term):\n",
    "    fib = fib + ( fib [ i + 1] + fib [ i + 2 ],)\n",
    "    \n",
    "for j in range(len(fib)):\n",
    "    if term == fib[ j ] :\n",
    "        break\n",
    "        \n",
    "if j == len(fib)-1:\n",
    "    print(\"Not Exist in Fibonacci Series \")\n",
    "else :\n",
    "    print(\"Fibonacci Series :- \", fib [ 0 :j +1] )\n",
    "    print()\n",
    "    print(\"This is \",j + 1,\"th term of Fibonacci \")"
   ]
  },
  {
   "cell_type": "code",
   "execution_count": 82,
   "id": "0f6b454e",
   "metadata": {},
   "outputs": [
    {
     "name": "stdout",
     "output_type": "stream",
     "text": [
      "Enter the marks of student 1\n",
      "Enter marks in first subject: 12\n",
      "Enter marks in second subject: 12\n",
      "Enter marks in third subject: 12\n",
      "\n",
      "Enter the marks of student 2\n",
      "Enter marks in first subject: 221\n",
      "Enter marks in second subject: 23\n",
      "Enter marks in third subject: 23\n",
      "\n",
      "Enter the marks of student 3\n",
      "Enter marks in first subject: 1232\n",
      "Enter marks in second subject: 133\n",
      "Enter marks in third subject: 13\n",
      "\n",
      "Enter the marks of student 4\n",
      "Enter marks in first subject: 112\n",
      "Enter marks in second subject: 122\n",
      "Enter marks in third subject: 21\n",
      "\n",
      "Enter the marks of student 5\n",
      "Enter marks in first subject: \n"
     ]
    },
    {
     "ename": "ValueError",
     "evalue": "invalid literal for int() with base 10: ''",
     "output_type": "error",
     "traceback": [
      "\u001b[1;31m---------------------------------------------------------------------------\u001b[0m",
      "\u001b[1;31mValueError\u001b[0m                                Traceback (most recent call last)",
      "Cell \u001b[1;32mIn[82], line 8\u001b[0m\n\u001b[0;32m      6\u001b[0m \u001b[38;5;28;01mfor\u001b[39;00m i \u001b[38;5;129;01min\u001b[39;00m \u001b[38;5;28mrange\u001b[39m(num_of_students):\n\u001b[0;32m      7\u001b[0m     \u001b[38;5;28mprint\u001b[39m(\u001b[38;5;124m\"\u001b[39m\u001b[38;5;124mEnter the marks of student\u001b[39m\u001b[38;5;124m\"\u001b[39m, i \u001b[38;5;241m+\u001b[39m \u001b[38;5;241m1\u001b[39m)\n\u001b[1;32m----> 8\u001b[0m     m1 \u001b[38;5;241m=\u001b[39m \u001b[38;5;28;43mint\u001b[39;49m\u001b[43m(\u001b[49m\u001b[38;5;28;43minput\u001b[39;49m\u001b[43m(\u001b[49m\u001b[38;5;124;43m\"\u001b[39;49m\u001b[38;5;124;43mEnter marks in first subject: \u001b[39;49m\u001b[38;5;124;43m\"\u001b[39;49m\u001b[43m)\u001b[49m\u001b[43m)\u001b[49m\n\u001b[0;32m      9\u001b[0m     m2 \u001b[38;5;241m=\u001b[39m \u001b[38;5;28mint\u001b[39m(\u001b[38;5;28minput\u001b[39m(\u001b[38;5;124m\"\u001b[39m\u001b[38;5;124mEnter marks in second subject: \u001b[39m\u001b[38;5;124m\"\u001b[39m))\n\u001b[0;32m     10\u001b[0m     m3 \u001b[38;5;241m=\u001b[39m \u001b[38;5;28mint\u001b[39m(\u001b[38;5;28minput\u001b[39m(\u001b[38;5;124m\"\u001b[39m\u001b[38;5;124mEnter marks in third subject: \u001b[39m\u001b[38;5;124m\"\u001b[39m))\n",
      "\u001b[1;31mValueError\u001b[0m: invalid literal for int() with base 10: ''"
     ]
    }
   ],
   "source": [
    "# 33\n",
    "num_of_students = 5\n",
    "tup = ()\n",
    "\n",
    "for i in range(num_of_students):\n",
    "    print(\"Enter the marks of student\", i + 1)\n",
    "    m1 = int(input(\"Enter marks in first subject: \"))\n",
    "    m2 = int(input(\"Enter marks in second subject: \"))\n",
    "    m3 = int(input(\"Enter marks in third subject: \"))\n",
    "    tup = tup + ((m1, m2, m3),)\n",
    "    print()\n",
    "    \n",
    "print(\"Nested tuple of student data is:\", tup)"
   ]
  },
  {
   "cell_type": "code",
   "execution_count": null,
   "id": "113d4fc9",
   "metadata": {},
   "outputs": [],
   "source": [
    "# 34"
   ]
  },
  {
   "cell_type": "code",
   "execution_count": null,
   "id": "52f85ee9",
   "metadata": {},
   "outputs": [],
   "source": [
    "# 35\n",
    "tup1 = eval(input(\"Enter the elements of first tuple: \"))\n",
    "tup2 = eval(input(\"Enter the elements of second tuple: \"))\n",
    "tup3 = tup1 + tup2\n",
    "print(tup3)"
   ]
  },
  {
   "cell_type": "code",
   "execution_count": 83,
   "id": "d982d8f9",
   "metadata": {},
   "outputs": [
    {
     "name": "stdout",
     "output_type": "stream",
     "text": [
      "The number of pair where both a and b are even: 2\n"
     ]
    }
   ],
   "source": [
    "# 36\n",
    "tup = ((2,5),(4,2),(9,8),(12,10))\n",
    "count = 0\n",
    "tup_length = len(tup)\n",
    "for  i in range (tup_length):\n",
    "    if tup [i][0] % 2 == 0 and tup[i][1] % 2 == 0:\n",
    "        count = count + 1\n",
    "print(\"The number of pair where both a and b are even:\", count)"
   ]
  },
  {
   "cell_type": "code",
   "execution_count": null,
   "id": "4e61f639",
   "metadata": {},
   "outputs": [],
   "source": [
    "# 37"
   ]
  },
  {
   "cell_type": "code",
   "execution_count": null,
   "id": "a328e076",
   "metadata": {},
   "outputs": [],
   "source": [
    "# 38"
   ]
  },
  {
   "cell_type": "code",
   "execution_count": null,
   "id": "b5dd8b18",
   "metadata": {},
   "outputs": [],
   "source": [
    "# 39"
   ]
  }
 ],
 "metadata": {
  "kernelspec": {
   "display_name": "Python 3 (ipykernel)",
   "language": "python",
   "name": "python3"
  },
  "language_info": {
   "codemirror_mode": {
    "name": "ipython",
    "version": 3
   },
   "file_extension": ".py",
   "mimetype": "text/x-python",
   "name": "python",
   "nbconvert_exporter": "python",
   "pygments_lexer": "ipython3",
   "version": "3.11.0"
  }
 },
 "nbformat": 4,
 "nbformat_minor": 5
}
