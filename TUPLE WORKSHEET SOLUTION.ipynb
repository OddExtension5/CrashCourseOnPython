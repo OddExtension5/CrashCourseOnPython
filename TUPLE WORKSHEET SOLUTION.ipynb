{
 "cells": [
  {
   "cell_type": "markdown",
   "id": "480503d2",
   "metadata": {},
   "source": [
    "# WORKSHEET ON TUPLE"
   ]
  },
  {
   "cell_type": "markdown",
   "id": "8d6fec20",
   "metadata": {},
   "source": [
    "## MCQ\n",
    "\n",
    "```python\n",
    "\n",
    "1. (a) (1,)   (d) tuple([1])\n",
    "2. (b) (2, 4, 3, 2, 4, 3)\n",
    "3. (d) Error\n",
    "4. (c) max()   (d) sum()\n",
    "5. (c) True\n",
    "6. (a) +\n",
    "7. (d) T[3]\n",
    "```"
   ]
  },
  {
   "cell_type": "markdown",
   "id": "9a0a7ce0",
   "metadata": {},
   "source": [
    "## ASSERTION AND REASONING BASED:"
   ]
  },
  {
   "cell_type": "code",
   "execution_count": null,
   "id": "07f8ac84",
   "metadata": {},
   "outputs": [],
   "source": []
  },
  {
   "cell_type": "markdown",
   "id": "aa3611a2",
   "metadata": {},
   "source": [
    "## CASE BASED QUESTIONS"
   ]
  },
  {
   "cell_type": "markdown",
   "id": "d32f5ac8",
   "metadata": {},
   "source": [
    "```python\n",
    "12.  \n",
    "(a) T1[1:6]\n",
    "(b) T1[-4:]\n",
    "(c) T1[:7:2]\n",
    "(d) T1[1:-2:3]\n",
    "\n",
    "13.\n",
    "T1=(23,41,12,78,82,33,45,29)\n",
    "print(T1.index(12))      <--- (c) 2\n",
    "print(T1[3:])            <--- (d) (78, 82, 33, 45, 29) \n",
    "print(max(T1) - min(T1)) <--- (a) 70\n",
    "print(list(T1[:4]))      <--- (b) [23, 41, 12, 78]\n",
    "\n",
    "14.\n",
    "T1=eval(input())\n",
    "tln=len(T1)\n",
    "\n",
    "for x in T1:\n",
    "    if(x<10):\n",
    "        c1=c1+1\n",
    "    elif(x<100):\n",
    "        c2=c2+1\n",
    "    else:\n",
    "        c3=c3+1\n",
    "        \n",
    "(a) LINE 17\n",
    "(b) LINE 16\n",
    "(c) LINE 19\n",
    "(d) LINE 22 23\n",
    "```"
   ]
  },
  {
   "cell_type": "markdown",
   "id": "cb17ab59",
   "metadata": {},
   "source": [
    "## SAQ (APPLICATION BASED):"
   ]
  },
  {
   "cell_type": "markdown",
   "id": "7c73ba70",
   "metadata": {},
   "source": [
    "```python\n",
    "15. \n",
    "(i)   False\n",
    "(ii)  False\n",
    "(iii) True\n",
    "(iv)  True\n",
    "\n",
    "16.\n",
    "4\n",
    "17\n",
    "\n",
    "17. \n",
    "(i) 3\n",
    "(ii) 5\n",
    "(iii) 10\n",
    "\n",
    "18. \n",
    "(a) TypeError: Because of the line 22 where (3,) is a tuple it must be  integer.\n",
    "t3 = (6, 7)\n",
    "t4 = t3*3\n",
    "t5 = t3 * (3)\n",
    "t6 = t3 * (3,)\n",
    "print(t4)\n",
    "print(t5)\n",
    "print(t6)\n",
    "\n",
    "(b) NO ERROR\n",
    "\n",
    "19.\n",
    "True\n",
    "\n",
    "20. \n",
    "4\n",
    "\n",
    "21.\n",
    "(i) 5\n",
    "(ii) 8\n",
    "\n",
    "22.\n",
    "x = (1, (2, (3, (4,))))\n",
    "print (len(x) )           <-- 2\n",
    "print( x[1][0] )          <-- 2\n",
    "print( 2 in x )           <-- False\n",
    "\n",
    "y = (1, (2, (3,), 4), 5)\n",
    "print( len(y) )           <-- 3\n",
    "print( len(y[1]) )        <-- 3\n",
    "print( y[2] = 50 )        <-- Syntax Error\n",
    "\n",
    "z = (2, (1, (2,), 1), 1)\n",
    "print( z[z[z[0]]] )       <-- (1, (2,), 1)\n",
    "\n",
    "23.\n",
    "(i) ('c', 'd', 'e')\n",
    "(ii) (('g', 'h', 'i'), 'k')\n",
    "(iii) ('k', ('g', 'h', 'i'), 'e', 'c', 'a')\n",
    "(iv) 'h'\n",
    "(v) ('k', 'f', 'c')\n",
    "\n",
    "24. \n",
    "T=('Jack','and','Jill','went','up','the','the','hill')\n",
    "\n",
    "(i) T[2:5]\n",
    "(ii) T[::2]\n",
    "(iii) T.index('Jill')\n",
    "(iv) sorted(T)\n",
    "\n",
    "```"
   ]
  },
  {
   "cell_type": "markdown",
   "id": "d1af3be0",
   "metadata": {},
   "source": [
    "## THEORY QUESTIONS"
   ]
  },
  {
   "cell_type": "code",
   "execution_count": null,
   "id": "b3e765b0",
   "metadata": {},
   "outputs": [],
   "source": []
  },
  {
   "cell_type": "markdown",
   "id": "c6b20d0a",
   "metadata": {},
   "source": [
    "## PROGRAM:"
   ]
  },
  {
   "cell_type": "code",
   "execution_count": 84,
   "id": "f21cd723",
   "metadata": {},
   "outputs": [
    {
     "name": "stdout",
     "output_type": "stream",
     "text": [
      "Enter the tuple =(1,2,3)\n",
      "Enter the index number =2\n",
      "Value is = 3\n"
     ]
    }
   ],
   "source": [
    "# 31\n",
    "a = eval(input('Enter the tuple ='))\n",
    "b = int(input (\"Enter the index number =\"))\n",
    "\n",
    "if b < len(a):\n",
    "    print (\"Value is =\", a[b])\n",
    "else :\n",
    "    print (\"Index out of range\")"
   ]
  },
  {
   "cell_type": "code",
   "execution_count": 1,
   "id": "c1c48cd4",
   "metadata": {},
   "outputs": [
    {
     "name": "stdout",
     "output_type": "stream",
     "text": [
      "Enter Fibonacci Term =8\n",
      "Fibonacci Series :-  (0, 1, 1, 2, 3, 5, 8)\n",
      "\n",
      "This is  7 th term of Fibonacci \n"
     ]
    }
   ],
   "source": [
    "# 32\n",
    "term= int (input (\"Enter Fibonacci Term =\"))\n",
    "fib = (0,1,1)\n",
    "\n",
    "for i in range(term):\n",
    "    fib = fib + ( fib [ i + 1] + fib [ i + 2 ],)\n",
    "    \n",
    "for j in range(len(fib)):\n",
    "    if term == fib[ j ] :\n",
    "        break\n",
    "        \n",
    "if j == len(fib)-1:\n",
    "    print(\"Not Exist in Fibonacci Series \")\n",
    "else :\n",
    "    print(\"Fibonacci Series :- \", fib [ 0 :j +1] )\n",
    "    print()\n",
    "    print(\"This is \",j + 1,\"th term of Fibonacci \")"
   ]
  },
  {
   "cell_type": "code",
   "execution_count": 2,
   "id": "fd97997a",
   "metadata": {},
   "outputs": [
    {
     "name": "stdout",
     "output_type": "stream",
     "text": [
      "Enter the marks of student 1\n",
      "Enter marks in first subject: 45\n",
      "Enter marks in second subject: 45\n",
      "Enter marks in third subject: 40\n",
      "\n",
      "Enter the marks of student 2\n",
      "Enter marks in first subject: 35\n",
      "Enter marks in second subject: 40\n",
      "Enter marks in third subject: 38\n",
      "\n",
      "Enter the marks of student 3\n",
      "Enter marks in first subject: 36\n",
      "Enter marks in second subject: 30\n",
      "Enter marks in third subject: 38\n",
      "\n",
      "Enter the marks of student 4\n",
      "Enter marks in first subject: 25\n",
      "Enter marks in second subject: 27\n",
      "Enter marks in third subject: 20\n",
      "\n",
      "Enter the marks of student 5\n",
      "Enter marks in first subject: 10\n",
      "Enter marks in second subject: 15\n",
      "Enter marks in third subject: 20\n",
      "\n",
      "Nested tuple of student data is: ((45, 45, 40), (35, 40, 38), (36, 30, 38), (25, 27, 20), (10, 15, 20))\n"
     ]
    }
   ],
   "source": [
    "# 33\n",
    "num_of_students = 5\n",
    "tup = ()\n",
    "\n",
    "for i in range(num_of_students):\n",
    "    print(\"Enter the marks of student\", i + 1)\n",
    "    m1 = int(input(\"Enter marks in first subject: \"))\n",
    "    m2 = int(input(\"Enter marks in second subject: \"))\n",
    "    m3 = int(input(\"Enter marks in third subject: \"))\n",
    "    tup = tup + ((m1, m2, m3),)\n",
    "    print()\n",
    "    \n",
    "print(\"Nested tuple of student data is:\", tup)\n",
    "\n",
    "for i in tup:\n",
    "    s = sum(i)\n",
    "    n = len(i)\n",
    "    print(\"Sum of all the subjects of student\", i+ 1, \"is: \", s)\n",
    "    print(\" Average of Students\", i+1, \"is: \", s/n )"
   ]
  },
  {
   "cell_type": "code",
   "execution_count": 11,
   "id": "55b89ff5",
   "metadata": {},
   "outputs": [
    {
     "name": "stdout",
     "output_type": "stream",
     "text": [
      "Sum of all the subjects of student 1 is:  130\n",
      "Average of student 1 is:  43.33\n",
      "\n",
      "Sum of all the subjects of student 2 is:  113\n",
      "Average of student 2 is:  37.67\n",
      "\n",
      "Sum of all the subjects of student 3 is:  104\n",
      "Average of student 3 is:  34.67\n",
      "\n",
      "Sum of all the subjects of student 4 is:  72\n",
      "Average of student 4 is:  24.0\n",
      "\n",
      "Sum of all the subjects of student 5 is:  45\n",
      "Average of student 5 is:  15.0\n",
      "\n"
     ]
    }
   ],
   "source": [
    "# 34\n",
    "for j, i in enumerate(tup):\n",
    "    s = sum(i)\n",
    "    n = len(i)\n",
    "    print(\"Sum of all the subjects of student\", j+1, \"is: \", s)\n",
    "    print(\"Average of student\", j+1, \"is: \", round(s/n,2) )\n",
    "    print()"
   ]
  },
  {
   "cell_type": "code",
   "execution_count": 12,
   "id": "ffc8d3d9",
   "metadata": {},
   "outputs": [
    {
     "name": "stdout",
     "output_type": "stream",
     "text": [
      "Enter the elements of first tuple: (1,2,3)\n",
      "Enter the elements of second tuple: (4,5,6)\n",
      "(1, 2, 3, 4, 5, 6)\n"
     ]
    }
   ],
   "source": [
    "# 35\n",
    "tup1 = eval(input(\"Enter the elements of first tuple: \"))\n",
    "tup2 = eval(input(\"Enter the elements of second tuple: \"))\n",
    "tup3 = tup1 + tup2\n",
    "print(tup3)"
   ]
  },
  {
   "cell_type": "code",
   "execution_count": 83,
   "id": "26be0696",
   "metadata": {},
   "outputs": [
    {
     "name": "stdout",
     "output_type": "stream",
     "text": [
      "The number of pair where both a and b are even: 2\n"
     ]
    }
   ],
   "source": [
    "# 36\n",
    "tup = ((2,5),(4,2),(9,8),(12,10))\n",
    "count = 0\n",
    "\n",
    "for i in range(len(tup)):\n",
    "    if tup [i][0] % 2 == 0 and tup[i][1] % 2 == 0:\n",
    "        count = count + 1\n",
    "        \n",
    "print(\"The number of pair where both a and b are even:\", count)"
   ]
  },
  {
   "cell_type": "code",
   "execution_count": 20,
   "id": "63d05d0d",
   "metadata": {},
   "outputs": [
    {
     "name": "stdout",
     "output_type": "stream",
     "text": [
      "Enter string in a tuple: ('hello','hi', 'his', 'archisa',        'error', 'none', 'wave', 'indeed', 'numbers', 'work', 'abca')\n",
      "3 => archisa\n",
      "10 => abca\n"
     ]
    }
   ],
   "source": [
    "# 37\n",
    "t = eval(input('Enter string in a tuple: '))\n",
    "\n",
    "\n",
    "for e,i in enumerate(t):\n",
    "    if i[0][0] == i[-1][-1]:\n",
    "        print(e,\"=>\",i)"
   ]
  },
  {
   "cell_type": "code",
   "execution_count": 22,
   "id": "a81d7d6f",
   "metadata": {},
   "outputs": [
    {
     "name": "stdout",
     "output_type": "stream",
     "text": [
      "Enter a set of numbers in a tuple: (2,2,3,4,4,5,1,1,2,3,4,2,3,4,5)\n",
      "Unique elements in a tuple is:  (1, 2, 3, 4, 5)\n"
     ]
    }
   ],
   "source": [
    "# 38\n",
    "t = eval(input(\"Enter a set of numbers in a tuple: \"))\n",
    "\n",
    "print(\"Unique elements in a tuple is: \", tuple(set(t)))"
   ]
  },
  {
   "cell_type": "code",
   "execution_count": 26,
   "id": "3882b299",
   "metadata": {},
   "outputs": [
    {
     "name": "stdout",
     "output_type": "stream",
     "text": [
      "Enter a name of some countries (in tuple): ('UK', 'Cuba', 'India', 'France', 'Australia', 'Switzerland')\n",
      "Enter a capital of those countries (in tuple): ('London', 'Havana', 'New Delhi', 'Paris', 'Canberra', 'Berne')\n",
      "\n",
      "Country:  UK  Capital:  London\n",
      "Country:  Cuba  Capital:  Havana\n",
      "Country:  India  Capital:  New Delhi\n",
      "Country:  France  Capital:  Paris\n",
      "Country:  Australia  Capital:  Canberra\n",
      "Country:  Switzerland  Capital:  Berne\n"
     ]
    }
   ],
   "source": [
    "# 39\n",
    "country = eval(input(\"Enter a name of some countries (in tuple): \"))\n",
    "capitals = eval(input(\"Enter a capital of those countries (in tuple): \"))\n",
    "\n",
    "print()\n",
    "for i in range(len(country)):\n",
    "    if len(country) == len(capitals):\n",
    "        print(\"Country: \", country[i], \" Capital: \", capitals[i])\n",
    "    else:\n",
    "        print(\"Country and Capital is not mapped properly.\")"
   ]
  },
  {
   "cell_type": "code",
   "execution_count": 31,
   "id": "04b79dd1",
   "metadata": {},
   "outputs": [
    {
     "name": "stdout",
     "output_type": "stream",
     "text": [
      "Enter a tuple of String:('abc', 'efghi')\n",
      "Longest word:  efghi\n",
      "Position of Longest word:  2\n"
     ]
    }
   ],
   "source": [
    "# 40\n",
    "st = eval(input(\"Enter a tuple of String:\"))\n",
    "longest_word = st[0] \n",
    "max_len = len(st[0])\n",
    "\n",
    "for index, word in enumerate(st):\n",
    "    if len(word) > max_len:\n",
    "        max_len = len(word)\n",
    "        longest_word = word\n",
    "        pos = index\n",
    "    else:\n",
    "        pos = index \n",
    "        pass\n",
    "    \n",
    "print(\"Longest word: \",longest_word)\n",
    "print(\"Position of Longest word: \", pos + 1)"
   ]
  },
  {
   "cell_type": "markdown",
   "id": "1692ae26",
   "metadata": {},
   "source": [
    "## HOME WORK:"
   ]
  },
  {
   "cell_type": "code",
   "execution_count": 37,
   "id": "f726f47f",
   "metadata": {},
   "outputs": [
    {
     "name": "stdout",
     "output_type": "stream",
     "text": [
      "2\n",
      "3\n",
      "(23, 1, 45, 67, 45, 9, 55, 45, 100, 200)\n",
      "2\n",
      "67\n",
      "1\n",
      "300\n",
      "[1, 9, 23, 45, 45, 45, 55, 67]\n",
      "(23, 1, 45, 67, 45, 9, 55, 45)\n"
     ]
    }
   ],
   "source": [
    "# 41\n",
    "tuple1 = (23,1,45,67,45,9,55,45)\n",
    "tuple2 = (100,200)\n",
    "\n",
    "# Find the output of the following statements:\n",
    "print(tuple1.index(45))\n",
    "print(tuple1.count(45))\n",
    "print(tuple1 + tuple2)\n",
    "print(len(tuple2))\n",
    "print(max(tuple1)) \n",
    "print(min(tuple1))\n",
    "print(sum(tuple2))\n",
    "print(sorted(tuple1))\n",
    "print(tuple1)"
   ]
  },
  {
   "cell_type": "code",
   "execution_count": 39,
   "id": "094ea929",
   "metadata": {},
   "outputs": [
    {
     "name": "stdout",
     "output_type": "stream",
     "text": [
      "Enter number of students : 3\n",
      "Enter email: abcde123@gmail.com\n",
      "Enter email: dpskolkata2021@yahoo.com\n",
      "Enter email: nogmail707@hotmail.com\n",
      "Names =  ('abcde123', 'dpskolkata2021', 'nogmail707')\n",
      "Domains =  ('gmail.com', 'yahoo.com', 'hotmail.com')\n",
      "Tuple =  ('abcde123@gmail.com', 'dpskolkata2021@yahoo.com', 'nogmail707@hotmail.com')\n"
     ]
    }
   ],
   "source": [
    "# 42\n",
    "n = int(input(\"Enter number of students : \"))\n",
    "list1=[]\n",
    "\n",
    "for i in range(n):\n",
    "    email=input(\"Enter email: \")\n",
    "    list1.append(email)\n",
    "\n",
    "tuple1=tuple(list1)\n",
    "names=[]\n",
    "domains=[]\n",
    "\n",
    "for i in tuple1:\n",
    "    name,domain = i.split(\"@\")\n",
    "    names.append(name)\n",
    "    domains.append(domain)\n",
    "\n",
    "names = tuple(names)\n",
    "domains = tuple(domains)\n",
    "print(\"Names = \",names)\n",
    "print(\"Domains = \",domains)\n",
    "print(\"Tuple = \",tuple1)"
   ]
  },
  {
   "cell_type": "code",
   "execution_count": 42,
   "id": "3ee472f1",
   "metadata": {},
   "outputs": [
    {
     "name": "stdout",
     "output_type": "stream",
     "text": [
      "Enter the number of students: 2\n",
      "subham\n",
      "simran\n",
      "Enter name to find: simran\n",
      "Name found\n",
      "Name found\n"
     ]
    }
   ],
   "source": [
    "# 43\n",
    "n = int(input(\"Enter the number of students: \"))\n",
    "list1 = []\n",
    "\n",
    "for i in range(n):\n",
    "    name = input()\n",
    "    list1.append(name)\n",
    "    \n",
    "# makes a tuple from the list of names\n",
    "tuple1 = tuple(list1)\n",
    "findName = input(\"Enter name to find: \")\n",
    "\n",
    "# part (a) a user defined function to search\n",
    "def userDefinedSearch():\n",
    "    #loops through every element of tuple\n",
    "    for item in tuple1:\n",
    "        #if any element is equal to what we are finding\n",
    "        if item == findName:\n",
    "            #announce item found\n",
    "            print(\"Name found\")\n",
    "            return #return from the function\n",
    "        #this statement is reached only if the element is not fou\n",
    "    print(\"Name not found\")\n",
    "\n",
    "#calling user defined function\n",
    "userDefinedSearch()\n",
    "\n",
    "if tuple1.index(findName) >=0 :\n",
    "    print(\"Name found\")\n",
    "else:\n",
    "    print(\"Name not found\")"
   ]
  },
  {
   "cell_type": "code",
   "execution_count": 32,
   "id": "919d6a0e",
   "metadata": {},
   "outputs": [
    {
     "name": "stdout",
     "output_type": "stream",
     "text": [
      "Enter a numbers in a tuple: (10,20,30,40,50,60)\n",
      "New Tuple 1 is:  (10, 30, 50)\n",
      "New Tuple 2 isL  (20, 40, 60)\n"
     ]
    }
   ],
   "source": [
    "# 49\n",
    "\n",
    "t = eval(input(\"Enter a numbers in a tuple: \"))\n",
    "new_tup1 = t[::2]\n",
    "new_tup2 = t[1::2]\n",
    "\n",
    "print(\"New Tuple 1 is: \", new_tup1)\n",
    "print(\"New Tuple 2 isL \", new_tup2)"
   ]
  },
  {
   "cell_type": "code",
   "execution_count": 33,
   "id": "21679720",
   "metadata": {},
   "outputs": [
    {
     "name": "stdout",
     "output_type": "stream",
     "text": [
      "Enter a tuple 1: (10,30,50,40,60)\n",
      "Enter a tuple 2: (20,40,60,70)\n",
      "Intersection of tuples is:  (40, 60)\n"
     ]
    }
   ],
   "source": [
    "# 50\n",
    "t1 = eval(input(\"Enter a tuple 1: \"))\n",
    "t2 = eval(input(\"Enter a tuple 2: \"))\n",
    "t3 = ()\n",
    "\n",
    "for i in t1:\n",
    "    for j in t2:\n",
    "        if i == j:\n",
    "            t3 = t3 + (i, )\n",
    "            \n",
    "print(\"Intersection of tuples is: \", t3)"
   ]
  },
  {
   "cell_type": "code",
   "execution_count": null,
   "id": "a291a9f6",
   "metadata": {},
   "outputs": [],
   "source": []
  }
 ],
 "metadata": {
  "kernelspec": {
   "display_name": "Python 3 (ipykernel)",
   "language": "python",
   "name": "python3"
  },
  "language_info": {
   "codemirror_mode": {
    "name": "ipython",
    "version": 3
   },
   "file_extension": ".py",
   "mimetype": "text/x-python",
   "name": "python",
   "nbconvert_exporter": "python",
   "pygments_lexer": "ipython3",
   "version": "3.11.0"
  }
 },
 "nbformat": 4,
 "nbformat_minor": 5
}
