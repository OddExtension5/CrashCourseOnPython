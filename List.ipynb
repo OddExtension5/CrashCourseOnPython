{
 "cells": [
  {
   "cell_type": "markdown",
   "id": "927560df",
   "metadata": {},
   "source": [
    "### List\n",
    "\n",
    "- List is a collection which is ordered and changeable. Allows duplicate members.\n",
    "\n",
    "\n",
    "- Lists are created using square brackets:\n",
    "\n",
    "```python\n",
    "thislist = [\"apple\", \"banana\", \"cherry\"] \n",
    "```\n",
    "\n",
    "- List items are ordered, changeable, and allow duplicate values.\n",
    "\n",
    "- List items are indexed, the first item has index `[0]`, the second item has index `[1]` etc.\n",
    "\n",
    "- The list is changeable, meaning that we can change, add, and remove items in a list after it has been created.\n",
    "\n",
    "- To determine how many items a list has, use the `len()` function.\n",
    "\n",
    "- A list can contain different data types:\n",
    "```python\n",
    "list1 = [\"abc\", 34, True, 40, \"male\"]\n",
    "```\n",
    "- It is also possible to use the list() constructor when creating a new list\n",
    "```python\n",
    "thislist = list((\"apple\", \"banana\", \"cherry\"))  # note the double round-brackets\n",
    "```\n",
    "- pop() function removes the last value in the given list by default.\n",
    "\n",
    "  ```python\n",
    "  thislist = [\"apple\", \"banana\", \"cherry\"] \n",
    "  \n",
    "  print(thislist.pop())  # cherry\n",
    "  print(thislist.pop(0))  #apple \n",
    "  \n",
    "  ```"
   ]
  },
  {
   "cell_type": "markdown",
   "id": "a4248e8a",
   "metadata": {},
   "source": [
    "#### For Python Execution Visualizer: https://pythontutor.com/render.html#mode=edit"
   ]
  },
  {
   "cell_type": "markdown",
   "id": "f37b2481",
   "metadata": {},
   "source": [
    "# LIST\n",
    "+ It is a versatile data type available in Python, in which elements are written as a list of comma-separated values (items) between square brackets.\n",
    "+ Lists in Python are mutable as we can change the value of their elements.\n",
    "+ **Mutuable Data Type** : lists, dictionaries, and sets are mutable\n",
    "+ **Immutable Data Types**: Int, Float, Tuple, Complex, String ,frozen set, Bytes\n",
    "+ Syntax of List\n",
    "```python\n",
    "List_variable = [val1, val2, ...]\n",
    "```"
   ]
  },
  {
   "cell_type": "code",
   "execution_count": 1,
   "id": "aa2b2136",
   "metadata": {},
   "outputs": [
    {
     "name": "stdout",
     "output_type": "stream",
     "text": [
      "[1, 2, 3, 4, 5]\n"
     ]
    }
   ],
   "source": [
    "list_A = [1,2,3,4,5]\n",
    "print(list_A)"
   ]
  },
  {
   "cell_type": "code",
   "execution_count": 2,
   "id": "91e3b8e4",
   "metadata": {},
   "outputs": [
    {
     "name": "stdout",
     "output_type": "stream",
     "text": [
      "['A', 1, 'C', 2, 'E']\n"
     ]
    }
   ],
   "source": [
    "list_B = ['A', 1, 'C', 2, 'E']\n",
    "print(list_B)"
   ]
  },
  {
   "cell_type": "code",
   "execution_count": 3,
   "id": "ab7980e4",
   "metadata": {},
   "outputs": [
    {
     "name": "stdout",
     "output_type": "stream",
     "text": [
      "['Hello', 'World']\n"
     ]
    }
   ],
   "source": [
    "list_C = [\"Hello\", \"World\"]\n",
    "print(list_C)"
   ]
  },
  {
   "cell_type": "code",
   "execution_count": 4,
   "id": "a201bf6d",
   "metadata": {},
   "outputs": [
    {
     "name": "stdout",
     "output_type": "stream",
     "text": [
      "[1, 'a', 'HELLO']\n"
     ]
    }
   ],
   "source": [
    "list_D = [1, 'a', 'HELLO']\n",
    "print(list_D)"
   ]
  },
  {
   "cell_type": "code",
   "execution_count": 5,
   "id": "650631aa",
   "metadata": {},
   "outputs": [
    {
     "name": "stdout",
     "output_type": "stream",
     "text": [
      "[]\n"
     ]
    }
   ],
   "source": [
    "## Empty List\n",
    "l = []\n",
    "print(l)"
   ]
  },
  {
   "cell_type": "code",
   "execution_count": 7,
   "id": "0d47e461",
   "metadata": {},
   "outputs": [
    {
     "name": "stdout",
     "output_type": "stream",
     "text": [
      "False\n"
     ]
    }
   ],
   "source": [
    "print(l == True)"
   ]
  },
  {
   "cell_type": "markdown",
   "id": "67a86611",
   "metadata": {},
   "source": [
    "## ACCESSING VALUES IN LISTS\n",
    "+ Like strings, lists can also be sliced and concatenated.\n",
    "+ Syntax\n",
    "```python\n",
    "seq = List[start:stop:step]\n",
    "```"
   ]
  },
  {
   "cell_type": "code",
   "execution_count": 8,
   "id": "e60c8b9d",
   "metadata": {},
   "outputs": [
    {
     "name": "stdout",
     "output_type": "stream",
     "text": [
      "[7, 0, 6, 3, 6, 4, 7, 6, 0, 8, 'K', 'O', 'L', 'K', 'A', 'T', 'A']\n"
     ]
    }
   ],
   "source": [
    "seq = [7,0,6,3,6,4,7,6,0,8,'K', 'O', 'L', 'K', 'A', 'T', 'A']\n",
    "print(seq)"
   ]
  },
  {
   "cell_type": "code",
   "execution_count": 9,
   "id": "a76f66b5",
   "metadata": {},
   "outputs": [
    {
     "data": {
      "text/plain": [
       "[7, 6, 6, 7, 0, 'K', 'L', 'A', 'A']"
      ]
     },
     "execution_count": 9,
     "metadata": {},
     "output_type": "execute_result"
    }
   ],
   "source": [
    "seq[::2]"
   ]
  },
  {
   "cell_type": "code",
   "execution_count": 10,
   "id": "b43e32c4",
   "metadata": {},
   "outputs": [
    {
     "data": {
      "text/plain": [
       "['K', 'K', 'A']"
      ]
     },
     "execution_count": 10,
     "metadata": {},
     "output_type": "execute_result"
    }
   ],
   "source": [
    "seq[10::3]"
   ]
  },
  {
   "cell_type": "code",
   "execution_count": 11,
   "id": "149a7555",
   "metadata": {},
   "outputs": [
    {
     "data": {
      "text/plain": [
       "'A'"
      ]
     },
     "execution_count": 11,
     "metadata": {},
     "output_type": "execute_result"
    }
   ],
   "source": [
    "seq[-3]"
   ]
  },
  {
   "cell_type": "code",
   "execution_count": 12,
   "id": "9b5021b3",
   "metadata": {},
   "outputs": [
    {
     "data": {
      "text/plain": [
       "[3, 6, 4, 7, 6, 0, 8, 'K', 'O', 'L', 'K', 'A', 'T', 'A']"
      ]
     },
     "execution_count": 12,
     "metadata": {},
     "output_type": "execute_result"
    }
   ],
   "source": [
    "seq[3:]"
   ]
  },
  {
   "cell_type": "code",
   "execution_count": 13,
   "id": "8764d9f9",
   "metadata": {},
   "outputs": [
    {
     "data": {
      "text/plain": [
       "['A', 'T', 'A', 'K', 'L', 'O', 'K', 8, 0, 6, 7, 4, 6, 3, 6, 0, 7]"
      ]
     },
     "execution_count": 13,
     "metadata": {},
     "output_type": "execute_result"
    }
   ],
   "source": [
    "seq[::-1]"
   ]
  },
  {
   "cell_type": "code",
   "execution_count": 14,
   "id": "29216993",
   "metadata": {},
   "outputs": [
    {
     "data": {
      "text/plain": [
       "[0]"
      ]
     },
     "execution_count": 14,
     "metadata": {},
     "output_type": "execute_result"
    }
   ],
   "source": [
    "seq[-9:9]"
   ]
  },
  {
   "cell_type": "markdown",
   "id": "a9c6304f",
   "metadata": {},
   "source": [
    "+ If the **start** and **end** values of the slice operation are beyond the size of the list, then all the elements within the specified range are returned."
   ]
  },
  {
   "cell_type": "code",
   "execution_count": 15,
   "id": "fde75140",
   "metadata": {},
   "outputs": [
    {
     "name": "stdout",
     "output_type": "stream",
     "text": [
      "[1, 2, 3, 4]\n"
     ]
    }
   ],
   "source": [
    "l = [1,2,3,4]\n",
    "print(l[-9:9])"
   ]
  },
  {
   "cell_type": "code",
   "execution_count": 16,
   "id": "c5019d0c",
   "metadata": {},
   "outputs": [
    {
     "name": "stdout",
     "output_type": "stream",
     "text": [
      "[2, 3, 4.5]\n"
     ]
    }
   ],
   "source": [
    "l = [1,2,3,4.5]\n",
    "print(l[-3:9])"
   ]
  },
  {
   "cell_type": "markdown",
   "id": "f01a8b03",
   "metadata": {},
   "source": [
    "## THE eval() Function\n",
    "\n",
    "+ It is used to evaluate and return the result of an expression as a string."
   ]
  },
  {
   "cell_type": "code",
   "execution_count": 17,
   "id": "0d80bf70",
   "metadata": {},
   "outputs": [
    {
     "data": {
      "text/plain": [
       "True"
      ]
     },
     "execution_count": 17,
     "metadata": {},
     "output_type": "execute_result"
    }
   ],
   "source": [
    "eval(\"10==10\")"
   ]
  },
  {
   "cell_type": "code",
   "execution_count": 18,
   "id": "728ec6f7",
   "metadata": {},
   "outputs": [
    {
     "data": {
      "text/plain": [
       "False"
      ]
     },
     "execution_count": 18,
     "metadata": {},
     "output_type": "execute_result"
    }
   ],
   "source": [
    "eval(\"20 <= 10\")"
   ]
  },
  {
   "cell_type": "code",
   "execution_count": 19,
   "id": "553b7603",
   "metadata": {},
   "outputs": [
    {
     "data": {
      "text/plain": [
       "30"
      ]
     },
     "execution_count": 19,
     "metadata": {},
     "output_type": "execute_result"
    }
   ],
   "source": [
    "eval(\"30 - 5*4 + 20\")"
   ]
  },
  {
   "cell_type": "code",
   "execution_count": 20,
   "id": "0970a5e0",
   "metadata": {},
   "outputs": [
    {
     "data": {
      "text/plain": [
       "'HELLOHELLOHELLO'"
      ]
     },
     "execution_count": 20,
     "metadata": {},
     "output_type": "execute_result"
    }
   ],
   "source": [
    "eval(\" 'HELLO' * 3\")"
   ]
  },
  {
   "cell_type": "markdown",
   "id": "12faea8f",
   "metadata": {},
   "source": [
    "## UPDATING VALUES IN LISTS\n",
    "\n",
    "###### Code Example 01\n",
    "**Let us write a program that uses the eval() function to accept a list numbers and print the sum of the elements**"
   ]
  },
  {
   "cell_type": "code",
   "execution_count": null,
   "id": "14e280df",
   "metadata": {},
   "outputs": [],
   "source": [
    "list1 = eval(input(\"Enter values: \"))\n",
    "print(list1)\n",
    "sum(list1)\n",
    "print(\"SUM = \", sum(list1))"
   ]
  },
  {
   "cell_type": "markdown",
   "id": "892db85f",
   "metadata": {},
   "source": [
    "###### Code Example 02\n",
    "**Using the eval() function to accept input of different types.**"
   ]
  },
  {
   "cell_type": "code",
   "execution_count": 23,
   "id": "f264e94a",
   "metadata": {},
   "outputs": [
    {
     "name": "stdout",
     "output_type": "stream",
     "text": [
      "Enter an integer: 1\n",
      "<class 'int'>\n",
      "Enter a float: 12.5\n",
      "<class 'float'>\n",
      "Enter a tuple: (1,2,3)\n",
      "<class 'tuple'>\n",
      "Enter a list: [1,2,3]\n",
      "<class 'list'>\n"
     ]
    }
   ],
   "source": [
    "a = eval(input(\"Enter an integer: \"))\n",
    "print(type(a))\n",
    "\n",
    "b = eval(input(\"Enter a float: \"))\n",
    "print(type(b))\n",
    "\n",
    "c = eval(input(\"Enter a tuple: \"))\n",
    "print(type(c))\n",
    "\n",
    "d = eval(input(\"Enter a list: \"))\n",
    "print(type(d))"
   ]
  },
  {
   "cell_type": "markdown",
   "id": "911f13b8",
   "metadata": {},
   "source": [
    "###### Code Example 03\n",
    "\n",
    "For Visualise: https://shorturl.at/elr12\n",
    "\n",
    "+ to add values in the list use **append()** method\n",
    "+ If you know exactly which element(s) to delete, use the **del** statement; otherwise, use the **remove()** method to delete the unknown elements."
   ]
  },
  {
   "cell_type": "code",
   "execution_count": 26,
   "id": "a5cc33b3",
   "metadata": {},
   "outputs": [
    {
     "name": "stdout",
     "output_type": "stream",
     "text": [
      "List is:  [2, 4, 6, 8, 10, 12, 14, 16, 18, 20]\n",
      "List after updation is:  [2, 4, 6, 8, 10, 100, 14, 16, 18, 20]\n",
      "List after appending a value is:  [2, 4, 6, 8, 10, 100, 14, 16, 18, 20, 200]\n",
      "List after deleting a vlaue is:  [2, 4, 6, 10, 100, 14, 16, 18, 20, 200]\n"
     ]
    }
   ],
   "source": [
    "num_list = [2,4,6,8,10,12,14,16,18,20]\n",
    "print(\"List is: \", num_list)\n",
    "num_list[5] = 100\n",
    "print(\"List after updation is: \", num_list)\n",
    "num_list.append(200)\n",
    "print(\"List after appending a value is: \", num_list)\n",
    "del num_list[3]\n",
    "print(\"List after deleting a vlaue is: \", num_list)"
   ]
  },
  {
   "cell_type": "markdown",
   "id": "ef0a1ff0",
   "metadata": {},
   "source": [
    "###### Code Example 04"
   ]
  },
  {
   "cell_type": "code",
   "execution_count": 36,
   "id": "469a1272",
   "metadata": {},
   "outputs": [
    {
     "name": "stdout",
     "output_type": "stream",
     "text": [
      "[2, 4, 6, 14, 16, 18, 20]\n",
      "[]\n"
     ]
    }
   ],
   "source": [
    "num_list = [2,4,6,8,10,12,14,16,18,20]\n",
    "del num_list[3:6]  # DELETES NUMBERS AT INDEX 3,4,5\n",
    "print(num_list)\n",
    "\n",
    "del num_list[:]  # DELETED ALL THE NUMBERS FROM THE LIST\n",
    "print(num_list)"
   ]
  },
  {
   "cell_type": "code",
   "execution_count": 33,
   "id": "251cdaa0",
   "metadata": {},
   "outputs": [
    {
     "ename": "NameError",
     "evalue": "name 'num_list' is not defined",
     "output_type": "error",
     "traceback": [
      "\u001b[1;31m---------------------------------------------------------------------------\u001b[0m",
      "\u001b[1;31mNameError\u001b[0m                                 Traceback (most recent call last)",
      "Cell \u001b[1;32mIn[33], line 2\u001b[0m\n\u001b[0;32m      1\u001b[0m \u001b[38;5;28;01mdel\u001b[39;00m(num_list)     \u001b[38;5;66;03m# the list no longer exists\u001b[39;00m\n\u001b[1;32m----> 2\u001b[0m \u001b[38;5;28mprint\u001b[39m(\u001b[43mnum_list\u001b[49m)\n",
      "\u001b[1;31mNameError\u001b[0m: name 'num_list' is not defined"
     ]
    }
   ],
   "source": [
    "del(num_list)     # the list no longer exists\n",
    "print(num_list)"
   ]
  },
  {
   "cell_type": "code",
   "execution_count": 35,
   "id": "14674f3f",
   "metadata": {},
   "outputs": [
    {
     "ename": "NameError",
     "evalue": "name 'num_list' is not defined",
     "output_type": "error",
     "traceback": [
      "\u001b[1;31m---------------------------------------------------------------------------\u001b[0m",
      "\u001b[1;31mNameError\u001b[0m                                 Traceback (most recent call last)",
      "Cell \u001b[1;32mIn[35], line 2\u001b[0m\n\u001b[0;32m      1\u001b[0m \u001b[38;5;28;01mdel\u001b[39;00m num_list\n\u001b[1;32m----> 2\u001b[0m \u001b[38;5;28mprint\u001b[39m(\u001b[43mnum_list\u001b[49m)\n",
      "\u001b[1;31mNameError\u001b[0m: name 'num_list' is not defined"
     ]
    }
   ],
   "source": [
    "del num_list\n",
    "print(num_list)"
   ]
  },
  {
   "cell_type": "markdown",
   "id": "72e0d197",
   "metadata": {},
   "source": [
    "**Note that when we write del num_list, the entire variable is deleted. if you make any attempt to use this variable after the del statement, then an error will be generated**"
   ]
  },
  {
   "cell_type": "markdown",
   "id": "a1f1e8ab",
   "metadata": {},
   "source": [
    "## RELATIONAL OPERATIONS ON LISTS\n",
    "\n",
    "+ We can compare two lists objects using relational opertors like ==, >, <, >=, <=, !=, etc. \n",
    "+ Python conpares elements of a list in lexicographical order.\n",
    "+ Each elemenet of the list is compared with the corresponding element in the other list.\n",
    "+ However, to use operators like >=, <=, >, < the two values must be of compatible types; otherwise an error will be generated. "
   ]
  },
  {
   "cell_type": "markdown",
   "id": "293b4b0c",
   "metadata": {},
   "source": [
    "###### Code Example 05"
   ]
  },
  {
   "cell_type": "code",
   "execution_count": 37,
   "id": "386ae0c6",
   "metadata": {},
   "outputs": [],
   "source": [
    "l1 = [1,2,3]\n",
    "l2 = [1,2,3]\n",
    "l3 = [1, [2,3]]"
   ]
  },
  {
   "cell_type": "code",
   "execution_count": 38,
   "id": "b6ff061a",
   "metadata": {},
   "outputs": [
    {
     "name": "stdout",
     "output_type": "stream",
     "text": [
      "True\n"
     ]
    }
   ],
   "source": [
    "print(l1 == l2)"
   ]
  },
  {
   "cell_type": "code",
   "execution_count": 39,
   "id": "106be9c5",
   "metadata": {},
   "outputs": [
    {
     "name": "stdout",
     "output_type": "stream",
     "text": [
      "False\n"
     ]
    }
   ],
   "source": [
    "print(l1 == l3)"
   ]
  },
  {
   "cell_type": "markdown",
   "id": "4f65fe14",
   "metadata": {},
   "source": [
    "###### Code Example 06"
   ]
  },
  {
   "cell_type": "code",
   "execution_count": 44,
   "id": "2ea3ceff",
   "metadata": {},
   "outputs": [
    {
     "name": "stdout",
     "output_type": "stream",
     "text": [
      "False\n"
     ]
    }
   ],
   "source": [
    "l1 = [1,2,3]\n",
    "l2 = [1,3,3]\n",
    "\n",
    "print(l1 >= l2)"
   ]
  },
  {
   "cell_type": "code",
   "execution_count": 45,
   "id": "63a2740c",
   "metadata": {},
   "outputs": [
    {
     "name": "stdout",
     "output_type": "stream",
     "text": [
      "True\n"
     ]
    }
   ],
   "source": [
    "print(l1 <= l2)"
   ]
  },
  {
   "cell_type": "code",
   "execution_count": 46,
   "id": "72f9473b",
   "metadata": {},
   "outputs": [
    {
     "name": "stdout",
     "output_type": "stream",
     "text": [
      "False\n"
     ]
    }
   ],
   "source": [
    "l1 = [1,2,3,4]\n",
    "l2 = [1,3,3]\n",
    "print(l1 >= l2)"
   ]
  },
  {
   "cell_type": "markdown",
   "id": "21c1ce54",
   "metadata": {},
   "source": [
    "###### Code Example 07"
   ]
  },
  {
   "cell_type": "code",
   "execution_count": 47,
   "id": "7a5afffb",
   "metadata": {},
   "outputs": [
    {
     "name": "stdout",
     "output_type": "stream",
     "text": [
      "True\n"
     ]
    }
   ],
   "source": [
    "l1 = [1,2,3,4]\n",
    "l2 = ['a', 'b', 'c']\n",
    "l3 = [1.0, 2.0, 3.0]\n",
    "print(l1 >= l3)"
   ]
  },
  {
   "cell_type": "code",
   "execution_count": 48,
   "id": "59d1c1ca",
   "metadata": {},
   "outputs": [
    {
     "ename": "TypeError",
     "evalue": "'>=' not supported between instances of 'str' and 'float'",
     "output_type": "error",
     "traceback": [
      "\u001b[1;31m---------------------------------------------------------------------------\u001b[0m",
      "\u001b[1;31mTypeError\u001b[0m                                 Traceback (most recent call last)",
      "Cell \u001b[1;32mIn[48], line 1\u001b[0m\n\u001b[1;32m----> 1\u001b[0m \u001b[38;5;28mprint\u001b[39m(\u001b[43ml2\u001b[49m\u001b[43m \u001b[49m\u001b[38;5;241;43m>\u001b[39;49m\u001b[38;5;241;43m=\u001b[39;49m\u001b[43m \u001b[49m\u001b[43ml3\u001b[49m)\n",
      "\u001b[1;31mTypeError\u001b[0m: '>=' not supported between instances of 'str' and 'float'"
     ]
    }
   ],
   "source": [
    "print(l2 >= l3)"
   ]
  },
  {
   "cell_type": "code",
   "execution_count": 49,
   "id": "1cacbe7a",
   "metadata": {},
   "outputs": [
    {
     "name": "stdout",
     "output_type": "stream",
     "text": [
      "True\n"
     ]
    }
   ],
   "source": [
    "l1 = [1,2,3]\n",
    "l2 = [1.0, 2.0, 3.0]\n",
    "print(l1 == l2)"
   ]
  },
  {
   "cell_type": "markdown",
   "id": "cc113264",
   "metadata": {},
   "source": [
    "## NESTED LISTS\n",
    "\n",
    "+ Nested list means a list within another list.\n",
    "\n",
    "\n",
    "###### Code Example 08"
   ]
  },
  {
   "cell_type": "code",
   "execution_count": 53,
   "id": "32a75014",
   "metadata": {},
   "outputs": [
    {
     "name": "stdout",
     "output_type": "stream",
     "text": [
      "List1[ 0 ] =  1\n",
      "List1[ 1 ] =  2\n",
      "List1[ 2 ] =  a\n",
      "List1[ 3 ] =  [5.0, 6, 'ABCD', 'BYE']\n",
      "List1[ 4 ] =  HELLO\n",
      "List1[ 5 ] =  345\n"
     ]
    }
   ],
   "source": [
    "## Creatinga Nested List\n",
    "list1 = [1,2, 'a', [5.0, 6, \"ABCD\", \"BYE\"], \"HELLO\", 345]\n",
    "\n",
    "i = 0\n",
    "while(i < len(list1)):\n",
    "    print(\"List1[\", i, \"] = \", list1[i])\n",
    "    i += 1"
   ]
  },
  {
   "cell_type": "code",
   "execution_count": 54,
   "id": "ad923399",
   "metadata": {},
   "outputs": [
    {
     "data": {
      "text/plain": [
       "5.0"
      ]
     },
     "execution_count": 54,
     "metadata": {},
     "output_type": "execute_result"
    }
   ],
   "source": [
    "list1[3][0]"
   ]
  },
  {
   "cell_type": "code",
   "execution_count": 55,
   "id": "dda1f557",
   "metadata": {},
   "outputs": [
    {
     "data": {
      "text/plain": [
       "'BYE'"
      ]
     },
     "execution_count": 55,
     "metadata": {},
     "output_type": "execute_result"
    }
   ],
   "source": [
    "list1[3][-1]"
   ]
  },
  {
   "cell_type": "code",
   "execution_count": 60,
   "id": "eb47af2a",
   "metadata": {},
   "outputs": [
    {
     "data": {
      "text/plain": [
       "['BYE', 'ABCD', 6, 5.0]"
      ]
     },
     "execution_count": 60,
     "metadata": {},
     "output_type": "execute_result"
    }
   ],
   "source": [
    "list1[3][::-1]"
   ]
  },
  {
   "cell_type": "markdown",
   "id": "7a10d6fb",
   "metadata": {},
   "source": [
    "### Creating a list within another list creating a nested list\n",
    "\n",
    "\n",
    "###### Code Example 09"
   ]
  },
  {
   "cell_type": "code",
   "execution_count": 61,
   "id": "554a7ee0",
   "metadata": {},
   "outputs": [
    {
     "name": "stdout",
     "output_type": "stream",
     "text": [
      "Original List:  [2, 4, 12, 14]\n",
      "After inserting another list:  [2, 4, [6, 7, 8], 14]\n"
     ]
    }
   ],
   "source": [
    "num_list = [2,4,12,14]\n",
    "print(\"Original List: \", num_list)\n",
    "\n",
    "num_list[2] = [6,7,8]\n",
    "print(\"After inserting another list: \", num_list)"
   ]
  },
  {
   "cell_type": "code",
   "execution_count": 62,
   "id": "ecf1b18b",
   "metadata": {},
   "outputs": [
    {
     "name": "stdout",
     "output_type": "stream",
     "text": [
      "6\n"
     ]
    }
   ],
   "source": [
    "print(num_list[2][0])"
   ]
  },
  {
   "cell_type": "markdown",
   "id": "a683342a",
   "metadata": {},
   "source": [
    "## LIST ALIASING AND CLONING\n",
    "\n",
    "### ALIASING\n",
    "\n",
    "+ When one list is assigned to another list using the assignment operator (=), the new copy of the list is not made.\n",
    "+ Instead, assignment operation makes the two variables point to the same list in memory. This is also known as aliasing.\n",
    "\n",
    "\n",
    "### CLONING\n",
    "+ If you want to modify a list and also keep a copy of the original list, then you should create a separate copy of the list (not just the reference). This process is called cloning. \n",
    "+ **The slice operation is used to clone a list**.\n",
    "\n",
    "\n",
    "Visualizer: https://shorturl.at/delsv"
   ]
  },
  {
   "cell_type": "markdown",
   "id": "92cb60b0",
   "metadata": {},
   "source": [
    "###### Code Example 09"
   ]
  },
  {
   "cell_type": "code",
   "execution_count": 65,
   "id": "a2d9ac62",
   "metadata": {},
   "outputs": [
    {
     "name": "stdout",
     "output_type": "stream",
     "text": [
      "List2 =  [1, 2, 3, 4, 5, 6, 7, 8, 9, 10]\n",
      "List2 =  [1, 2, 3, 4, 5, 6, 7, 8, 9, 10]\n",
      "List3 =  [3, 4, 5]\n"
     ]
    }
   ],
   "source": [
    "list1 = [1,2,3,4,5,6,7,8,9,10]\n",
    "print(\"List2 = \", list1)\n",
    "\n",
    "\n",
    "list2 = list1  # list aliasing\n",
    "print(\"List2 = \", list2)\n",
    "\n",
    "list3 = list1[2:5] # list cloning\n",
    "print(\"List3 = \", list3)"
   ]
  },
  {
   "cell_type": "markdown",
   "id": "e49ab389",
   "metadata": {},
   "source": [
    "## DELETING\n",
    "\n",
    "###### Code Example 10"
   ]
  },
  {
   "cell_type": "code",
   "execution_count": 66,
   "id": "e846cd96",
   "metadata": {},
   "outputs": [
    {
     "name": "stdout",
     "output_type": "stream",
     "text": [
      "[1, 2, 3, 4, 5, 6, 7, 8, 9, 10]\n"
     ]
    }
   ],
   "source": [
    "l = [1,2,3,4,5,6,7,8,9,10]\n",
    "print(l)"
   ]
  },
  {
   "cell_type": "code",
   "execution_count": 69,
   "id": "a715ae63",
   "metadata": {},
   "outputs": [
    {
     "name": "stdout",
     "output_type": "stream",
     "text": [
      "[1, 2, 5, 6, 7, 8, 9, 10]\n"
     ]
    }
   ],
   "source": [
    "## deleting third element\n",
    "del l[2]\n",
    "\n",
    "print(l)"
   ]
  },
  {
   "cell_type": "code",
   "execution_count": 72,
   "id": "9aec9d85",
   "metadata": {},
   "outputs": [
    {
     "name": "stdout",
     "output_type": "stream",
     "text": [
      "[1, 2, 9]\n"
     ]
    }
   ],
   "source": [
    "## deleting fourth, fifth, sixth and seventh elements from the list\n",
    "del l[3:7]\n",
    "print(l)"
   ]
  },
  {
   "cell_type": "code",
   "execution_count": 73,
   "id": "786d9be2",
   "metadata": {},
   "outputs": [
    {
     "name": "stdout",
     "output_type": "stream",
     "text": [
      "Deleting List: \n"
     ]
    },
    {
     "ename": "NameError",
     "evalue": "name 'l' is not defined",
     "output_type": "error",
     "traceback": [
      "\u001b[1;31m---------------------------------------------------------------------------\u001b[0m",
      "\u001b[1;31mNameError\u001b[0m                                 Traceback (most recent call last)",
      "Cell \u001b[1;32mIn[73], line 4\u001b[0m\n\u001b[0;32m      2\u001b[0m \u001b[38;5;28mprint\u001b[39m(\u001b[38;5;124m\"\u001b[39m\u001b[38;5;124mDeleting List: \u001b[39m\u001b[38;5;124m\"\u001b[39m)\n\u001b[0;32m      3\u001b[0m \u001b[38;5;28;01mdel\u001b[39;00m l\n\u001b[1;32m----> 4\u001b[0m \u001b[38;5;28mprint\u001b[39m(\u001b[43ml\u001b[49m)\n",
      "\u001b[1;31mNameError\u001b[0m: name 'l' is not defined"
     ]
    }
   ],
   "source": [
    "## deleting the entire list\n",
    "print(\"Deleting List: \")\n",
    "del l\n",
    "print(l)"
   ]
  },
  {
   "cell_type": "markdown",
   "id": "7fa34a8f",
   "metadata": {},
   "source": [
    "## DEEP COPIES AND SHALLOW COPIES IN PYTHON\n",
    "\n",
    "#### DEEP COPY\n",
    "+ A deep copy makes a new and separate copy of an entire object or list with its own unique memory address.\n",
    "+ Therefore, any changes made in the new copy of the object/list will not be reflected in the original one.\n",
    "+ A deep copy creates a new list or object by recursively copying the elements from the original object to the new one. \n",
    "+ So, both the objects are completely indepedent of each other.\n",
    "+ This is similar to the concept of **passing by value** in language like **C++, JAVA, and C#**\n",
    "\n",
    "\n",
    "#### SHALLOW COPY\n",
    "+ A shallow copy also makes a separate new object or list.\n",
    "+ However, in this case, instead of copying the elements to the new object, **it simply copies the reference to their memory addresses**.\n",
    "+ Hence, changes made in the original object, would also be reflected in the copied object, and vice versa.\n",
    "+ Similar to the concept of **pass by reference** in programming language like **C++, JAVA< and C#**\n",
    "\n",
    "\n",
    "###### NOTE\n",
    "+ **The assignment operator (=) is used to create a shallow copy of the list**\n",
    "+ **The list() creates a deep copy**"
   ]
  },
  {
   "cell_type": "markdown",
   "id": "7fccee8a",
   "metadata": {},
   "source": [
    "![immg](https://scaler.com/topics/images/shallow-copy-and-deep-copy.webp)"
   ]
  },
  {
   "cell_type": "markdown",
   "id": "f83e5576",
   "metadata": {},
   "source": [
    "###### Code Example 11\n",
    "\n",
    "###### SHALLOW COPY\n",
    "\n",
    "Visualizer: https://shorturl.at/acpqB"
   ]
  },
  {
   "cell_type": "code",
   "execution_count": 79,
   "id": "1b8722f0",
   "metadata": {},
   "outputs": [
    {
     "name": "stdout",
     "output_type": "stream",
     "text": [
      "L1 =  [1, 2, 3, 4, 5]\n",
      "L2 =  [1, 2, 3, 4, 5]\n"
     ]
    }
   ],
   "source": [
    "# creating a shallow copy of a list\n",
    "\n",
    "l1 = [1,2,3,4,5]\n",
    "l2 = l1\n",
    "\n",
    "print(\"L1 = \", l1)\n",
    "print(\"L2 = \", l2)"
   ]
  },
  {
   "cell_type": "code",
   "execution_count": 80,
   "id": "113d3223",
   "metadata": {},
   "outputs": [
    {
     "name": "stdout",
     "output_type": "stream",
     "text": [
      "L1 =  [1, 2, 10, 4, 5]\n",
      "L2 =  [1, 2, 10, 4, 5]\n"
     ]
    }
   ],
   "source": [
    "l1[2] = 10\n",
    "print(\"L1 = \", l1)\n",
    "print(\"L2 = \", l2)"
   ]
  },
  {
   "cell_type": "markdown",
   "id": "b837fed4",
   "metadata": {},
   "source": [
    "###### Code Example 12\n",
    "###### DEEP COPY\n",
    "\n",
    "Visualiser: https://shorturl.at/szKW2"
   ]
  },
  {
   "cell_type": "code",
   "execution_count": 97,
   "id": "4af0126c",
   "metadata": {},
   "outputs": [
    {
     "name": "stdout",
     "output_type": "stream",
     "text": [
      "L1 =  [1, 2, 3, 4]\n",
      "L2 =  [1, 2, 3, 4]\n"
     ]
    }
   ],
   "source": [
    "# creating a deep copy of a list\n",
    "import copy\n",
    "l1 = [1,2,3,4]\n",
    "l2 = copy.deepcopy(l1)\n",
    "\n",
    "print(\"L1 = \", l1)\n",
    "print(\"L2 = \", l2)"
   ]
  },
  {
   "cell_type": "code",
   "execution_count": 98,
   "id": "f621b30f",
   "metadata": {},
   "outputs": [
    {
     "name": "stdout",
     "output_type": "stream",
     "text": [
      "L1 =  [1, 2, 200, 4]\n",
      "L2 =  [1, 2, 3, 4]\n"
     ]
    }
   ],
   "source": [
    "l1[2] = 200\n",
    "\n",
    "print(\"L1 = \", l1)\n",
    "print(\"L2 = \", l2)"
   ]
  },
  {
   "cell_type": "markdown",
   "id": "b3c0cd2e",
   "metadata": {},
   "source": [
    "## BASIC LIST OPERATIONS\n",
    "\n",
    "| Operations    |       Description                                                                 |   \n",
    "|---------------|---------------------------------------------------------------------------------- |\n",
    "| len           | Returns length of list                                                            |\n",
    "| concatenation | Joins two lists                                                                   | \n",
    "| repetition    | Repeat elements in the list                                                       |\n",
    "| in            | Checks if the value is present in the list                                        |\n",
    "| not in        | Checks if the value is not present in the list                                    |\n",
    "| max           | Return maximum value in the list                                                  |\n",
    "| min           | Return minimum value in the list                                                  |\n",
    "| sum           | Adds the values in the list that has numbers                                      |\n",
    "| all           | Returns True if all elements of the list are true (or if the list is empty)       |\n",
    "| any           | Return True if any element of the list us true. If the list is empty, return False|\n",
    "| list          | Convert tuple, string to a list                                                   |\n",
    "| sorted        | Return a new sorted list. The original list is not sorted.                        |"
   ]
  },
  {
   "cell_type": "code",
   "execution_count": 102,
   "id": "d30a0173",
   "metadata": {},
   "outputs": [
    {
     "name": "stdout",
     "output_type": "stream",
     "text": [
      "Length of the list is:  5\n"
     ]
    }
   ],
   "source": [
    "## len\n",
    "l1 = [1,2,3,4,5]\n",
    "print(\"Length of the list is: \", len(l1))"
   ]
  },
  {
   "cell_type": "code",
   "execution_count": 103,
   "id": "ddb69c45",
   "metadata": {},
   "outputs": [
    {
     "name": "stdout",
     "output_type": "stream",
     "text": [
      "Concatenation of two lists:  [1, 2, 3, 3, 4, 5]\n"
     ]
    }
   ],
   "source": [
    "## conctenatiopn operator --> + \n",
    "l1 = [1,2,3]\n",
    "l2 = [3,4,5]\n",
    "print(\"Concatenation of two lists: \", l1 + l2)"
   ]
  },
  {
   "cell_type": "code",
   "execution_count": 104,
   "id": "687a8ff3",
   "metadata": {},
   "outputs": [
    {
     "name": "stdout",
     "output_type": "stream",
     "text": [
      "Repetition of list three times:  [1, 2, 3, 1, 2, 3, 1, 2, 3]\n"
     ]
    }
   ],
   "source": [
    "## repetition --> *\n",
    "l1 = [1,2,3]\n",
    "print(\"Repetition of list three times: \", l1*3)"
   ]
  },
  {
   "cell_type": "code",
   "execution_count": 105,
   "id": "2cfcd3a2",
   "metadata": {},
   "outputs": [
    {
     "data": {
      "text/plain": [
       "True"
      ]
     },
     "execution_count": 105,
     "metadata": {},
     "output_type": "execute_result"
    }
   ],
   "source": [
    "## in\n",
    "\"a\" in ['a', 'e', 'i', 'o', 'u']"
   ]
  },
  {
   "cell_type": "code",
   "execution_count": 106,
   "id": "11533a66",
   "metadata": {},
   "outputs": [
    {
     "data": {
      "text/plain": [
       "False"
      ]
     },
     "execution_count": 106,
     "metadata": {},
     "output_type": "execute_result"
    }
   ],
   "source": [
    "## not in\n",
    "\"a\" not in ['a', 'e', 'i', 'o', 'u']"
   ]
  },
  {
   "cell_type": "code",
   "execution_count": 107,
   "id": "692e2ed6",
   "metadata": {},
   "outputs": [
    {
     "name": "stdout",
     "output_type": "stream",
     "text": [
      "4\n"
     ]
    }
   ],
   "source": [
    "## max\n",
    "l1 = [1,2,3,4]\n",
    "print(max(l1))"
   ]
  },
  {
   "cell_type": "code",
   "execution_count": 108,
   "id": "68f9256c",
   "metadata": {},
   "outputs": [
    {
     "name": "stdout",
     "output_type": "stream",
     "text": [
      "1\n"
     ]
    }
   ],
   "source": [
    "## min\n",
    "l1 = [1,2,3,4]\n",
    "print(min(l1))"
   ]
  },
  {
   "cell_type": "code",
   "execution_count": 109,
   "id": "b677d48d",
   "metadata": {},
   "outputs": [
    {
     "name": "stdout",
     "output_type": "stream",
     "text": [
      "10\n"
     ]
    }
   ],
   "source": [
    "## sum\n",
    "l1 = [1,2,3,4]\n",
    "print(sum(l1))"
   ]
  },
  {
   "cell_type": "code",
   "execution_count": 111,
   "id": "5d686f97",
   "metadata": {},
   "outputs": [
    {
     "name": "stdout",
     "output_type": "stream",
     "text": [
      "False\n"
     ]
    }
   ],
   "source": [
    "## all  <-- True,if all elements are True otherwise False\n",
    "l1 = [1,2,3,4, 0]\n",
    "print(all(l1))"
   ]
  },
  {
   "cell_type": "code",
   "execution_count": 112,
   "id": "755dc3e9",
   "metadata": {},
   "outputs": [
    {
     "name": "stdout",
     "output_type": "stream",
     "text": [
      "True\n"
     ]
    }
   ],
   "source": [
    "## all  <-- True,if any elements are True otherwise False\n",
    "l1 = [1,2,3,4, 0]\n",
    "print(any(l1))"
   ]
  },
  {
   "cell_type": "code",
   "execution_count": 113,
   "id": "7b63de2e",
   "metadata": {},
   "outputs": [
    {
     "ename": "TypeError",
     "evalue": "'list' object is not callable",
     "output_type": "error",
     "traceback": [
      "\u001b[1;31m---------------------------------------------------------------------------\u001b[0m",
      "\u001b[1;31mTypeError\u001b[0m                                 Traceback (most recent call last)",
      "Cell \u001b[1;32mIn[113], line 2\u001b[0m\n\u001b[0;32m      1\u001b[0m \u001b[38;5;66;03m## list\u001b[39;00m\n\u001b[1;32m----> 2\u001b[0m list1 \u001b[38;5;241m=\u001b[39m \u001b[38;5;28;43mlist\u001b[39;49m\u001b[43m(\u001b[49m\u001b[38;5;124;43m\"\u001b[39;49m\u001b[38;5;124;43mPYTHON\u001b[39;49m\u001b[38;5;124;43m\"\u001b[39;49m\u001b[43m)\u001b[49m\n\u001b[0;32m      3\u001b[0m \u001b[38;5;28mprint\u001b[39m(list1)\n",
      "\u001b[1;31mTypeError\u001b[0m: 'list' object is not callable"
     ]
    }
   ],
   "source": [
    "## list\n",
    "list1 = list(\"PYTHON\")\n",
    "print(list1)"
   ]
  },
  {
   "cell_type": "code",
   "execution_count": 117,
   "id": "2443bb07",
   "metadata": {},
   "outputs": [
    {
     "name": "stdout",
     "output_type": "stream",
     "text": [
      "[0, 1, 3, 4, 5, 6, 7]\n"
     ]
    }
   ],
   "source": [
    "## sorted\n",
    "l = [1,0,3,7,4,5,6]\n",
    "l2 = sorted(l)\n",
    "print(l2)"
   ]
  },
  {
   "cell_type": "code",
   "execution_count": 116,
   "id": "5afcfa8f",
   "metadata": {},
   "outputs": [
    {
     "name": "stdout",
     "output_type": "stream",
     "text": [
      "[1, 0, 3, 7, 4, 5, 6]\n"
     ]
    }
   ],
   "source": [
    "print(l)"
   ]
  },
  {
   "cell_type": "code",
   "execution_count": null,
   "id": "81ba034d",
   "metadata": {},
   "outputs": [],
   "source": []
  },
  {
   "cell_type": "markdown",
   "id": "678da90c",
   "metadata": {},
   "source": [
    "## LIST METHODS\n",
    "\n",
    "+ Python has various methods to help programmers work efficiently with lists. "
   ]
  },
  {
   "cell_type": "code",
   "execution_count": null,
   "id": "ca3ed36d",
   "metadata": {},
   "outputs": [],
   "source": []
  },
  {
   "cell_type": "code",
   "execution_count": null,
   "id": "b375a9cc",
   "metadata": {},
   "outputs": [],
   "source": []
  },
  {
   "cell_type": "markdown",
   "id": "1089936d",
   "metadata": {},
   "source": [
    "## PROGRAMMER'S ZONE"
   ]
  },
  {
   "cell_type": "markdown",
   "id": "e22283e1",
   "metadata": {},
   "source": [
    "##### 1. WAP that creates a list of numbers from 1-20 that are either divisible by 2 or divisible by 4 without using the filter operation"
   ]
  },
  {
   "cell_type": "code",
   "execution_count": 118,
   "id": "7678806d",
   "metadata": {},
   "outputs": [
    {
     "name": "stdout",
     "output_type": "stream",
     "text": [
      "[2, 4, 6, 8, 10, 12, 14, 16, 18, 20]\n"
     ]
    }
   ],
   "source": [
    "div_2_4 = []\n",
    "\n",
    "for i in range(2,22):\n",
    "    if(i%2 == 0 or i%4 == 0):\n",
    "        div_2_4.append(i)\n",
    "        \n",
    "print(div_2_4)"
   ]
  },
  {
   "cell_type": "markdown",
   "id": "dc52e378",
   "metadata": {},
   "source": [
    "##### 2. WAP that defines a list of countries that are member of BRICS. Check whether a country is a member of BRICS or not."
   ]
  },
  {
   "cell_type": "code",
   "execution_count": 119,
   "id": "bfaa150a",
   "metadata": {},
   "outputs": [
    {
     "name": "stdout",
     "output_type": "stream",
     "text": [
      "Enter the name of the country: Pakistan\n",
      "Pakistan is not a member of BRICS\n"
     ]
    }
   ],
   "source": [
    "country = ['Brazil', 'India', 'China', 'Russia', 'Sri Lanka']\n",
    "is_member = input(\"Enter the name of the country: \")\n",
    "\n",
    "if is_member in country:\n",
    "    print(is_member, \"has also joined BRICS\")\n",
    "else:\n",
    "    print(is_member, \"is not a member of BRICS\")"
   ]
  },
  {
   "cell_type": "markdown",
   "id": "0dede597",
   "metadata": {},
   "source": [
    "##### 3. WAP to create a list of numbers in the range 1 to 10. Then delete all the even numbers from the list and print the final list."
   ]
  },
  {
   "cell_type": "code",
   "execution_count": 120,
   "id": "2ce4fd6a",
   "metadata": {},
   "outputs": [
    {
     "name": "stdout",
     "output_type": "stream",
     "text": [
      "ORIGINAL LIST:  [1, 2, 3, 4, 5, 6, 7, 8, 9, 10]\n",
      "List after deleting even numbers :  [1, 3, 5, 7, 9]\n"
     ]
    }
   ],
   "source": [
    "num_list = []\n",
    "for i in range(1,11):\n",
    "    num_list.append(i)\n",
    "\n",
    "print(\"ORIGINAL LIST: \", num_list)\n",
    "\n",
    "for index, i in enumerate(num_list):\n",
    "    if i%2 == 0:\n",
    "        del num_list[index]\n",
    "\n",
    "print(\"List after deleting even numbers : \", num_list)"
   ]
  },
  {
   "cell_type": "markdown",
   "id": "7a5fa59a",
   "metadata": {},
   "source": [
    "##### 4. WAP to print the index at which a particular values exists. If the value exists at multiple location in tge list, then print all the indices. Also count the number of times that value is repeated in the list.\n"
   ]
  },
  {
   "cell_type": "code",
   "execution_count": null,
   "id": "060d16b8",
   "metadata": {},
   "outputs": [],
   "source": []
  }
 ],
 "metadata": {
  "kernelspec": {
   "display_name": "Python 3 (ipykernel)",
   "language": "python",
   "name": "python3"
  },
  "language_info": {
   "codemirror_mode": {
    "name": "ipython",
    "version": 3
   },
   "file_extension": ".py",
   "mimetype": "text/x-python",
   "name": "python",
   "nbconvert_exporter": "python",
   "pygments_lexer": "ipython3",
   "version": "3.11.0"
  }
 },
 "nbformat": 4,
 "nbformat_minor": 5
}
