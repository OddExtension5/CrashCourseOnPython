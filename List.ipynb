{
 "cells": [
  {
   "cell_type": "markdown",
   "id": "927560df",
   "metadata": {},
   "source": [
    "### List\n",
    "\n",
    "- List is a collection which is ordered and changeable. Allows duplicate members.\n",
    "\n",
    "\n",
    "- Lists are created using square brackets:\n",
    "\n",
    "```python\n",
    "thislist = [\"apple\", \"banana\", \"cherry\"] \n",
    "```\n",
    "\n",
    "- List items are ordered, changeable, and allow duplicate values.\n",
    "\n",
    "- List items are indexed, the first item has index `[0]`, the second item has index `[1]` etc.\n",
    "\n",
    "- The list is changeable, meaning that we can change, add, and remove items in a list after it has been created.\n",
    "\n",
    "- To determine how many items a list has, use the `len()` function.\n",
    "\n",
    "- A list can contain different data types:\n",
    "```python\n",
    "list1 = [\"abc\", 34, True, 40, \"male\"]\n",
    "```\n",
    "- It is also possible to use the list() constructor when creating a new list\n",
    "```python\n",
    "thislist = list((\"apple\", \"banana\", \"cherry\"))  # note the double round-brackets\n",
    "```\n",
    "- pop() function removes the last value in the given list by default.\n",
    "\n",
    "  ```python\n",
    "  thislist = [\"apple\", \"banana\", \"cherry\"] \n",
    "  \n",
    "  print(thislist.pop())  # cherry\n",
    "  print(thislist.pop(0))  #apple \n",
    "  \n",
    "  ```"
   ]
  },
  {
   "cell_type": "markdown",
   "id": "a4248e8a",
   "metadata": {},
   "source": [
    "#### For Python Execution Visualizer: https://pythontutor.com/render.html#mode=edit"
   ]
  },
  {
   "cell_type": "markdown",
   "id": "f37b2481",
   "metadata": {},
   "source": [
    "# LIST\n",
    "+ It is a versatile data type available in Python, in which elements are written as a list of comma-separated values (items) between square brackets.\n",
    "+ Lists in Python are mutable as we can change the value of their elements.\n",
    "+ **Mutuable Data Type** : lists, dictionaries, and sets are mutable\n",
    "+ **Immutable Data Types**: Int, Float, Tuple, Complex, String ,frozen set, Bytes\n",
    "+ Syntax of List\n",
    "```python\n",
    "List_variable = [val1, val2, ...]\n",
    "```"
   ]
  },
  {
   "cell_type": "code",
   "execution_count": 126,
   "id": "aa2b2136",
   "metadata": {},
   "outputs": [
    {
     "name": "stdout",
     "output_type": "stream",
     "text": [
      "[1, 2, 3, 4, 5]\n"
     ]
    }
   ],
   "source": [
    "list_A = [1,2,3,4,5]\n",
    "print(list_A)"
   ]
  },
  {
   "cell_type": "code",
   "execution_count": 127,
   "id": "91e3b8e4",
   "metadata": {},
   "outputs": [
    {
     "name": "stdout",
     "output_type": "stream",
     "text": [
      "['A', 1, 'C', 2, 'E']\n"
     ]
    }
   ],
   "source": [
    "list_B = ['A', 1, 'C', 2, 'E']\n",
    "print(list_B)"
   ]
  },
  {
   "cell_type": "code",
   "execution_count": 128,
   "id": "ab7980e4",
   "metadata": {},
   "outputs": [
    {
     "name": "stdout",
     "output_type": "stream",
     "text": [
      "['Hello', 'World']\n"
     ]
    }
   ],
   "source": [
    "list_C = [\"Hello\", \"World\"]\n",
    "print(list_C)"
   ]
  },
  {
   "cell_type": "code",
   "execution_count": 129,
   "id": "a201bf6d",
   "metadata": {},
   "outputs": [
    {
     "name": "stdout",
     "output_type": "stream",
     "text": [
      "[1, 'a', 'HELLO']\n"
     ]
    }
   ],
   "source": [
    "list_D = [1, 'a', 'HELLO']\n",
    "print(list_D)"
   ]
  },
  {
   "cell_type": "code",
   "execution_count": 130,
   "id": "650631aa",
   "metadata": {},
   "outputs": [
    {
     "name": "stdout",
     "output_type": "stream",
     "text": [
      "[]\n"
     ]
    }
   ],
   "source": [
    "## Empty List\n",
    "l = []\n",
    "print(l)"
   ]
  },
  {
   "cell_type": "code",
   "execution_count": 131,
   "id": "0d47e461",
   "metadata": {},
   "outputs": [
    {
     "name": "stdout",
     "output_type": "stream",
     "text": [
      "False\n"
     ]
    }
   ],
   "source": [
    "print(l == True)"
   ]
  },
  {
   "cell_type": "markdown",
   "id": "67a86611",
   "metadata": {},
   "source": [
    "## ACCESSING VALUES IN LISTS\n",
    "+ Like strings, lists can also be sliced and concatenated.\n",
    "+ Syntax\n",
    "```python\n",
    "seq = List[start:stop:step]\n",
    "```"
   ]
  },
  {
   "cell_type": "code",
   "execution_count": 132,
   "id": "e60c8b9d",
   "metadata": {},
   "outputs": [
    {
     "name": "stdout",
     "output_type": "stream",
     "text": [
      "[7, 0, 6, 3, 6, 4, 7, 6, 0, 8, 'K', 'O', 'L', 'K', 'A', 'T', 'A']\n"
     ]
    }
   ],
   "source": [
    "seq = [7,0,6,3,6,4,7,6,0,8,'K', 'O', 'L', 'K', 'A', 'T', 'A']\n",
    "print(seq)"
   ]
  },
  {
   "cell_type": "code",
   "execution_count": 133,
   "id": "a76f66b5",
   "metadata": {},
   "outputs": [
    {
     "data": {
      "text/plain": [
       "[7, 6, 6, 7, 0, 'K', 'L', 'A', 'A']"
      ]
     },
     "execution_count": 133,
     "metadata": {},
     "output_type": "execute_result"
    }
   ],
   "source": [
    "seq[::2]"
   ]
  },
  {
   "cell_type": "code",
   "execution_count": 134,
   "id": "b43e32c4",
   "metadata": {},
   "outputs": [
    {
     "data": {
      "text/plain": [
       "['K', 'K', 'A']"
      ]
     },
     "execution_count": 134,
     "metadata": {},
     "output_type": "execute_result"
    }
   ],
   "source": [
    "seq[10::3]"
   ]
  },
  {
   "cell_type": "code",
   "execution_count": 135,
   "id": "149a7555",
   "metadata": {},
   "outputs": [
    {
     "data": {
      "text/plain": [
       "'A'"
      ]
     },
     "execution_count": 135,
     "metadata": {},
     "output_type": "execute_result"
    }
   ],
   "source": [
    "seq[-3]"
   ]
  },
  {
   "cell_type": "code",
   "execution_count": 136,
   "id": "9b5021b3",
   "metadata": {},
   "outputs": [
    {
     "data": {
      "text/plain": [
       "[3, 6, 4, 7, 6, 0, 8, 'K', 'O', 'L', 'K', 'A', 'T', 'A']"
      ]
     },
     "execution_count": 136,
     "metadata": {},
     "output_type": "execute_result"
    }
   ],
   "source": [
    "seq[3:]"
   ]
  },
  {
   "cell_type": "code",
   "execution_count": 137,
   "id": "8764d9f9",
   "metadata": {},
   "outputs": [
    {
     "data": {
      "text/plain": [
       "['A', 'T', 'A', 'K', 'L', 'O', 'K', 8, 0, 6, 7, 4, 6, 3, 6, 0, 7]"
      ]
     },
     "execution_count": 137,
     "metadata": {},
     "output_type": "execute_result"
    }
   ],
   "source": [
    "seq[::-1]"
   ]
  },
  {
   "cell_type": "code",
   "execution_count": 138,
   "id": "29216993",
   "metadata": {},
   "outputs": [
    {
     "data": {
      "text/plain": [
       "[0]"
      ]
     },
     "execution_count": 138,
     "metadata": {},
     "output_type": "execute_result"
    }
   ],
   "source": [
    "seq[-9:9]"
   ]
  },
  {
   "cell_type": "markdown",
   "id": "a9c6304f",
   "metadata": {},
   "source": [
    "+ If the **start** and **end** values of the slice operation are beyond the size of the list, then all the elements within the specified range are returned."
   ]
  },
  {
   "cell_type": "code",
   "execution_count": 139,
   "id": "fde75140",
   "metadata": {},
   "outputs": [
    {
     "name": "stdout",
     "output_type": "stream",
     "text": [
      "[1, 2, 3, 4]\n"
     ]
    }
   ],
   "source": [
    "l = [1,2,3,4]\n",
    "print(l[-9:9])"
   ]
  },
  {
   "cell_type": "code",
   "execution_count": 140,
   "id": "c5019d0c",
   "metadata": {},
   "outputs": [
    {
     "name": "stdout",
     "output_type": "stream",
     "text": [
      "[2, 3, 4.5]\n"
     ]
    }
   ],
   "source": [
    "l = [1,2,3,4.5]\n",
    "print(l[-3:9])"
   ]
  },
  {
   "cell_type": "markdown",
   "id": "f01a8b03",
   "metadata": {},
   "source": [
    "## THE eval() Function\n",
    "\n",
    "+ It is used to evaluate and return the result of an expression as a string."
   ]
  },
  {
   "cell_type": "code",
   "execution_count": 141,
   "id": "0d80bf70",
   "metadata": {},
   "outputs": [
    {
     "data": {
      "text/plain": [
       "True"
      ]
     },
     "execution_count": 141,
     "metadata": {},
     "output_type": "execute_result"
    }
   ],
   "source": [
    "eval(\"10==10\")"
   ]
  },
  {
   "cell_type": "code",
   "execution_count": 142,
   "id": "728ec6f7",
   "metadata": {},
   "outputs": [
    {
     "data": {
      "text/plain": [
       "False"
      ]
     },
     "execution_count": 142,
     "metadata": {},
     "output_type": "execute_result"
    }
   ],
   "source": [
    "eval(\"20 <= 10\")"
   ]
  },
  {
   "cell_type": "code",
   "execution_count": 143,
   "id": "553b7603",
   "metadata": {},
   "outputs": [
    {
     "data": {
      "text/plain": [
       "30"
      ]
     },
     "execution_count": 143,
     "metadata": {},
     "output_type": "execute_result"
    }
   ],
   "source": [
    "eval(\"30 - 5*4 + 20\")"
   ]
  },
  {
   "cell_type": "code",
   "execution_count": 144,
   "id": "0970a5e0",
   "metadata": {},
   "outputs": [
    {
     "data": {
      "text/plain": [
       "'HELLOHELLOHELLO'"
      ]
     },
     "execution_count": 144,
     "metadata": {},
     "output_type": "execute_result"
    }
   ],
   "source": [
    "eval(\" 'HELLO' * 3\")"
   ]
  },
  {
   "cell_type": "markdown",
   "id": "12faea8f",
   "metadata": {},
   "source": [
    "## UPDATING VALUES IN LISTS\n",
    "\n",
    "###### Code Example 01\n",
    "**Let us write a program that uses the eval() function to accept a list numbers and print the sum of the elements**"
   ]
  },
  {
   "cell_type": "code",
   "execution_count": 146,
   "id": "14e280df",
   "metadata": {},
   "outputs": [
    {
     "name": "stdout",
     "output_type": "stream",
     "text": [
      "Enter values: [1,2,3,4,5,6,7,8,9,10]\n",
      "[1, 2, 3, 4, 5, 6, 7, 8, 9, 10]\n",
      "SUM =  55\n"
     ]
    }
   ],
   "source": [
    "list1 = eval(input(\"Enter values: \"))\n",
    "print(list1)                   \n",
    "sum(list1)            \n",
    "print(\"SUM = \", sum(list1))"
   ]
  },
  {
   "cell_type": "markdown",
   "id": "892db85f",
   "metadata": {},
   "source": [
    "###### Code Example 02\n",
    "**Using the eval() function to accept input of different types.**"
   ]
  },
  {
   "cell_type": "code",
   "execution_count": 147,
   "id": "f264e94a",
   "metadata": {},
   "outputs": [
    {
     "name": "stdout",
     "output_type": "stream",
     "text": [
      "Enter an integer: 12\n",
      "<class 'int'>\n",
      "Enter a float: 12.0\n",
      "<class 'float'>\n",
      "Enter a tuple: (1,2,3)\n",
      "<class 'tuple'>\n",
      "Enter a list: [1,2,3]\n",
      "<class 'list'>\n"
     ]
    }
   ],
   "source": [
    "a = eval(input(\"Enter an integer: \"))\n",
    "print(type(a))\n",
    "\n",
    "b = eval(input(\"Enter a float: \"))\n",
    "print(type(b))\n",
    "\n",
    "c = eval(input(\"Enter a tuple: \"))\n",
    "print(type(c))\n",
    "\n",
    "d = eval(input(\"Enter a list: \"))\n",
    "print(type(d))"
   ]
  },
  {
   "cell_type": "markdown",
   "id": "911f13b8",
   "metadata": {},
   "source": [
    "###### Code Example 03\n",
    "\n",
    "For Visualise: https://shorturl.at/elr12\n",
    "\n",
    "+ to add values in the list use **append()** method\n",
    "+ If you know exactly which element(s) to delete, use the **del** statement; otherwise, use the **remove()** method to delete the unknown elements."
   ]
  },
  {
   "cell_type": "code",
   "execution_count": 148,
   "id": "a5cc33b3",
   "metadata": {},
   "outputs": [
    {
     "name": "stdout",
     "output_type": "stream",
     "text": [
      "List is:  [2, 4, 6, 8, 10, 12, 14, 16, 18, 20]\n",
      "List after updation is:  [2, 4, 6, 8, 10, 100, 14, 16, 18, 20]\n",
      "List after appending a value is:  [2, 4, 6, 8, 10, 100, 14, 16, 18, 20, 200]\n",
      "List after deleting a vlaue is:  [2, 4, 6, 10, 100, 14, 16, 18, 20, 200]\n"
     ]
    }
   ],
   "source": [
    "num_list = [2,4,6,8,10,12,14,16,18,20]\n",
    "print(\"List is: \", num_list)\n",
    "num_list[5] = 100\n",
    "print(\"List after updation is: \", num_list)\n",
    "num_list.append(200)\n",
    "print(\"List after appending a value is: \", num_list)\n",
    "del num_list[3]\n",
    "print(\"List after deleting a vlaue is: \", num_list)"
   ]
  },
  {
   "cell_type": "markdown",
   "id": "ef0a1ff0",
   "metadata": {},
   "source": [
    "###### Code Example 04"
   ]
  },
  {
   "cell_type": "code",
   "execution_count": 149,
   "id": "469a1272",
   "metadata": {},
   "outputs": [
    {
     "name": "stdout",
     "output_type": "stream",
     "text": [
      "[2, 4, 6, 14, 16, 18, 20]\n",
      "[]\n"
     ]
    }
   ],
   "source": [
    "num_list = [2,4,6,8,10,12,14,16,18,20]\n",
    "del num_list[3:6]  # DELETES NUMBERS AT INDEX 3,4,5\n",
    "print(num_list)\n",
    "\n",
    "del num_list[:]  # DELETED ALL THE NUMBERS FROM THE LIST\n",
    "print(num_list)"
   ]
  },
  {
   "cell_type": "code",
   "execution_count": 150,
   "id": "251cdaa0",
   "metadata": {},
   "outputs": [
    {
     "ename": "NameError",
     "evalue": "name 'num_list' is not defined",
     "output_type": "error",
     "traceback": [
      "\u001b[1;31m---------------------------------------------------------------------------\u001b[0m",
      "\u001b[1;31mNameError\u001b[0m                                 Traceback (most recent call last)",
      "Cell \u001b[1;32mIn[150], line 2\u001b[0m\n\u001b[0;32m      1\u001b[0m \u001b[38;5;28;01mdel\u001b[39;00m(num_list)     \u001b[38;5;66;03m# the list no longer exists\u001b[39;00m\n\u001b[1;32m----> 2\u001b[0m \u001b[38;5;28mprint\u001b[39m(\u001b[43mnum_list\u001b[49m)\n",
      "\u001b[1;31mNameError\u001b[0m: name 'num_list' is not defined"
     ]
    }
   ],
   "source": [
    "del(num_list)     # the list no longer exists\n",
    "print(num_list)"
   ]
  },
  {
   "cell_type": "code",
   "execution_count": 151,
   "id": "14674f3f",
   "metadata": {},
   "outputs": [
    {
     "ename": "NameError",
     "evalue": "name 'num_list' is not defined",
     "output_type": "error",
     "traceback": [
      "\u001b[1;31m---------------------------------------------------------------------------\u001b[0m",
      "\u001b[1;31mNameError\u001b[0m                                 Traceback (most recent call last)",
      "Cell \u001b[1;32mIn[151], line 1\u001b[0m\n\u001b[1;32m----> 1\u001b[0m \u001b[38;5;28;01mdel\u001b[39;00m \u001b[43mnum_list\u001b[49m\n\u001b[0;32m      2\u001b[0m \u001b[38;5;28mprint\u001b[39m(num_list)\n",
      "\u001b[1;31mNameError\u001b[0m: name 'num_list' is not defined"
     ]
    }
   ],
   "source": [
    "del num_list\n",
    "print(num_list)"
   ]
  },
  {
   "cell_type": "markdown",
   "id": "72e0d197",
   "metadata": {},
   "source": [
    "**Note that when we write del num_list, the entire variable is deleted. if you make any attempt to use this variable after the del statement, then an error will be generated**"
   ]
  },
  {
   "cell_type": "markdown",
   "id": "a1f1e8ab",
   "metadata": {},
   "source": [
    "## RELATIONAL OPERATIONS ON LISTS\n",
    "\n",
    "+ We can compare two lists objects using relational opertors like ==, >, <, >=, <=, !=, etc. \n",
    "+ Python conpares elements of a list in lexicographical order.\n",
    "+ Each elemenet of the list is compared with the corresponding element in the other list.\n",
    "+ However, to use operators like >=, <=, >, < the two values must be of compatible types; otherwise an error will be generated. "
   ]
  },
  {
   "cell_type": "markdown",
   "id": "293b4b0c",
   "metadata": {},
   "source": [
    "###### Code Example 05"
   ]
  },
  {
   "cell_type": "code",
   "execution_count": 152,
   "id": "386ae0c6",
   "metadata": {},
   "outputs": [],
   "source": [
    "l1 = [1,2,3]\n",
    "l2 = [1,2,3]\n",
    "l3 = [1, [2,3]]"
   ]
  },
  {
   "cell_type": "code",
   "execution_count": 153,
   "id": "b6ff061a",
   "metadata": {},
   "outputs": [
    {
     "name": "stdout",
     "output_type": "stream",
     "text": [
      "True\n"
     ]
    }
   ],
   "source": [
    "print(l1 == l2)"
   ]
  },
  {
   "cell_type": "code",
   "execution_count": 154,
   "id": "106be9c5",
   "metadata": {},
   "outputs": [
    {
     "name": "stdout",
     "output_type": "stream",
     "text": [
      "False\n"
     ]
    }
   ],
   "source": [
    "print(l1 == l3)"
   ]
  },
  {
   "cell_type": "markdown",
   "id": "4f65fe14",
   "metadata": {},
   "source": [
    "###### Code Example 06"
   ]
  },
  {
   "cell_type": "code",
   "execution_count": 155,
   "id": "2ea3ceff",
   "metadata": {},
   "outputs": [
    {
     "name": "stdout",
     "output_type": "stream",
     "text": [
      "False\n"
     ]
    }
   ],
   "source": [
    "l1 = [1,2,3]\n",
    "l2 = [1,3,3]\n",
    "\n",
    "print(l1 >= l2)"
   ]
  },
  {
   "cell_type": "code",
   "execution_count": 156,
   "id": "63a2740c",
   "metadata": {},
   "outputs": [
    {
     "name": "stdout",
     "output_type": "stream",
     "text": [
      "True\n"
     ]
    }
   ],
   "source": [
    "print(l1 <= l2)"
   ]
  },
  {
   "cell_type": "code",
   "execution_count": 157,
   "id": "72f9473b",
   "metadata": {},
   "outputs": [
    {
     "name": "stdout",
     "output_type": "stream",
     "text": [
      "False\n"
     ]
    }
   ],
   "source": [
    "l1 = [1,2,3,4]\n",
    "l2 = [1,3,3]\n",
    "print(l1 >= l2)"
   ]
  },
  {
   "cell_type": "markdown",
   "id": "21c1ce54",
   "metadata": {},
   "source": [
    "###### Code Example 07"
   ]
  },
  {
   "cell_type": "code",
   "execution_count": 158,
   "id": "7a5afffb",
   "metadata": {},
   "outputs": [
    {
     "name": "stdout",
     "output_type": "stream",
     "text": [
      "True\n"
     ]
    }
   ],
   "source": [
    "l1 = [1,2,3,4]\n",
    "l2 = ['a', 'b', 'c']\n",
    "l3 = [1.0, 2.0, 3.0]\n",
    "print(l1 >= l3)"
   ]
  },
  {
   "cell_type": "code",
   "execution_count": 159,
   "id": "59d1c1ca",
   "metadata": {},
   "outputs": [
    {
     "ename": "TypeError",
     "evalue": "'>=' not supported between instances of 'str' and 'float'",
     "output_type": "error",
     "traceback": [
      "\u001b[1;31m---------------------------------------------------------------------------\u001b[0m",
      "\u001b[1;31mTypeError\u001b[0m                                 Traceback (most recent call last)",
      "Cell \u001b[1;32mIn[159], line 1\u001b[0m\n\u001b[1;32m----> 1\u001b[0m \u001b[38;5;28mprint\u001b[39m(\u001b[43ml2\u001b[49m\u001b[43m \u001b[49m\u001b[38;5;241;43m>\u001b[39;49m\u001b[38;5;241;43m=\u001b[39;49m\u001b[43m \u001b[49m\u001b[43ml3\u001b[49m)\n",
      "\u001b[1;31mTypeError\u001b[0m: '>=' not supported between instances of 'str' and 'float'"
     ]
    }
   ],
   "source": [
    "print(l2 >= l3)"
   ]
  },
  {
   "cell_type": "code",
   "execution_count": 160,
   "id": "1cacbe7a",
   "metadata": {},
   "outputs": [
    {
     "name": "stdout",
     "output_type": "stream",
     "text": [
      "True\n"
     ]
    }
   ],
   "source": [
    "l1 = [1,2,3]\n",
    "l2 = [1.0, 2.0, 3.0]\n",
    "print(l1 == l2)"
   ]
  },
  {
   "cell_type": "markdown",
   "id": "cc113264",
   "metadata": {},
   "source": [
    "## NESTED LISTS\n",
    "\n",
    "+ Nested list means a list within another list.\n",
    "\n",
    "\n",
    "###### Code Example 08"
   ]
  },
  {
   "cell_type": "code",
   "execution_count": 161,
   "id": "32a75014",
   "metadata": {},
   "outputs": [
    {
     "name": "stdout",
     "output_type": "stream",
     "text": [
      "List1[ 0 ] =  1\n",
      "List1[ 1 ] =  2\n",
      "List1[ 2 ] =  a\n",
      "List1[ 3 ] =  [5.0, 6, 'ABCD', 'BYE']\n",
      "List1[ 4 ] =  HELLO\n",
      "List1[ 5 ] =  345\n"
     ]
    }
   ],
   "source": [
    "## Creatinga Nested List\n",
    "list1 = [1,2, 'a', [5.0, 6, \"ABCD\", \"BYE\"], \"HELLO\", 345]\n",
    "\n",
    "i = 0\n",
    "while(i < len(list1)):\n",
    "    print(\"List1[\", i, \"] = \", list1[i])\n",
    "    i += 1"
   ]
  },
  {
   "cell_type": "code",
   "execution_count": 162,
   "id": "ad923399",
   "metadata": {},
   "outputs": [
    {
     "data": {
      "text/plain": [
       "5.0"
      ]
     },
     "execution_count": 162,
     "metadata": {},
     "output_type": "execute_result"
    }
   ],
   "source": [
    "list1[3][0]"
   ]
  },
  {
   "cell_type": "code",
   "execution_count": 163,
   "id": "dda1f557",
   "metadata": {},
   "outputs": [
    {
     "data": {
      "text/plain": [
       "'BYE'"
      ]
     },
     "execution_count": 163,
     "metadata": {},
     "output_type": "execute_result"
    }
   ],
   "source": [
    "list1[3][-1]"
   ]
  },
  {
   "cell_type": "code",
   "execution_count": 164,
   "id": "eb47af2a",
   "metadata": {},
   "outputs": [
    {
     "data": {
      "text/plain": [
       "['BYE', 'ABCD', 6, 5.0]"
      ]
     },
     "execution_count": 164,
     "metadata": {},
     "output_type": "execute_result"
    }
   ],
   "source": [
    "list1[3][::-1]"
   ]
  },
  {
   "cell_type": "markdown",
   "id": "7a10d6fb",
   "metadata": {},
   "source": [
    "### Creating a list within another list creating a nested list\n",
    "\n",
    "\n",
    "###### Code Example 09"
   ]
  },
  {
   "cell_type": "code",
   "execution_count": 165,
   "id": "554a7ee0",
   "metadata": {},
   "outputs": [
    {
     "name": "stdout",
     "output_type": "stream",
     "text": [
      "Original List:  [2, 4, 12, 14]\n",
      "After inserting another list:  [2, 4, [6, 7, 8], 14]\n"
     ]
    }
   ],
   "source": [
    "num_list = [2,4,12,14]\n",
    "print(\"Original List: \", num_list)\n",
    "\n",
    "num_list[2] = [6,7,8]\n",
    "print(\"After inserting another list: \", num_list)"
   ]
  },
  {
   "cell_type": "code",
   "execution_count": 166,
   "id": "ecf1b18b",
   "metadata": {},
   "outputs": [
    {
     "name": "stdout",
     "output_type": "stream",
     "text": [
      "6\n"
     ]
    }
   ],
   "source": [
    "print(num_list[2][0])"
   ]
  },
  {
   "cell_type": "markdown",
   "id": "a683342a",
   "metadata": {},
   "source": [
    "## LIST ALIASING AND CLONING\n",
    "\n",
    "### ALIASING\n",
    "\n",
    "+ When one list is assigned to another list using the assignment operator (=), the new copy of the list is not made.\n",
    "+ Instead, assignment operation makes the two variables point to the same list in memory. This is also known as aliasing.\n",
    "\n",
    "\n",
    "### CLONING\n",
    "+ If you want to modify a list and also keep a copy of the original list, then you should create a separate copy of the list (not just the reference). This process is called cloning. \n",
    "+ **The slice operation is used to clone a list**.\n",
    "\n",
    "\n",
    "Visualizer: https://shorturl.at/delsv"
   ]
  },
  {
   "cell_type": "markdown",
   "id": "92cb60b0",
   "metadata": {},
   "source": [
    "###### Code Example 09"
   ]
  },
  {
   "cell_type": "code",
   "execution_count": 167,
   "id": "a2d9ac62",
   "metadata": {},
   "outputs": [
    {
     "name": "stdout",
     "output_type": "stream",
     "text": [
      "List2 =  [1, 2, 3, 4, 5, 6, 7, 8, 9, 10]\n",
      "List2 =  [1, 2, 3, 4, 5, 6, 7, 8, 9, 10]\n",
      "List3 =  [3, 4, 5]\n"
     ]
    }
   ],
   "source": [
    "list1 = [1,2,3,4,5,6,7,8,9,10]\n",
    "print(\"List2 = \", list1)\n",
    "\n",
    "\n",
    "list2 = list1  # list aliasing\n",
    "print(\"List2 = \", list2)\n",
    "\n",
    "list3 = list1[2:5] # list cloning\n",
    "print(\"List3 = \", list3)"
   ]
  },
  {
   "cell_type": "markdown",
   "id": "e49ab389",
   "metadata": {},
   "source": [
    "## DELETING\n",
    "\n",
    "###### Code Example 10"
   ]
  },
  {
   "cell_type": "code",
   "execution_count": 168,
   "id": "e846cd96",
   "metadata": {},
   "outputs": [
    {
     "name": "stdout",
     "output_type": "stream",
     "text": [
      "[1, 2, 3, 4, 5, 6, 7, 8, 9, 10]\n"
     ]
    }
   ],
   "source": [
    "l = [1,2,3,4,5,6,7,8,9,10]\n",
    "print(l)"
   ]
  },
  {
   "cell_type": "code",
   "execution_count": 169,
   "id": "a715ae63",
   "metadata": {},
   "outputs": [
    {
     "name": "stdout",
     "output_type": "stream",
     "text": [
      "[1, 2, 4, 5, 6, 7, 8, 9, 10]\n"
     ]
    }
   ],
   "source": [
    "## deleting third element\n",
    "del l[2]\n",
    "\n",
    "print(l)"
   ]
  },
  {
   "cell_type": "code",
   "execution_count": 170,
   "id": "9aec9d85",
   "metadata": {},
   "outputs": [
    {
     "name": "stdout",
     "output_type": "stream",
     "text": [
      "[1, 2, 4, 9, 10]\n"
     ]
    }
   ],
   "source": [
    "## deleting fourth, fifth, sixth and seventh elements from the list\n",
    "del l[3:7]\n",
    "print(l)"
   ]
  },
  {
   "cell_type": "code",
   "execution_count": 171,
   "id": "786d9be2",
   "metadata": {},
   "outputs": [
    {
     "name": "stdout",
     "output_type": "stream",
     "text": [
      "Deleting List: \n"
     ]
    },
    {
     "ename": "NameError",
     "evalue": "name 'l' is not defined",
     "output_type": "error",
     "traceback": [
      "\u001b[1;31m---------------------------------------------------------------------------\u001b[0m",
      "\u001b[1;31mNameError\u001b[0m                                 Traceback (most recent call last)",
      "Cell \u001b[1;32mIn[171], line 4\u001b[0m\n\u001b[0;32m      2\u001b[0m \u001b[38;5;28mprint\u001b[39m(\u001b[38;5;124m\"\u001b[39m\u001b[38;5;124mDeleting List: \u001b[39m\u001b[38;5;124m\"\u001b[39m)\n\u001b[0;32m      3\u001b[0m \u001b[38;5;28;01mdel\u001b[39;00m l\n\u001b[1;32m----> 4\u001b[0m \u001b[38;5;28mprint\u001b[39m(\u001b[43ml\u001b[49m)\n",
      "\u001b[1;31mNameError\u001b[0m: name 'l' is not defined"
     ]
    }
   ],
   "source": [
    "## deleting the entire list\n",
    "print(\"Deleting List: \")\n",
    "del l\n",
    "print(l)"
   ]
  },
  {
   "cell_type": "markdown",
   "id": "7fa34a8f",
   "metadata": {},
   "source": [
    "## DEEP COPIES AND SHALLOW COPIES IN PYTHON\n",
    "\n",
    "#### DEEP COPY\n",
    "+ A deep copy makes a new and separate copy of an entire object or list with its own unique memory address.\n",
    "+ Therefore, any changes made in the new copy of the object/list will not be reflected in the original one.\n",
    "+ A deep copy creates a new list or object by recursively copying the elements from the original object to the new one. \n",
    "+ So, both the objects are completely indepedent of each other.\n",
    "+ This is similar to the concept of **passing by value** in language like **C++, JAVA, and C#**\n",
    "\n",
    "\n",
    "#### SHALLOW COPY\n",
    "+ A shallow copy also makes a separate new object or list.\n",
    "+ However, in this case, instead of copying the elements to the new object, **it simply copies the reference to their memory addresses**.\n",
    "+ Hence, changes made in the original object, would also be reflected in the copied object, and vice versa.\n",
    "+ Similar to the concept of **pass by reference** in programming language like **C++, JAVA< and C#**\n",
    "\n",
    "\n",
    "###### NOTE\n",
    "+ **The assignment operator (=) is used to create a shallow copy of the list**\n",
    "+ **The list() creates a deep copy**"
   ]
  },
  {
   "cell_type": "markdown",
   "id": "7fccee8a",
   "metadata": {},
   "source": [
    "![immg](https://scaler.com/topics/images/shallow-copy-and-deep-copy.webp)"
   ]
  },
  {
   "cell_type": "markdown",
   "id": "f83e5576",
   "metadata": {},
   "source": [
    "###### Code Example 11\n",
    "\n",
    "###### SHALLOW COPY\n",
    "\n",
    "Visualizer: https://shorturl.at/acpqB"
   ]
  },
  {
   "cell_type": "code",
   "execution_count": 172,
   "id": "1b8722f0",
   "metadata": {},
   "outputs": [
    {
     "name": "stdout",
     "output_type": "stream",
     "text": [
      "L1 =  [1, 2, 3, 4, 5]\n",
      "L2 =  [1, 2, 3, 4, 5]\n"
     ]
    }
   ],
   "source": [
    "# creating a shallow copy of a list\n",
    "\n",
    "l1 = [1,2,3,4,5]\n",
    "l2 = l1\n",
    "\n",
    "print(\"L1 = \", l1)\n",
    "print(\"L2 = \", l2)"
   ]
  },
  {
   "cell_type": "code",
   "execution_count": 173,
   "id": "113d3223",
   "metadata": {},
   "outputs": [
    {
     "name": "stdout",
     "output_type": "stream",
     "text": [
      "L1 =  [1, 2, 10, 4, 5]\n",
      "L2 =  [1, 2, 10, 4, 5]\n"
     ]
    }
   ],
   "source": [
    "l1[2] = 10\n",
    "print(\"L1 = \", l1)\n",
    "print(\"L2 = \", l2)"
   ]
  },
  {
   "cell_type": "markdown",
   "id": "b837fed4",
   "metadata": {},
   "source": [
    "###### Code Example 12\n",
    "###### DEEP COPY\n",
    "\n",
    "Visualiser: https://shorturl.at/szKW2"
   ]
  },
  {
   "cell_type": "code",
   "execution_count": 174,
   "id": "4af0126c",
   "metadata": {},
   "outputs": [
    {
     "name": "stdout",
     "output_type": "stream",
     "text": [
      "L1 =  [1, 2, 3, 4]\n",
      "L2 =  [1, 2, 3, 4]\n"
     ]
    }
   ],
   "source": [
    "# creating a deep copy of a list\n",
    "import copy\n",
    "l1 = [1,2,3,4]\n",
    "l2 = copy.deepcopy(l1)\n",
    "\n",
    "print(\"L1 = \", l1)\n",
    "print(\"L2 = \", l2)"
   ]
  },
  {
   "cell_type": "code",
   "execution_count": 175,
   "id": "f621b30f",
   "metadata": {},
   "outputs": [
    {
     "name": "stdout",
     "output_type": "stream",
     "text": [
      "L1 =  [1, 2, 200, 4]\n",
      "L2 =  [1, 2, 3, 4]\n"
     ]
    }
   ],
   "source": [
    "l1[2] = 200\n",
    "\n",
    "print(\"L1 = \", l1)\n",
    "print(\"L2 = \", l2)"
   ]
  },
  {
   "cell_type": "markdown",
   "id": "07c7ad08",
   "metadata": {},
   "source": [
    "## BASIC LIST OPERATIONS\n",
    "\n",
    "| Operations    |       Description                                                                 |   \n",
    "|---------------|---------------------------------------------------------------------------------- |\n",
    "| len           | Returns length of list                                                            |\n",
    "| concatenation | Joins two lists                                                                   | \n",
    "| repetition    | Repeat elements in the list                                                       |\n",
    "| in            | Checks if the value is present in the list                                        |\n",
    "| not in        | Checks if the value is not present in the list                                    |\n",
    "| max           | Return maximum value in the list                                                  |\n",
    "| min           | Return minimum value in the list                                                  |\n",
    "| sum           | Adds the values in the list that has numbers                                      |\n",
    "| all           | Returns True if all elements of the list are true (or if the list is empty)       |\n",
    "| any           | Return True if any element of the list us true. If the list is empty, return False|\n",
    "| list          | Convert tuple, string to a list                                                   |\n",
    "| sorted        | Return a new sorted list. The original list is not sorted.                        |"
   ]
  },
  {
   "cell_type": "code",
   "execution_count": 176,
   "id": "b339e485",
   "metadata": {},
   "outputs": [
    {
     "name": "stdout",
     "output_type": "stream",
     "text": [
      "Length of the list is:  5\n"
     ]
    }
   ],
   "source": [
    "## len\n",
    "l1 = [1,2,3,4,5]\n",
    "print(\"Length of the list is: \", len(l1))"
   ]
  },
  {
   "cell_type": "code",
   "execution_count": 177,
   "id": "8340dea2",
   "metadata": {},
   "outputs": [
    {
     "name": "stdout",
     "output_type": "stream",
     "text": [
      "Concatenation of two lists:  [1, 2, 3, 3, 4, 5]\n"
     ]
    }
   ],
   "source": [
    "## conctenatiopn operator --> + \n",
    "l1 = [1,2,3]\n",
    "l2 = [3,4,5]\n",
    "print(\"Concatenation of two lists: \", l1 + l2)"
   ]
  },
  {
   "cell_type": "code",
   "execution_count": 178,
   "id": "9ab34a03",
   "metadata": {},
   "outputs": [
    {
     "name": "stdout",
     "output_type": "stream",
     "text": [
      "Repetition of list three times:  [1, 2, 3, 1, 2, 3, 1, 2, 3]\n"
     ]
    }
   ],
   "source": [
    "## repetition --> *\n",
    "l1 = [1,2,3]\n",
    "print(\"Repetition of list three times: \", l1*3)"
   ]
  },
  {
   "cell_type": "code",
   "execution_count": 179,
   "id": "6926d3b5",
   "metadata": {},
   "outputs": [
    {
     "data": {
      "text/plain": [
       "True"
      ]
     },
     "execution_count": 179,
     "metadata": {},
     "output_type": "execute_result"
    }
   ],
   "source": [
    "## in\n",
    "\"a\" in ['a', 'e', 'i', 'o', 'u']"
   ]
  },
  {
   "cell_type": "code",
   "execution_count": 180,
   "id": "c2fe7f78",
   "metadata": {},
   "outputs": [
    {
     "data": {
      "text/plain": [
       "False"
      ]
     },
     "execution_count": 180,
     "metadata": {},
     "output_type": "execute_result"
    }
   ],
   "source": [
    "## not in\n",
    "\"a\" not in ['a', 'e', 'i', 'o', 'u']"
   ]
  },
  {
   "cell_type": "code",
   "execution_count": 181,
   "id": "c3bb2443",
   "metadata": {},
   "outputs": [
    {
     "name": "stdout",
     "output_type": "stream",
     "text": [
      "4\n"
     ]
    }
   ],
   "source": [
    "## max\n",
    "l1 = [1,2,3,4]\n",
    "print(max(l1))"
   ]
  },
  {
   "cell_type": "code",
   "execution_count": 182,
   "id": "496b08b9",
   "metadata": {},
   "outputs": [
    {
     "name": "stdout",
     "output_type": "stream",
     "text": [
      "1\n"
     ]
    }
   ],
   "source": [
    "## min\n",
    "l1 = [1,2,3,4]\n",
    "print(min(l1))"
   ]
  },
  {
   "cell_type": "code",
   "execution_count": 183,
   "id": "cb2952cd",
   "metadata": {},
   "outputs": [
    {
     "name": "stdout",
     "output_type": "stream",
     "text": [
      "10\n"
     ]
    }
   ],
   "source": [
    "## sum\n",
    "l1 = [1,2,3,4]\n",
    "print(sum(l1))"
   ]
  },
  {
   "cell_type": "code",
   "execution_count": 184,
   "id": "ec1b5d99",
   "metadata": {},
   "outputs": [
    {
     "name": "stdout",
     "output_type": "stream",
     "text": [
      "False\n"
     ]
    }
   ],
   "source": [
    "## all  <-- True,if all elements are True otherwise False\n",
    "l1 = [1,2,3,4, 0]\n",
    "print(all(l1))"
   ]
  },
  {
   "cell_type": "code",
   "execution_count": 185,
   "id": "bfe27f7c",
   "metadata": {},
   "outputs": [
    {
     "name": "stdout",
     "output_type": "stream",
     "text": [
      "True\n"
     ]
    }
   ],
   "source": [
    "## all  <-- True,if any elements are True otherwise False\n",
    "l1 = [1,2,3,4, 0]\n",
    "print(any(l1))"
   ]
  },
  {
   "cell_type": "code",
   "execution_count": 186,
   "id": "0a6d8f46",
   "metadata": {},
   "outputs": [
    {
     "ename": "TypeError",
     "evalue": "'list' object is not callable",
     "output_type": "error",
     "traceback": [
      "\u001b[1;31m---------------------------------------------------------------------------\u001b[0m",
      "\u001b[1;31mTypeError\u001b[0m                                 Traceback (most recent call last)",
      "Cell \u001b[1;32mIn[186], line 2\u001b[0m\n\u001b[0;32m      1\u001b[0m \u001b[38;5;66;03m## list\u001b[39;00m\n\u001b[1;32m----> 2\u001b[0m list1 \u001b[38;5;241m=\u001b[39m \u001b[38;5;28;43mlist\u001b[39;49m\u001b[43m(\u001b[49m\u001b[38;5;124;43m\"\u001b[39;49m\u001b[38;5;124;43mPYTHON\u001b[39;49m\u001b[38;5;124;43m\"\u001b[39;49m\u001b[43m)\u001b[49m\n\u001b[0;32m      3\u001b[0m \u001b[38;5;28mprint\u001b[39m(list1)\n",
      "\u001b[1;31mTypeError\u001b[0m: 'list' object is not callable"
     ]
    }
   ],
   "source": [
    "## list\n",
    "list1 = list(\"PYTHON\")\n",
    "print(list1)"
   ]
  },
  {
   "cell_type": "code",
   "execution_count": 187,
   "id": "67ce3b04",
   "metadata": {},
   "outputs": [
    {
     "name": "stdout",
     "output_type": "stream",
     "text": [
      "[0, 1, 3, 4, 5, 6, 7]\n"
     ]
    }
   ],
   "source": [
    "## sorted\n",
    "l = [1,0,3,7,4,5,6]\n",
    "l2 = sorted(l)\n",
    "print(l2)"
   ]
  },
  {
   "cell_type": "code",
   "execution_count": 188,
   "id": "df44fe43",
   "metadata": {},
   "outputs": [
    {
     "name": "stdout",
     "output_type": "stream",
     "text": [
      "[1, 0, 3, 7, 4, 5, 6]\n"
     ]
    }
   ],
   "source": [
    "print(l)"
   ]
  },
  {
   "cell_type": "code",
   "execution_count": null,
   "id": "eec10063",
   "metadata": {},
   "outputs": [],
   "source": []
  },
  {
   "cell_type": "markdown",
   "id": "db1c9f88",
   "metadata": {},
   "source": [
    "## LIST METHODS\n",
    "\n",
    "+ Python has various methods to help programmers work efficiently with lists. \n",
    "\n",
    "+ For more: [Click Here](https://github.com/OddExtension5/CrashCourseOnPython/blob/main/list%20in%20python%20.pdf)"
   ]
  },
  {
   "cell_type": "markdown",
   "id": "963025d0",
   "metadata": {},
   "source": [
    "### KEY POINTS TO REMEMBER IN LIST METHODS"
   ]
  },
  {
   "cell_type": "markdown",
   "id": "7cefa10c",
   "metadata": {},
   "source": [
    "**1. The sort() methods uses ASCII values to sort the values in the list. Since lower case characters ASCII value starts from 97 and upper case starts from 65, upper case characters appear before lower case characters when sorting is done.**"
   ]
  },
  {
   "cell_type": "code",
   "execution_count": 189,
   "id": "96a06527",
   "metadata": {},
   "outputs": [
    {
     "name": "stdout",
     "output_type": "stream",
     "text": [
      "['1', '2', '8', 'Abc', 'a', 'def']\n"
     ]
    }
   ],
   "source": [
    "l = ['1', 'a', 'Abc', '2', '8', 'def']\n",
    "l.sort()\n",
    "print(l)"
   ]
  },
  {
   "cell_type": "markdown",
   "id": "f2d8111d",
   "metadata": {},
   "source": [
    "**2. Items in a list can be deleted by assigning an empty list to a slice of elements**"
   ]
  },
  {
   "cell_type": "code",
   "execution_count": 190,
   "id": "561842b8",
   "metadata": {},
   "outputs": [
    {
     "name": "stdout",
     "output_type": "stream",
     "text": [
      "['p', 'r', 'o', 'm', 'm', 'i', 'n', 'g']\n"
     ]
    }
   ],
   "source": [
    "l = ['p', 'r', 'o', 'g', 'r', 'a', 'm', 'm', 'i', 'n', 'g']\n",
    "l[3:6] = []\n",
    "print(l)"
   ]
  },
  {
   "cell_type": "markdown",
   "id": "7305a62f",
   "metadata": {},
   "source": [
    "**3. A range() function can be used to print index**"
   ]
  },
  {
   "cell_type": "code",
   "execution_count": 191,
   "id": "ea1310ef",
   "metadata": {},
   "outputs": [
    {
     "name": "stdout",
     "output_type": "stream",
     "text": [
      "Index:  0\n",
      "Index:  1\n",
      "Index:  2\n"
     ]
    }
   ],
   "source": [
    "l = ['B', 'Y', 'E']\n",
    "for i in range(len(l)):\n",
    "    print(\"Index: \", i)"
   ]
  },
  {
   "cell_type": "markdown",
   "id": "32034ea9",
   "metadata": {},
   "source": [
    "**4. If you give index out of range of the legal indices, then an IndexError will be generated**"
   ]
  },
  {
   "cell_type": "code",
   "execution_count": 192,
   "id": "eb637058",
   "metadata": {},
   "outputs": [
    {
     "name": "stdout",
     "output_type": "stream",
     "text": [
      "4\n"
     ]
    },
    {
     "ename": "IndexError",
     "evalue": "list index out of range",
     "output_type": "error",
     "traceback": [
      "\u001b[1;31m---------------------------------------------------------------------------\u001b[0m",
      "\u001b[1;31mIndexError\u001b[0m                                Traceback (most recent call last)",
      "Cell \u001b[1;32mIn[192], line 3\u001b[0m\n\u001b[0;32m      1\u001b[0m l \u001b[38;5;241m=\u001b[39m [\u001b[38;5;241m1\u001b[39m,\u001b[38;5;124m'\u001b[39m\u001b[38;5;124ma\u001b[39m\u001b[38;5;124m'\u001b[39m, \u001b[38;5;241m3.4\u001b[39m, \u001b[38;5;124m'\u001b[39m\u001b[38;5;124mPYTHON\u001b[39m\u001b[38;5;124m'\u001b[39m]\n\u001b[0;32m      2\u001b[0m \u001b[38;5;28mprint\u001b[39m(\u001b[38;5;28mlen\u001b[39m(l))\n\u001b[1;32m----> 3\u001b[0m \u001b[38;5;28mprint\u001b[39m(\u001b[43ml\u001b[49m\u001b[43m[\u001b[49m\u001b[38;5;241;43m4\u001b[39;49m\u001b[43m]\u001b[49m)  \u001b[38;5;66;03m# error because length is 4 and we are accessing an index out of range\u001b[39;00m\n",
      "\u001b[1;31mIndexError\u001b[0m: list index out of range"
     ]
    }
   ],
   "source": [
    "l = [1,'a', 3.4, 'PYTHON']\n",
    "print(len(l))\n",
    "print(l[4])  # error because length is 4 and we are accessing an index out of range"
   ]
  },
  {
   "cell_type": "markdown",
   "id": "968ba01b",
   "metadata": {},
   "source": [
    "**5. The + operator can also be used to join two lists. However, if you try to join a number or string or any other data with a list using the + operator, TypeError will be generated.**"
   ]
  },
  {
   "cell_type": "code",
   "execution_count": 193,
   "id": "d3146342",
   "metadata": {},
   "outputs": [
    {
     "ename": "TypeError",
     "evalue": "can only concatenate list (not \"int\") to list",
     "output_type": "error",
     "traceback": [
      "\u001b[1;31m---------------------------------------------------------------------------\u001b[0m",
      "\u001b[1;31mTypeError\u001b[0m                                 Traceback (most recent call last)",
      "Cell \u001b[1;32mIn[193], line 2\u001b[0m\n\u001b[0;32m      1\u001b[0m l1 \u001b[38;5;241m=\u001b[39m [\u001b[38;5;241m1\u001b[39m,\u001b[38;5;241m2\u001b[39m,\u001b[38;5;241m3\u001b[39m,\u001b[38;5;241m4\u001b[39m,\u001b[38;5;241m5\u001b[39m]\n\u001b[1;32m----> 2\u001b[0m l2 \u001b[38;5;241m=\u001b[39m \u001b[43ml1\u001b[49m\u001b[43m \u001b[49m\u001b[38;5;241;43m+\u001b[39;49m\u001b[43m \u001b[49m\u001b[38;5;241;43m6\u001b[39;49m\n\u001b[0;32m      3\u001b[0m \u001b[38;5;28mprint\u001b[39m(l2)\n",
      "\u001b[1;31mTypeError\u001b[0m: can only concatenate list (not \"int\") to list"
     ]
    }
   ],
   "source": [
    "l1 = [1,2,3,4,5]\n",
    "l2 = l1 + 6\n",
    "print(l2)"
   ]
  },
  {
   "cell_type": "code",
   "execution_count": 194,
   "id": "5bbbcbfd",
   "metadata": {},
   "outputs": [
    {
     "name": "stdout",
     "output_type": "stream",
     "text": [
      "[1, 2, 3, 4, 5, 6]\n"
     ]
    }
   ],
   "source": [
    "l1 = [1,2,3,4,5]\n",
    "l2 = l1 + [6]\n",
    "print(l2)"
   ]
  },
  {
   "cell_type": "markdown",
   "id": "624cc2f8",
   "metadata": {},
   "source": [
    "**6. While append() method adds a single element to a list, the extend() method is used to add multiple elements from one list to another list**"
   ]
  },
  {
   "cell_type": "code",
   "execution_count": 195,
   "id": "47629e9b",
   "metadata": {},
   "outputs": [
    {
     "name": "stdout",
     "output_type": "stream",
     "text": [
      "[1, 2, 3, 4, 5, 6, 7, 8, 9]\n"
     ]
    }
   ],
   "source": [
    "l1 = [1,2,3,4,5,6]\n",
    "l1.append(7)\n",
    "l1.extend([8,9])\n",
    "print(l1)"
   ]
  },
  {
   "cell_type": "markdown",
   "id": "4895f514",
   "metadata": {},
   "source": [
    "**7. In the insert() method, if we specify a negative index that is not in the set of valid indices, the element is added at the beginning of the list**"
   ]
  },
  {
   "cell_type": "code",
   "execution_count": 196,
   "id": "f527c79b",
   "metadata": {},
   "outputs": [
    {
     "name": "stdout",
     "output_type": "stream",
     "text": [
      "[123, 1, 2, 3, 4, 5]\n"
     ]
    }
   ],
   "source": [
    "l1 = [1,2,3,4,5]\n",
    "l1.insert(-10, 123)\n",
    "print(l1)"
   ]
  },
  {
   "cell_type": "markdown",
   "id": "96ce63ce",
   "metadata": {},
   "source": [
    "**8. If pop() method us called on an empty list, then an IndexError will be generated**"
   ]
  },
  {
   "cell_type": "code",
   "execution_count": 197,
   "id": "eb5d29b5",
   "metadata": {},
   "outputs": [
    {
     "ename": "IndexError",
     "evalue": "pop from empty list",
     "output_type": "error",
     "traceback": [
      "\u001b[1;31m---------------------------------------------------------------------------\u001b[0m",
      "\u001b[1;31mIndexError\u001b[0m                                Traceback (most recent call last)",
      "Cell \u001b[1;32mIn[197], line 2\u001b[0m\n\u001b[0;32m      1\u001b[0m l1 \u001b[38;5;241m=\u001b[39m []\n\u001b[1;32m----> 2\u001b[0m \u001b[43ml1\u001b[49m\u001b[38;5;241;43m.\u001b[39;49m\u001b[43mpop\u001b[49m\u001b[43m(\u001b[49m\u001b[43m)\u001b[49m\n",
      "\u001b[1;31mIndexError\u001b[0m: pop from empty list"
     ]
    }
   ],
   "source": [
    "l1 = []\n",
    "l1.pop()"
   ]
  },
  {
   "cell_type": "markdown",
   "id": "c33f310e",
   "metadata": {},
   "source": [
    "## PROGRAMMER'S ZONE"
   ]
  },
  {
   "cell_type": "markdown",
   "id": "ed6640b1",
   "metadata": {},
   "source": [
    "##### 1. WAP that creates a list of numbers from 1-20 that are either divisible by 2 or divisible by 4 without using the filter operation"
   ]
  },
  {
   "cell_type": "code",
   "execution_count": 118,
   "id": "cd6684e5",
   "metadata": {},
   "outputs": [
    {
     "name": "stdout",
     "output_type": "stream",
     "text": [
      "[2, 4, 6, 8, 10, 12, 14, 16, 18, 20]\n"
     ]
    }
   ],
   "source": [
    "div_2_4 = []\n",
    "\n",
    "for i in range(2,22):\n",
    "    if(i%2 == 0 or i%4 == 0):\n",
    "        div_2_4.append(i)\n",
    "        \n",
    "print(div_2_4)"
   ]
  },
  {
   "cell_type": "markdown",
   "id": "7a3b57f3",
   "metadata": {},
   "source": [
    "##### 2. WAP that defines a list of countries that are member of BRICS. Check whether a country is a member of BRICS or not."
   ]
  },
  {
   "cell_type": "code",
   "execution_count": 119,
   "id": "2473251d",
   "metadata": {},
   "outputs": [
    {
     "name": "stdout",
     "output_type": "stream",
     "text": [
      "Enter the name of the country: Pakistan\n",
      "Pakistan is not a member of BRICS\n"
     ]
    }
   ],
   "source": [
    "country = ['Brazil', 'India', 'China', 'Russia', 'Sri Lanka']\n",
    "is_member = input(\"Enter the name of the country: \")\n",
    "\n",
    "if is_member in country:\n",
    "    print(is_member, \"has also joined BRICS\")\n",
    "else:\n",
    "    print(is_member, \"is not a member of BRICS\")"
   ]
  },
  {
   "cell_type": "markdown",
   "id": "1158b09e",
   "metadata": {},
   "source": [
    "##### 3. WAP to create a list of numbers in the range 1 to 10. Then delete all the even numbers from the list and print the final list."
   ]
  },
  {
   "cell_type": "code",
   "execution_count": 120,
   "id": "445c289d",
   "metadata": {},
   "outputs": [
    {
     "name": "stdout",
     "output_type": "stream",
     "text": [
      "ORIGINAL LIST:  [1, 2, 3, 4, 5, 6, 7, 8, 9, 10]\n",
      "List after deleting even numbers :  [1, 3, 5, 7, 9]\n"
     ]
    }
   ],
   "source": [
    "num_list = []\n",
    "for i in range(1,11):\n",
    "    num_list.append(i)\n",
    "\n",
    "print(\"ORIGINAL LIST: \", num_list)\n",
    "\n",
    "for index, i in enumerate(num_list):\n",
    "    if i%2 == 0:\n",
    "        del num_list[index]\n",
    "\n",
    "print(\"List after deleting even numbers : \", num_list)"
   ]
  },
  {
   "cell_type": "code",
   "execution_count": null,
   "id": "1e184841",
   "metadata": {},
   "outputs": [],
   "source": []
  },
  {
   "cell_type": "code",
   "execution_count": null,
   "id": "83f8227d",
   "metadata": {},
   "outputs": [],
   "source": []
  },
  {
   "cell_type": "markdown",
   "id": "b0197816",
   "metadata": {},
   "source": [
    "## GIVE THE OUTPUT"
   ]
  },
  {
   "cell_type": "markdown",
   "id": "aae09656",
   "metadata": {},
   "source": [
    "https://csiplearninghub.com/important-practice-questions-of-list-in-python/"
   ]
  },
  {
   "cell_type": "markdown",
   "id": "1029d8cc",
   "metadata": {},
   "source": [
    "https://csiplearninghub.com/important-mcq-on-list-in-python-class-11/"
   ]
  },
  {
   "cell_type": "markdown",
   "id": "3ced3eef",
   "metadata": {},
   "source": [
    "https://csiplearninghub.com/list-manipulation-in-python-notes-class-11/"
   ]
  },
  {
   "cell_type": "markdown",
   "id": "a784382c",
   "metadata": {},
   "source": [
    "## CHEAT SHEET"
   ]
  },
  {
   "cell_type": "markdown",
   "id": "782c15a5",
   "metadata": {},
   "source": [
    "https://edu.anarcho-copy.org/Programming%20Languages/Python/Python%20CheatSheet/beginners_python_cheat_sheet_pcc_lists.pdf"
   ]
  },
  {
   "cell_type": "code",
   "execution_count": null,
   "id": "963d7656",
   "metadata": {},
   "outputs": [],
   "source": []
  }
 ],
 "metadata": {
  "kernelspec": {
   "display_name": "Python 3 (ipykernel)",
   "language": "python",
   "name": "python3"
  },
  "language_info": {
   "codemirror_mode": {
    "name": "ipython",
    "version": 3
   },
   "file_extension": ".py",
   "mimetype": "text/x-python",
   "name": "python",
   "nbconvert_exporter": "python",
   "pygments_lexer": "ipython3",
   "version": "3.11.0"
  }
 },
 "nbformat": 4,
 "nbformat_minor": 5
}
