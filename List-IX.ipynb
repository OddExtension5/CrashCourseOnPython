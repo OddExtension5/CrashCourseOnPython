{
 "cells": [
  {
   "cell_type": "markdown",
   "id": "e71b7b18",
   "metadata": {},
   "source": [
    "# LIST"
   ]
  },
  {
   "cell_type": "markdown",
   "id": "aa3d00ed",
   "metadata": {},
   "source": [
    "List is a linear data structure that falls under the category of sequential data type of Python.\n",
    "\n",
    "A list is generally a mutable sequence, that is its length can be changed or we can modify the value it contain.\n",
    "\n",
    "+ **Mutuable Data Type** : lists, dictionaries, and sets are mutable\n",
    "+ **Immutable Data Types**: Int, Float, Tuple, Complex, String ,frozen set, Bytes\n",
    "+ Syntax of List\n",
    "```python\n",
    "List_variable = [val1, val2, ...]\n",
    "```"
   ]
  },
  {
   "cell_type": "markdown",
   "id": "8e485baa",
   "metadata": {},
   "source": [
    "# Properties of List:"
   ]
  },
  {
   "cell_type": "markdown",
   "id": "6b8c7f85",
   "metadata": {},
   "source": [
    "1. It is a linear and sequential data structure.\n",
    "2. It is mutable in nature.\n",
    "3. It may contain homogenous and heterogenous type of data.\n",
    "4. It is one of the four data type of Python.\n",
    "5. We can implement a list within another list, and such type of lists are known as nested lists."
   ]
  },
  {
   "cell_type": "markdown",
   "id": "a7febf23",
   "metadata": {},
   "source": [
    "# LIST CREATION"
   ]
  },
  {
   "cell_type": "markdown",
   "id": "354fbf64",
   "metadata": {},
   "source": [
    "## Creating an empty list"
   ]
  },
  {
   "cell_type": "code",
   "execution_count": 71,
   "id": "e42b17cf",
   "metadata": {},
   "outputs": [
    {
     "name": "stdout",
     "output_type": "stream",
     "text": [
      "[]\n"
     ]
    }
   ],
   "source": [
    "L = []\n",
    "print(L)"
   ]
  },
  {
   "cell_type": "code",
   "execution_count": 72,
   "id": "78382e68",
   "metadata": {},
   "outputs": [
    {
     "name": "stdout",
     "output_type": "stream",
     "text": [
      "[]\n"
     ]
    }
   ],
   "source": [
    "L1 = list()\n",
    "print(L1)"
   ]
  },
  {
   "cell_type": "markdown",
   "id": "70e04e30",
   "metadata": {},
   "source": [
    "## Creating list with some values"
   ]
  },
  {
   "cell_type": "markdown",
   "id": "4a47fb22",
   "metadata": {},
   "source": [
    "### Creating a homogeneous list (same type of data)"
   ]
  },
  {
   "cell_type": "code",
   "execution_count": 73,
   "id": "d4c3199c",
   "metadata": {},
   "outputs": [
    {
     "name": "stdout",
     "output_type": "stream",
     "text": [
      "[10, 20, 30, 40, 50]\n"
     ]
    }
   ],
   "source": [
    "L = [10,20,30,40,50]\n",
    "print(L)"
   ]
  },
  {
   "cell_type": "markdown",
   "id": "7a448d1e",
   "metadata": {},
   "source": [
    "### Creating a heterogeneous list (different types of data)"
   ]
  },
  {
   "cell_type": "code",
   "execution_count": 74,
   "id": "fc68593f",
   "metadata": {},
   "outputs": [
    {
     "name": "stdout",
     "output_type": "stream",
     "text": [
      "[10, 4.762, '@']\n"
     ]
    }
   ],
   "source": [
    "L = [10, 4.762, '@']\n",
    "print(L)"
   ]
  },
  {
   "cell_type": "markdown",
   "id": "29268c48",
   "metadata": {},
   "source": [
    "### More examples"
   ]
  },
  {
   "cell_type": "code",
   "execution_count": 75,
   "id": "3c020173",
   "metadata": {},
   "outputs": [
    {
     "name": "stdout",
     "output_type": "stream",
     "text": [
      "['H', 'e', 'l', 'l', 'o', ' ', 'P', 'y', 't', 'h', 'o', 'n']\n"
     ]
    }
   ],
   "source": [
    "a = \"Hello Python\"\n",
    "L = list(a)\n",
    "print(L)"
   ]
  },
  {
   "cell_type": "code",
   "execution_count": 76,
   "id": "0c93ba15",
   "metadata": {},
   "outputs": [
    {
     "name": "stdout",
     "output_type": "stream",
     "text": [
      "['A', 1, 'C', 2, 'E']\n"
     ]
    }
   ],
   "source": [
    "list_B = ['A', 1, 'C', 2, 'E']\n",
    "print(list_B)"
   ]
  },
  {
   "cell_type": "code",
   "execution_count": 77,
   "id": "148ed831",
   "metadata": {},
   "outputs": [
    {
     "name": "stdout",
     "output_type": "stream",
     "text": [
      "['Hello', 'World']\n"
     ]
    }
   ],
   "source": [
    "list_C = [\"Hello\", \"World\"]\n",
    "print(list_C)"
   ]
  },
  {
   "cell_type": "code",
   "execution_count": 78,
   "id": "ca75f6f1",
   "metadata": {},
   "outputs": [
    {
     "name": "stdout",
     "output_type": "stream",
     "text": [
      "[1, 'a', 'HELLO']\n"
     ]
    }
   ],
   "source": [
    "list_D = [1, 'a', 'HELLO']\n",
    "print(list_D)"
   ]
  },
  {
   "cell_type": "code",
   "execution_count": 79,
   "id": "512c1a30",
   "metadata": {},
   "outputs": [
    {
     "name": "stdout",
     "output_type": "stream",
     "text": [
      "[1, 2, 3, 4, 0.5, 'abc', 'def', [3, 5, 'mayuk', 5.0], (2, 3, 4), 'defghi', 5.5]\n"
     ]
    }
   ],
   "source": [
    "l = [1,2,3,4,0.5,\"abc\",\"def\",[3,5,\"mayuk\",5.0], (2,3,4), \"defghi\", 5.5]\n",
    "print(l)"
   ]
  },
  {
   "cell_type": "markdown",
   "id": "0cdfaf1f",
   "metadata": {},
   "source": [
    "# INDEXING AND SUBSCRIPT"
   ]
  },
  {
   "cell_type": "markdown",
   "id": "ce0b753d",
   "metadata": {},
   "source": [
    "The concept of indexing or subscript is used to fetch individual data from a list or any sequential structure,"
   ]
  },
  {
   "cell_type": "markdown",
   "id": "d4bd5293",
   "metadata": {},
   "source": [
    "There are two types of indexing supported by Python --\n",
    "\n",
    "1. **Forward Indexing** :- Starts from left to right of the structure, starting with the value 0 upto size - 1.\n",
    "2. **Reverse Indexing** :- Moves from right to left and starts from -1 to negative size. "
   ]
  },
  {
   "cell_type": "markdown",
   "id": "c2a73e68",
   "metadata": {},
   "source": [
    "![imge](https://www.alphacodingskills.com/python/img/python-list.png)"
   ]
  },
  {
   "cell_type": "code",
   "execution_count": 80,
   "id": "c5cddb57",
   "metadata": {},
   "outputs": [
    {
     "name": "stdout",
     "output_type": "stream",
     "text": [
      "['MON', 'TUE', 'WED', 'THU', 'FRI']\n"
     ]
    }
   ],
   "source": [
    "L = ['MON', 'TUE', 'WED', 'THU', 'FRI']\n",
    "print(L)"
   ]
  },
  {
   "cell_type": "code",
   "execution_count": 81,
   "id": "642b227f",
   "metadata": {},
   "outputs": [
    {
     "data": {
      "text/plain": [
       "'MON'"
      ]
     },
     "execution_count": 81,
     "metadata": {},
     "output_type": "execute_result"
    }
   ],
   "source": [
    "L[0]"
   ]
  },
  {
   "cell_type": "code",
   "execution_count": 82,
   "id": "5ef7a9ed",
   "metadata": {},
   "outputs": [
    {
     "data": {
      "text/plain": [
       "'TUE'"
      ]
     },
     "execution_count": 82,
     "metadata": {},
     "output_type": "execute_result"
    }
   ],
   "source": [
    "L[1]"
   ]
  },
  {
   "cell_type": "code",
   "execution_count": 83,
   "id": "9ccad3e9",
   "metadata": {},
   "outputs": [
    {
     "data": {
      "text/plain": [
       "'WED'"
      ]
     },
     "execution_count": 83,
     "metadata": {},
     "output_type": "execute_result"
    }
   ],
   "source": [
    "L[2]"
   ]
  },
  {
   "cell_type": "code",
   "execution_count": 84,
   "id": "d42c738f",
   "metadata": {},
   "outputs": [
    {
     "data": {
      "text/plain": [
       "'THU'"
      ]
     },
     "execution_count": 84,
     "metadata": {},
     "output_type": "execute_result"
    }
   ],
   "source": [
    "L[3]"
   ]
  },
  {
   "cell_type": "code",
   "execution_count": 85,
   "id": "b213223e",
   "metadata": {},
   "outputs": [
    {
     "data": {
      "text/plain": [
       "'FRI'"
      ]
     },
     "execution_count": 85,
     "metadata": {},
     "output_type": "execute_result"
    }
   ],
   "source": [
    "L[4]"
   ]
  },
  {
   "cell_type": "code",
   "execution_count": 86,
   "id": "651349fa",
   "metadata": {},
   "outputs": [
    {
     "ename": "IndexError",
     "evalue": "list index out of range",
     "output_type": "error",
     "traceback": [
      "\u001b[1;31m---------------------------------------------------------------------------\u001b[0m",
      "\u001b[1;31mIndexError\u001b[0m                                Traceback (most recent call last)",
      "Cell \u001b[1;32mIn[86], line 1\u001b[0m\n\u001b[1;32m----> 1\u001b[0m \u001b[43mL\u001b[49m\u001b[43m[\u001b[49m\u001b[38;5;241;43m5\u001b[39;49m\u001b[43m]\u001b[49m\n",
      "\u001b[1;31mIndexError\u001b[0m: list index out of range"
     ]
    }
   ],
   "source": [
    "L[5]"
   ]
  },
  {
   "cell_type": "code",
   "execution_count": 87,
   "id": "407b1f96",
   "metadata": {},
   "outputs": [
    {
     "name": "stdout",
     "output_type": "stream",
     "text": [
      "MON TUE WED\n"
     ]
    }
   ],
   "source": [
    "print(L[0], L[1], L[2])"
   ]
  },
  {
   "cell_type": "code",
   "execution_count": 88,
   "id": "f5173fe7",
   "metadata": {},
   "outputs": [
    {
     "name": "stdout",
     "output_type": "stream",
     "text": [
      "FRI THU WED TUE\n"
     ]
    }
   ],
   "source": [
    "print(L[-1], L[-2], L[-3], L[-4])"
   ]
  },
  {
   "cell_type": "code",
   "execution_count": 89,
   "id": "5c106ffd",
   "metadata": {},
   "outputs": [
    {
     "ename": "IndexError",
     "evalue": "list index out of range",
     "output_type": "error",
     "traceback": [
      "\u001b[1;31m---------------------------------------------------------------------------\u001b[0m",
      "\u001b[1;31mIndexError\u001b[0m                                Traceback (most recent call last)",
      "Cell \u001b[1;32mIn[89], line 1\u001b[0m\n\u001b[1;32m----> 1\u001b[0m \u001b[38;5;28mprint\u001b[39m(\u001b[43mL\u001b[49m\u001b[43m[\u001b[49m\u001b[38;5;241;43m-\u001b[39;49m\u001b[38;5;241;43m6\u001b[39;49m\u001b[43m]\u001b[49m)\n",
      "\u001b[1;31mIndexError\u001b[0m: list index out of range"
     ]
    }
   ],
   "source": [
    "print(L[-6])"
   ]
  },
  {
   "cell_type": "markdown",
   "id": "283c3623",
   "metadata": {},
   "source": [
    "## PERFORMING DIFFERENT OPERATIONS ON LIST\n",
    "\n",
    "## BASIC LIST OPERATIONS\n",
    "\n",
    "| Operations    |       Description                                                                 |   \n",
    "|---------------|---------------------------------------------------------------------------------- |\n",
    "| len           | Returns length of list                                                            |\n",
    "| concatenation | Joins two lists                                                                   | \n",
    "| repetition    | Repeat elements in the list                                                       |\n",
    "| in            | Checks if the value is present in the list                                        |\n",
    "| not in        | Checks if the value is not present in the list                                    |\n",
    "| max           | Return maximum value in the list                                                  |\n",
    "| min           | Return minimum value in the list                                                  |\n",
    "| sum           | Adds the values in the list that has numbers                                      |\n",
    "| all           | Returns True if all elements of the list are true (or if the list is empty)       |\n",
    "| any           | Return True if any element of the list us true. If the list is empty, return False|\n",
    "| list          | Convert tuple, string to a list                                                   |\n",
    "| sorted        | Return a new sorted list. The original list is not sorted.                        |"
   ]
  },
  {
   "cell_type": "markdown",
   "id": "5becfc75",
   "metadata": {},
   "source": [
    "### LENGTH"
   ]
  },
  {
   "cell_type": "code",
   "execution_count": 90,
   "id": "2e3e4d34",
   "metadata": {},
   "outputs": [
    {
     "name": "stdout",
     "output_type": "stream",
     "text": [
      "Length of the list is:  5\n"
     ]
    }
   ],
   "source": [
    "l1 = [1,2,3,4,5]\n",
    "print(\"Length of the list is: \", len(l1))"
   ]
  },
  {
   "cell_type": "markdown",
   "id": "6e05a853",
   "metadata": {},
   "source": [
    "### LIST REPETATION"
   ]
  },
  {
   "cell_type": "code",
   "execution_count": 91,
   "id": "ddfc49af",
   "metadata": {},
   "outputs": [
    {
     "name": "stdout",
     "output_type": "stream",
     "text": [
      "[2, 4, 6]\n"
     ]
    }
   ],
   "source": [
    "L = [2,4,6]\n",
    "print(L)"
   ]
  },
  {
   "cell_type": "code",
   "execution_count": 92,
   "id": "60e149af",
   "metadata": {},
   "outputs": [
    {
     "name": "stdout",
     "output_type": "stream",
     "text": [
      "[2, 4, 6, 2, 4, 6]\n"
     ]
    }
   ],
   "source": [
    "print(L*2)"
   ]
  },
  {
   "cell_type": "code",
   "execution_count": 93,
   "id": "1dd8a2f0",
   "metadata": {},
   "outputs": [
    {
     "name": "stdout",
     "output_type": "stream",
     "text": [
      "[2, 4, 6, 2, 4, 6, 2, 4, 6]\n"
     ]
    }
   ],
   "source": [
    "print(L*3)"
   ]
  },
  {
   "cell_type": "code",
   "execution_count": 94,
   "id": "65b5deef",
   "metadata": {},
   "outputs": [
    {
     "name": "stdout",
     "output_type": "stream",
     "text": [
      "[2, 4, 6, 2, 4, 6, 2, 4, 6, 2, 4, 6]\n"
     ]
    }
   ],
   "source": [
    "print(L*4)"
   ]
  },
  {
   "cell_type": "code",
   "execution_count": 95,
   "id": "ca99ba1e",
   "metadata": {},
   "outputs": [
    {
     "name": "stdout",
     "output_type": "stream",
     "text": [
      "[]\n"
     ]
    }
   ],
   "source": [
    "print(L*(-1))"
   ]
  },
  {
   "cell_type": "code",
   "execution_count": 96,
   "id": "9b0bab02",
   "metadata": {},
   "outputs": [
    {
     "ename": "TypeError",
     "evalue": "can't multiply sequence by non-int of type 'list'",
     "output_type": "error",
     "traceback": [
      "\u001b[1;31m---------------------------------------------------------------------------\u001b[0m",
      "\u001b[1;31mTypeError\u001b[0m                                 Traceback (most recent call last)",
      "Cell \u001b[1;32mIn[96], line 1\u001b[0m\n\u001b[1;32m----> 1\u001b[0m \u001b[38;5;28mprint\u001b[39m(\u001b[43mL\u001b[49m\u001b[38;5;241;43m*\u001b[39;49m\u001b[43mL\u001b[49m)\n",
      "\u001b[1;31mTypeError\u001b[0m: can't multiply sequence by non-int of type 'list'"
     ]
    }
   ],
   "source": [
    "print(L*L)"
   ]
  },
  {
   "cell_type": "markdown",
   "id": "ef2f1e3e",
   "metadata": {},
   "source": [
    "### MERGING OF TWO LISTS"
   ]
  },
  {
   "cell_type": "code",
   "execution_count": 97,
   "id": "ed28f8f5",
   "metadata": {},
   "outputs": [
    {
     "name": "stdout",
     "output_type": "stream",
     "text": [
      "[2, 4, 6, 8, 10, 12]\n"
     ]
    }
   ],
   "source": [
    "L = [2,4,6]\n",
    "L1 = [8, 10, 12]\n",
    "\n",
    "print(L + L1)"
   ]
  },
  {
   "cell_type": "code",
   "execution_count": 98,
   "id": "18f3426a",
   "metadata": {},
   "outputs": [
    {
     "name": "stdout",
     "output_type": "stream",
     "text": [
      "[8, 10, 12, 2, 4, 6]\n"
     ]
    }
   ],
   "source": [
    "print(L1 + L)"
   ]
  },
  {
   "cell_type": "code",
   "execution_count": 99,
   "id": "781219d4",
   "metadata": {},
   "outputs": [
    {
     "ename": "TypeError",
     "evalue": "can only concatenate list (not \"int\") to list",
     "output_type": "error",
     "traceback": [
      "\u001b[1;31m---------------------------------------------------------------------------\u001b[0m",
      "\u001b[1;31mTypeError\u001b[0m                                 Traceback (most recent call last)",
      "Cell \u001b[1;32mIn[99], line 1\u001b[0m\n\u001b[1;32m----> 1\u001b[0m \u001b[38;5;28mprint\u001b[39m(\u001b[43mL1\u001b[49m\u001b[43m \u001b[49m\u001b[38;5;241;43m+\u001b[39;49m\u001b[43m \u001b[49m\u001b[38;5;241;43m2\u001b[39;49m)\n",
      "\u001b[1;31mTypeError\u001b[0m: can only concatenate list (not \"int\") to list"
     ]
    }
   ],
   "source": [
    "print(L1 + 2)"
   ]
  },
  {
   "cell_type": "code",
   "execution_count": 100,
   "id": "8f200137",
   "metadata": {},
   "outputs": [
    {
     "name": "stdout",
     "output_type": "stream",
     "text": [
      "[8, 10, 12, 2, 3]\n"
     ]
    }
   ],
   "source": [
    "print(L1 + [2,3])"
   ]
  },
  {
   "cell_type": "code",
   "execution_count": 101,
   "id": "5bcda2e4",
   "metadata": {},
   "outputs": [
    {
     "data": {
      "text/plain": [
       "True"
      ]
     },
     "execution_count": 101,
     "metadata": {},
     "output_type": "execute_result"
    }
   ],
   "source": [
    "## in\n",
    "\"a\" in ['a', 'e', 'i', 'o', 'u']"
   ]
  },
  {
   "cell_type": "code",
   "execution_count": 102,
   "id": "197156c1",
   "metadata": {},
   "outputs": [
    {
     "data": {
      "text/plain": [
       "False"
      ]
     },
     "execution_count": 102,
     "metadata": {},
     "output_type": "execute_result"
    }
   ],
   "source": [
    "## not in\n",
    "\"a\" not in ['a', 'e', 'i', 'o', 'u']"
   ]
  },
  {
   "cell_type": "code",
   "execution_count": 103,
   "id": "d643f1bb",
   "metadata": {},
   "outputs": [
    {
     "name": "stdout",
     "output_type": "stream",
     "text": [
      "4\n"
     ]
    }
   ],
   "source": [
    "## max\n",
    "l1 = [1,2,3,4]\n",
    "print(max(l1))"
   ]
  },
  {
   "cell_type": "code",
   "execution_count": 104,
   "id": "83e1a21c",
   "metadata": {},
   "outputs": [
    {
     "name": "stdout",
     "output_type": "stream",
     "text": [
      "1\n"
     ]
    }
   ],
   "source": [
    "## min\n",
    "l1 = [1,2,3,4]\n",
    "print(min(l1))"
   ]
  },
  {
   "cell_type": "code",
   "execution_count": 105,
   "id": "abb13987",
   "metadata": {},
   "outputs": [
    {
     "name": "stdout",
     "output_type": "stream",
     "text": [
      "10\n"
     ]
    }
   ],
   "source": [
    "## sum\n",
    "l1 = [1,2,3,4]\n",
    "print(sum(l1))"
   ]
  },
  {
   "cell_type": "code",
   "execution_count": 106,
   "id": "0fd9c342",
   "metadata": {},
   "outputs": [
    {
     "name": "stdout",
     "output_type": "stream",
     "text": [
      "['h', 'e', 'l', 'l', 'o']\n"
     ]
    }
   ],
   "source": [
    "## list\n",
    "list1 = list(\"hello\")\n",
    "print(list1)"
   ]
  },
  {
   "cell_type": "code",
   "execution_count": 107,
   "id": "fefec8af",
   "metadata": {},
   "outputs": [
    {
     "name": "stdout",
     "output_type": "stream",
     "text": [
      "[0, 1, 3, 4, 5, 6, 7]\n",
      "[1, 0, 3, 7, 4, 5, 6]\n"
     ]
    }
   ],
   "source": [
    "## sorted\n",
    "l = [1,0,3,7,4,5,6]\n",
    "l2 = sorted(l)\n",
    "print(l2)\n",
    "print(l)"
   ]
  },
  {
   "cell_type": "markdown",
   "id": "8f82fef6",
   "metadata": {},
   "source": [
    "## LIST SLICING"
   ]
  },
  {
   "cell_type": "markdown",
   "id": "8bc42789",
   "metadata": {},
   "source": [
    "The process of deriving a sublist from a given list is known as list slicing"
   ]
  },
  {
   "cell_type": "markdown",
   "id": "2d40b186",
   "metadata": {},
   "source": [
    "+ Syntax\n",
    "```python\n",
    "seq = List[start:stop:step]\n",
    "```\n",
    "\n",
    "+ **start** will be included\n",
    "+ **stop** will not be included in index is given.\n",
    "+ **step - 1** denotes how many numbers you want to skip"
   ]
  },
  {
   "cell_type": "markdown",
   "id": "279eff6a",
   "metadata": {},
   "source": [
    "+ **L[2 : 3 ]**  --> start = 2, stop = 3 and step = 1 (by default)\n",
    "+ **L[3: ]** --> start = 3, stop = end and step = 1\n",
    "+ **L[::-1]** --> start = 0, stop = end, and step = -1\n",
    "+ **L[2:8:3]** --> start = 2, stop = 8, and step = 3 (two numbers will be skipped)\n",
    "+ **L[::]** => start = 0, stop = end, and step = 1 (no numbers will be skipped)\n",
    "+ **L[:]** == **L[::]**"
   ]
  },
  {
   "cell_type": "markdown",
   "id": "69054694",
   "metadata": {},
   "source": [
    "![img12](https://prepinstadotcom.s3.ap-south-1.amazonaws.com/wp-content/uploads/2020/07/Slicing-in-python.webp)"
   ]
  },
  {
   "cell_type": "markdown",
   "id": "f0864798",
   "metadata": {},
   "source": [
    "### EXAMPLE"
   ]
  },
  {
   "cell_type": "code",
   "execution_count": 108,
   "id": "4a9393d4",
   "metadata": {},
   "outputs": [
    {
     "name": "stdout",
     "output_type": "stream",
     "text": [
      "[2, 4, 6, 8, 10]\n"
     ]
    }
   ],
   "source": [
    "L = [2,4,6,8,10]\n",
    "print(L)"
   ]
  },
  {
   "cell_type": "code",
   "execution_count": 109,
   "id": "59801024",
   "metadata": {},
   "outputs": [
    {
     "data": {
      "text/plain": [
       "[4, 6]"
      ]
     },
     "execution_count": 109,
     "metadata": {},
     "output_type": "execute_result"
    }
   ],
   "source": [
    "L[1:3] # starts from 1st index and goes till the 2nd index"
   ]
  },
  {
   "cell_type": "code",
   "execution_count": 110,
   "id": "c3dba6af",
   "metadata": {},
   "outputs": [
    {
     "data": {
      "text/plain": [
       "[6, 8, 10]"
      ]
     },
     "execution_count": 110,
     "metadata": {},
     "output_type": "execute_result"
    }
   ],
   "source": [
    "L[2:] # starts from 2nd index and goes till the end"
   ]
  },
  {
   "cell_type": "code",
   "execution_count": 111,
   "id": "4dd7285c",
   "metadata": {},
   "outputs": [
    {
     "data": {
      "text/plain": [
       "[2, 4, 6]"
      ]
     },
     "execution_count": 111,
     "metadata": {},
     "output_type": "execute_result"
    }
   ],
   "source": [
    "L[:3]  # start from 0the index and till 2nd index"
   ]
  },
  {
   "cell_type": "code",
   "execution_count": 112,
   "id": "87fbf984",
   "metadata": {},
   "outputs": [
    {
     "data": {
      "text/plain": [
       "[2, 4, 6, 8, 10]"
      ]
     },
     "execution_count": 112,
     "metadata": {},
     "output_type": "execute_result"
    }
   ],
   "source": [
    "L[::]  ## full list"
   ]
  },
  {
   "cell_type": "code",
   "execution_count": 113,
   "id": "334b9fd9",
   "metadata": {},
   "outputs": [
    {
     "data": {
      "text/plain": [
       "[2, 4, 6, 8, 10]"
      ]
     },
     "execution_count": 113,
     "metadata": {},
     "output_type": "execute_result"
    }
   ],
   "source": [
    "L[:] ## same as above"
   ]
  },
  {
   "cell_type": "code",
   "execution_count": 114,
   "id": "5168e46d",
   "metadata": {},
   "outputs": [
    {
     "data": {
      "text/plain": [
       "[10, 8, 6, 4, 2]"
      ]
     },
     "execution_count": 114,
     "metadata": {},
     "output_type": "execute_result"
    }
   ],
   "source": [
    "L[::-1]  # reverse the list"
   ]
  },
  {
   "cell_type": "code",
   "execution_count": 115,
   "id": "0109fa96",
   "metadata": {},
   "outputs": [
    {
     "data": {
      "text/plain": [
       "[2, 6, 10]"
      ]
     },
     "execution_count": 115,
     "metadata": {},
     "output_type": "execute_result"
    }
   ],
   "source": [
    "# start from 0th index goes till the end but skip one number\n",
    "L[::2]"
   ]
  },
  {
   "cell_type": "code",
   "execution_count": 116,
   "id": "8581950b",
   "metadata": {},
   "outputs": [
    {
     "data": {
      "text/plain": [
       "[4, 6, 8]"
      ]
     },
     "execution_count": 116,
     "metadata": {},
     "output_type": "execute_result"
    }
   ],
   "source": [
    "L[-4: -1]"
   ]
  },
  {
   "cell_type": "code",
   "execution_count": 117,
   "id": "1d6042c0",
   "metadata": {},
   "outputs": [
    {
     "data": {
      "text/plain": [
       "[10]"
      ]
     },
     "execution_count": 117,
     "metadata": {},
     "output_type": "execute_result"
    }
   ],
   "source": [
    "L[-1:]"
   ]
  },
  {
   "cell_type": "code",
   "execution_count": 118,
   "id": "e8a76e0c",
   "metadata": {},
   "outputs": [
    {
     "data": {
      "text/plain": [
       "[]"
      ]
     },
     "execution_count": 118,
     "metadata": {},
     "output_type": "execute_result"
    }
   ],
   "source": [
    "L[6:]"
   ]
  },
  {
   "cell_type": "code",
   "execution_count": 119,
   "id": "c7a80941",
   "metadata": {},
   "outputs": [
    {
     "data": {
      "text/plain": [
       "[8, 6]"
      ]
     },
     "execution_count": 119,
     "metadata": {},
     "output_type": "execute_result"
    }
   ],
   "source": [
    "L[-2:-4:-1]"
   ]
  },
  {
   "cell_type": "code",
   "execution_count": 120,
   "id": "326e0838",
   "metadata": {},
   "outputs": [
    {
     "data": {
      "text/plain": [
       "[10, 4]"
      ]
     },
     "execution_count": 120,
     "metadata": {},
     "output_type": "execute_result"
    }
   ],
   "source": [
    "L[::-3]"
   ]
  },
  {
   "cell_type": "markdown",
   "id": "ccd0130f",
   "metadata": {},
   "source": [
    "## EXERCISE"
   ]
  },
  {
   "cell_type": "code",
   "execution_count": 121,
   "id": "3b2d8593",
   "metadata": {},
   "outputs": [
    {
     "name": "stdout",
     "output_type": "stream",
     "text": [
      "[7, 0, 6, 3, 6, 2, 4, 6, 7, 9, 'K', 'O', 'L', 'K', 'A', 'T', 'A']\n"
     ]
    }
   ],
   "source": [
    "s = [7,0,6,3,6,2,4,6,7,9,'K','O', 'L', 'K', 'A', 'T', 'A']\n",
    "print(s)"
   ]
  },
  {
   "cell_type": "markdown",
   "id": "bd5ccc87",
   "metadata": {},
   "source": [
    "## Find the output of\n",
    "\n",
    "1. s[::2]\n",
    "2. s[10::3]\n",
    "3. s[-3]\n",
    "4. s[3:]\n",
    "5. s[::-1]\n",
    "6. s[-9:9]\n",
    "7. s[:8]\n",
    "8. s[3:9:4]\n",
    "9. s[1:7:2]\n",
    "10. s[-2:-7:-3]"
   ]
  },
  {
   "cell_type": "code",
   "execution_count": null,
   "id": "a8f9b4de",
   "metadata": {},
   "outputs": [],
   "source": []
  }
 ],
 "metadata": {
  "kernelspec": {
   "display_name": "Python 3 (ipykernel)",
   "language": "python",
   "name": "python3"
  },
  "language_info": {
   "codemirror_mode": {
    "name": "ipython",
    "version": 3
   },
   "file_extension": ".py",
   "mimetype": "text/x-python",
   "name": "python",
   "nbconvert_exporter": "python",
   "pygments_lexer": "ipython3",
   "version": "3.11.0"
  }
 },
 "nbformat": 4,
 "nbformat_minor": 5
}
