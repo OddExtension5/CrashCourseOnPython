{
 "cells": [
  {
   "cell_type": "markdown",
   "id": "5ef4c44f",
   "metadata": {},
   "source": [
    "# Dictionaries"
   ]
  },
  {
   "cell_type": "markdown",
   "id": "6eed37c1",
   "metadata": {},
   "source": [
    "This chapter introduces dictionary data structure for mapping identifiers to their respective values.\n",
    "\n",
    "To this end, we shall discuss the following topics:\n",
    " \n",
    "+ Introduction\n",
    "+ Creating Dictionaries\n",
    "+ Accessing and traversing values\n",
    "+ Adding, deleting and modifying items\n",
    "+ pop() and copy() method\n",
    "+ Nested dictionaries\n",
    "+ Built-in functions and methods\n",
    "+ Comparison of list with dictionary"
   ]
  },
  {
   "cell_type": "markdown",
   "id": "33fd46ed",
   "metadata": {},
   "source": [
    "## Introduction"
   ]
  },
  {
   "cell_type": "markdown",
   "id": "63438be6",
   "metadata": {},
   "source": [
    "+ Dictionary is a data structure in which we store values as a **pair of key and values**.\n",
    "+ Each key is separated from its value by a colon (:) and consecutive items are separated by commas.\n",
    "+ The entire set of items in a dictionary is enclosed its curly braces ({}).\n",
    "+ The syntax for defining a dictionary is:\n",
    "> **dictionary_name = { key_1: value_1, key_2: value_2, key_3: value_3 }**\n",
    "\n",
    "+ If there are many keys and values in dictionaries, then we can also write just one key-value   \n",
    "pair on a line to make the code easier to read and understand. This is shown below:\n",
    "\n",
    "> **dictionary_name = {key_1: value_1,  \n",
    "                       key_2: value_2,  \n",
    "                       key_3: value_3\n",
    "                      }**\n",
    "\n",
    "\n",
    "+ While keys in the **dictionary must be unique and be of any immutable data type (like strings, numbers, or tuples),   \n",
    "there is no stringent requirements for uniqueness and type of values.**\n",
    "\n",
    "+ Using a mutable object as a dictionary key causes a **TypeError**.\n",
    "+ Remember that dictionaries are not sequences, rather they are **mappings**.\n",
    "+ Mappings are collections of objects in which the objects are stored by key instead of by relative position.\n",
    "+ Dictionary is like an associative array ( also known as a hash) in which any key of the dictionary can be  \n",
    "associated or mappped to a value. "
   ]
  },
  {
   "cell_type": "markdown",
   "id": "d5707a61",
   "metadata": {},
   "source": [
    "## Creating A Dictionary"
   ]
  },
  {
   "cell_type": "code",
   "execution_count": 44,
   "id": "4f4d0b6d",
   "metadata": {},
   "outputs": [
    {
     "name": "stdout",
     "output_type": "stream",
     "text": [
      "{}\n"
     ]
    }
   ],
   "source": [
    "# to create a empty dictionary\n",
    "d = {}\n",
    "print(d)"
   ]
  },
  {
   "cell_type": "code",
   "execution_count": 45,
   "id": "04cf640f",
   "metadata": {},
   "outputs": [
    {
     "name": "stdout",
     "output_type": "stream",
     "text": [
      "{'EMP NO': '123', 'Name': 'Aaditya', 'Department': 'SALES'}\n"
     ]
    }
   ],
   "source": [
    "# to create a dictionary with key-value pairs\n",
    "d = {'EMP NO': '123', 'Name': 'Aaditya', 'Department': 'SALES'}\n",
    "print(d)"
   ]
  },
  {
   "cell_type": "markdown",
   "id": "d48f16e3",
   "metadata": {},
   "source": [
    "### Creating a Dictionary Using dict() Method\n",
    "\n",
    "The **dict()** creates a dictionary directly from a sequence of key-value pairs."
   ]
  },
  {
   "cell_type": "code",
   "execution_count": 46,
   "id": "ca6a9c87",
   "metadata": {},
   "outputs": [
    {
     "name": "stdout",
     "output_type": "stream",
     "text": [
      "{'EMP_NO': '123', 'Name': 'Aaditya', 'Department': 'SALES'}\n"
     ]
    }
   ],
   "source": [
    "# Creating a dictionary using dict() method\n",
    "d = dict([('EMP_NO', '123'), ('Name', 'Aaditya'), ('Department', 'SALES')])\n",
    "print(d)"
   ]
  },
  {
   "cell_type": "markdown",
   "id": "c13dcba9",
   "metadata": {},
   "source": [
    "+ We can enclose the keys and values in a separate tuple and then use them as argument in the **zip()** function.\n",
    "+ The output of the **zip()** function can then be passed as an argument to the **dict()** function so that   \n",
    "the dictionary can be created using two tuples."
   ]
  },
  {
   "cell_type": "code",
   "execution_count": 47,
   "id": "c14f5b80",
   "metadata": {},
   "outputs": [
    {
     "name": "stdout",
     "output_type": "stream",
     "text": [
      "{'Roll No': '101', 'Name': 'Mishti', 'Marks': 99}\n"
     ]
    }
   ],
   "source": [
    "# Creating dictionary using keys and values that \n",
    "# are stored as tuples\n",
    "\n",
    "heads = ('Roll No', 'Name', 'Marks')\n",
    "vals = ('101', 'Mishti', 99)\n",
    "Student = dict(zip(heads, vals))\n",
    "print(Student)"
   ]
  },
  {
   "cell_type": "markdown",
   "id": "f7fbf736",
   "metadata": {},
   "source": [
    "## Accessing Values in a Dictionary\n",
    "\n",
    "+ To access values in a dictionary, square brackets are used along with the **key**.\n",
    "+ Note that if you try to access an item with a key that is not specified in the dictionary, a **KeyError** is generated."
   ]
  },
  {
   "cell_type": "code",
   "execution_count": 48,
   "id": "7262e1cf",
   "metadata": {},
   "outputs": [
    {
     "name": "stdout",
     "output_type": "stream",
     "text": [
      "d['EMP_NO'] =  123\n",
      "d['Name'] =  Aaditya\n",
      "d['Deparment'] =  SALES\n"
     ]
    }
   ],
   "source": [
    "#Accessing Dicitonary values\n",
    "d = {'EMP_NO': '123', 'Name': 'Aaditya', 'Department': 'SALES'}\n",
    "print(\"d['EMP_NO'] = \", d['EMP_NO'])\n",
    "print(\"d['Name'] = \", d['Name'])\n",
    "print(\"d['Deparment'] = \", d['Department'])"
   ]
  },
  {
   "cell_type": "code",
   "execution_count": 49,
   "id": "7d73ebbf",
   "metadata": {},
   "outputs": [
    {
     "ename": "KeyError",
     "evalue": "'Salary'",
     "output_type": "error",
     "traceback": [
      "\u001b[1;31m---------------------------------------------------------------------------\u001b[0m",
      "\u001b[1;31mKeyError\u001b[0m                                  Traceback (most recent call last)",
      "Cell \u001b[1;32mIn[49], line 1\u001b[0m\n\u001b[1;32m----> 1\u001b[0m \u001b[38;5;28mprint\u001b[39m(\u001b[43md\u001b[49m\u001b[43m[\u001b[49m\u001b[38;5;124;43m'\u001b[39;49m\u001b[38;5;124;43mSalary\u001b[39;49m\u001b[38;5;124;43m'\u001b[39;49m\u001b[43m]\u001b[49m)\n",
      "\u001b[1;31mKeyError\u001b[0m: 'Salary'"
     ]
    }
   ],
   "source": [
    "print(d['Salary'])"
   ]
  },
  {
   "cell_type": "markdown",
   "id": "c0e29ecb",
   "metadata": {},
   "source": [
    "## Adding an item in a Dictionary\n",
    "\n",
    "+ To add a new entry or a key-value pair in a dictionary just specify the key-value pair.\n",
    "+ The syntax to add an item in a dictionary is **dictionary_var[key] = val**.\n"
   ]
  },
  {
   "cell_type": "code",
   "execution_count": 50,
   "id": "07c5ec61",
   "metadata": {},
   "outputs": [
    {
     "name": "stdout",
     "output_type": "stream",
     "text": [
      "{'EMP_NO': '123', 'Name': 'Aaditya', 'Department': 'SALES'}\n"
     ]
    }
   ],
   "source": [
    "d = {'EMP_NO': '123', 'Name': 'Aaditya', 'Department': 'SALES'}\n",
    "print(d)"
   ]
  },
  {
   "cell_type": "code",
   "execution_count": 51,
   "id": "cfcb28c3",
   "metadata": {},
   "outputs": [
    {
     "name": "stdout",
     "output_type": "stream",
     "text": [
      "{'EMP_NO': '123', 'Name': 'Aaditya', 'Department': 'SALES', 'Salary': 95000}\n"
     ]
    }
   ],
   "source": [
    "# adding an item in a dictionary\n",
    "d['Salary'] = 95000\n",
    "print(d)"
   ]
  },
  {
   "cell_type": "markdown",
   "id": "68e81dac",
   "metadata": {},
   "source": [
    "## Modifying an item in a dictionary\n"
   ]
  },
  {
   "cell_type": "code",
   "execution_count": 52,
   "id": "d5c9335a",
   "metadata": {},
   "outputs": [
    {
     "name": "stdout",
     "output_type": "stream",
     "text": [
      "Orginial Dictionary:  {'EMP_NO': '123', 'Name': 'Aaditya'}\n"
     ]
    }
   ],
   "source": [
    "# adding and modifying values in a dictionary\n",
    "d = {'EMP_NO': '123', 'Name': 'Aaditya'}\n",
    "print(\"Orginial Dictionary: \", d)"
   ]
  },
  {
   "cell_type": "code",
   "execution_count": 53,
   "id": "f9a54942",
   "metadata": {},
   "outputs": [
    {
     "name": "stdout",
     "output_type": "stream",
     "text": [
      "Updated Dictionary {'EMP_NO': '123', 'Name': 'Aadi', 'Department': 'Sales'}\n"
     ]
    }
   ],
   "source": [
    "d['Department'] = 'Sales'  # new key-value pair added\n",
    "d['Name'] = 'Aadi'  # existing value modified\n",
    "\n",
    "print('Updated Dictionary', d)"
   ]
  },
  {
   "cell_type": "markdown",
   "id": "13c01535",
   "metadata": {},
   "source": [
    "## Deleteing Items\n",
    "\n",
    "+ One or more items in a dictionary can be deleted using the **del** keyword.\n",
    "+ To delete or remove all the items in just one statement, use the **clear()** function.\n",
    "+ To delete the entire dictionary from the memory, we can again use the del statement as **del Dict_name**.\n",
    "+ Syntex for use the del statement is: **del dictionary_name[key]**."
   ]
  },
  {
   "cell_type": "code",
   "execution_count": 54,
   "id": "220ec4cd",
   "metadata": {},
   "outputs": [
    {
     "name": "stdout",
     "output_type": "stream",
     "text": [
      "Original Dictionary:  {'EMP_NO': '123', 'Name': 'Aaditya', 'Department': 'SALES'}\n"
     ]
    }
   ],
   "source": [
    "d = {'EMP_NO': '123', 'Name': 'Aaditya', 'Department': 'SALES'}\n",
    "print(\"Original Dictionary: \", d)"
   ]
  },
  {
   "cell_type": "code",
   "execution_count": 55,
   "id": "607da596",
   "metadata": {},
   "outputs": [],
   "source": [
    "del d['EMP_NO']  # a particular key-value pair deleted"
   ]
  },
  {
   "cell_type": "code",
   "execution_count": 56,
   "id": "9006eae5",
   "metadata": {},
   "outputs": [
    {
     "name": "stdout",
     "output_type": "stream",
     "text": [
      "After deleting EMP_NO:  {'Name': 'Aaditya', 'Department': 'SALES'}\n"
     ]
    }
   ],
   "source": [
    "print(\"After deleting EMP_NO: \", d)"
   ]
  },
  {
   "cell_type": "code",
   "execution_count": 57,
   "id": "7f4a54f6",
   "metadata": {},
   "outputs": [],
   "source": [
    "d.clear() #all entries deleted"
   ]
  },
  {
   "cell_type": "code",
   "execution_count": 58,
   "id": "ed67ab1e",
   "metadata": {},
   "outputs": [
    {
     "name": "stdout",
     "output_type": "stream",
     "text": [
      "After deleting all entries:  {}\n"
     ]
    }
   ],
   "source": [
    "print(\"After deleting all entries: \", d)"
   ]
  },
  {
   "cell_type": "code",
   "execution_count": 59,
   "id": "8f454e1e",
   "metadata": {},
   "outputs": [],
   "source": [
    "del d  # delete dictionary"
   ]
  },
  {
   "cell_type": "code",
   "execution_count": 60,
   "id": "e9a90bc6",
   "metadata": {},
   "outputs": [
    {
     "ename": "NameError",
     "evalue": "name 'd' is not defined",
     "output_type": "error",
     "traceback": [
      "\u001b[1;31m---------------------------------------------------------------------------\u001b[0m",
      "\u001b[1;31mNameError\u001b[0m                                 Traceback (most recent call last)",
      "Cell \u001b[1;32mIn[60], line 1\u001b[0m\n\u001b[1;32m----> 1\u001b[0m \u001b[38;5;28mprint\u001b[39m(\u001b[38;5;124m\"\u001b[39m\u001b[38;5;124mPrinting Dictionary after deleting it: \u001b[39m\u001b[38;5;124m\"\u001b[39m, \u001b[43md\u001b[49m)\n",
      "\u001b[1;31mNameError\u001b[0m: name 'd' is not defined"
     ]
    }
   ],
   "source": [
    "print(\"Printing Dictionary after deleting it: \", d)"
   ]
  },
  {
   "cell_type": "markdown",
   "id": "63ba6336",
   "metadata": {},
   "source": [
    "## The pop() method\n",
    "\n",
    "+ The pop() method can be used to delete a particular key from the dictionary.\n",
    "+ The syntax of the **pop()** method is: **dict.pop(key [, default])**\n",
    "+ The pop() method removes an item from the dictionary and returns its value.\n",
    "+ If the specified key is not present in the dictionary, then the default value is returned.\n",
    "+ If you do not specify the default value and the key is also not present in the dictionary, then a **KeyError** is generated.\n",
    "+ Another method, **popitem()**, randomly pops and returns an item from the dictionary."
   ]
  },
  {
   "cell_type": "code",
   "execution_count": 61,
   "id": "29fde00d",
   "metadata": {},
   "outputs": [
    {
     "name": "stdout",
     "output_type": "stream",
     "text": [
      "Original Dictionary:  {'EMP_NO': '123', 'Name': 'Aaditya', 'Department': 'SALES'}\n"
     ]
    }
   ],
   "source": [
    "# Program to randomly pop an element from a dictionary\n",
    "d = {'EMP_NO': '123', 'Name': 'Aaditya', 'Department': 'SALES'}\n",
    "print(\"Original Dictionary: \", d)"
   ]
  },
  {
   "cell_type": "code",
   "execution_count": 62,
   "id": "d00d9cce",
   "metadata": {},
   "outputs": [
    {
     "name": "stdout",
     "output_type": "stream",
     "text": [
      "Name is:  Aaditya\n"
     ]
    }
   ],
   "source": [
    "print(\"Name is: \", d.pop('Name')) # returns name"
   ]
  },
  {
   "cell_type": "code",
   "execution_count": 63,
   "id": "fbe3738c",
   "metadata": {},
   "outputs": [
    {
     "name": "stdout",
     "output_type": "stream",
     "text": [
      "Dictionary after popping Name is:  {'EMP_NO': '123', 'Department': 'SALES'}\n"
     ]
    }
   ],
   "source": [
    "print(\"Dictionary after popping Name is: \", d)"
   ]
  },
  {
   "cell_type": "code",
   "execution_count": 64,
   "id": "a25ecb27",
   "metadata": {},
   "outputs": [
    {
     "name": "stdout",
     "output_type": "stream",
     "text": [
      "Salary is:  -1\n"
     ]
    }
   ],
   "source": [
    "print('Salary is: ', d.pop('Salary', -1))  # returns default value"
   ]
  },
  {
   "cell_type": "code",
   "execution_count": 65,
   "id": "83ddb99d",
   "metadata": {},
   "outputs": [
    {
     "name": "stdout",
     "output_type": "stream",
     "text": [
      "Randomly popping any item:  ('Department', 'SALES')\n"
     ]
    }
   ],
   "source": [
    "print(\"Randomly popping any item: \", d.popitem())"
   ]
  },
  {
   "cell_type": "code",
   "execution_count": 66,
   "id": "e12d2f35",
   "metadata": {},
   "outputs": [
    {
     "name": "stdout",
     "output_type": "stream",
     "text": [
      "Dictionary after random popping is:  {'EMP_NO': '123'}\n"
     ]
    }
   ],
   "source": [
    "print(\"Dictionary after random popping is: \", d)"
   ]
  },
  {
   "cell_type": "code",
   "execution_count": 67,
   "id": "f673f066",
   "metadata": {},
   "outputs": [
    {
     "ename": "KeyError",
     "evalue": "'Designation'",
     "output_type": "error",
     "traceback": [
      "\u001b[1;31m---------------------------------------------------------------------------\u001b[0m",
      "\u001b[1;31mKeyError\u001b[0m                                  Traceback (most recent call last)",
      "Cell \u001b[1;32mIn[67], line 1\u001b[0m\n\u001b[1;32m----> 1\u001b[0m \u001b[38;5;28mprint\u001b[39m(\u001b[38;5;124m\"\u001b[39m\u001b[38;5;124mDesignation is: \u001b[39m\u001b[38;5;124m\"\u001b[39m, \u001b[43md\u001b[49m\u001b[38;5;241;43m.\u001b[39;49m\u001b[43mpop\u001b[49m\u001b[43m(\u001b[49m\u001b[38;5;124;43m'\u001b[39;49m\u001b[38;5;124;43mDesignation\u001b[39;49m\u001b[38;5;124;43m'\u001b[39;49m\u001b[43m)\u001b[49m) \u001b[38;5;66;03m#generates error\u001b[39;00m\n",
      "\u001b[1;31mKeyError\u001b[0m: 'Designation'"
     ]
    }
   ],
   "source": [
    "print(\"Designation is: \", d.pop('Designation')) #generates error"
   ]
  },
  {
   "cell_type": "markdown",
   "id": "2796450f",
   "metadata": {},
   "source": [
    "## KEY POINTS TO REMEMBER"
   ]
  },
  {
   "cell_type": "markdown",
   "id": "e439ca9b",
   "metadata": {},
   "source": [
    "+ Key must have unique values. **Key should not be duplicated in a dictionary**.\n",
    "+ If you try to add a duplicate key then the last assignment is retained."
   ]
  },
  {
   "cell_type": "code",
   "execution_count": 68,
   "id": "a3c9ae2c",
   "metadata": {},
   "outputs": [
    {
     "name": "stdout",
     "output_type": "stream",
     "text": [
      "{'EMP_NO': '345', 'Name': 'Aaditya', 'Department': 'SALES'}\n"
     ]
    }
   ],
   "source": [
    "#Dictionary with duplicate keys\n",
    "d = {'EMP_NO': '123', 'Name': 'Aaditya', 'Department': 'SALES', 'EMP_NO': '345'}\n",
    "print(d)"
   ]
  },
  {
   "cell_type": "markdown",
   "id": "440b24f6",
   "metadata": {},
   "source": [
    "+ In a dictionary, **key should be strictly of a type that is immutable**.\n",
    "+ This means that a key can be of strings, number or tuple type but it cannot be a list which is immutable.\n",
    "+ In case you try to make your key a mutable type, then a **TypeError** will be generated.\n",
    "+ The **keys()** method of dictionary returns a list of all the keys used in the dictionary, in an arbitrary order.\n",
    "+ Use **sorted()** function to sort the keys."
   ]
  },
  {
   "cell_type": "code",
   "execution_count": 69,
   "id": "5f3adcb8",
   "metadata": {},
   "outputs": [
    {
     "name": "stdout",
     "output_type": "stream",
     "text": [
      "{(1, 2), (3, 4)}\n"
     ]
    }
   ],
   "source": [
    "# Program to use tuple as keys\n",
    "d = {(1,2), (3,4)}\n",
    "print(d)"
   ]
  },
  {
   "cell_type": "code",
   "execution_count": 70,
   "id": "4496c012",
   "metadata": {},
   "outputs": [
    {
     "ename": "TypeError",
     "evalue": "unhashable type: 'list'",
     "output_type": "error",
     "traceback": [
      "\u001b[1;31m---------------------------------------------------------------------------\u001b[0m",
      "\u001b[1;31mTypeError\u001b[0m                                 Traceback (most recent call last)",
      "Cell \u001b[1;32mIn[70], line 1\u001b[0m\n\u001b[1;32m----> 1\u001b[0m d \u001b[38;5;241m=\u001b[39m {(\u001b[38;5;241m1\u001b[39m,\u001b[38;5;241m2\u001b[39m), ([\u001b[38;5;241m3\u001b[39m,\u001b[38;5;241m4\u001b[39m])}\n\u001b[0;32m      2\u001b[0m \u001b[38;5;28mprint\u001b[39m(d)\n",
      "\u001b[1;31mTypeError\u001b[0m: unhashable type: 'list'"
     ]
    }
   ],
   "source": [
    "d = {(1,2), ([3,4])}\n",
    "print(d)"
   ]
  },
  {
   "cell_type": "code",
   "execution_count": 71,
   "id": "f56fbee1",
   "metadata": {},
   "outputs": [
    {
     "name": "stdout",
     "output_type": "stream",
     "text": [
      "['Department', 'EMP_NO', 'Name']\n"
     ]
    }
   ],
   "source": [
    "# Dictionary with sorted keys\n",
    "d = {'EMP_NO': '123', 'Name': 'Aaditya', 'Department': 'SALES', 'EMP_NO': '345'}\n",
    "print(sorted(d.keys()))"
   ]
  },
  {
   "cell_type": "code",
   "execution_count": 72,
   "id": "7689d701",
   "metadata": {},
   "outputs": [
    {
     "name": "stdout",
     "output_type": "stream",
     "text": [
      "SALES\n"
     ]
    }
   ],
   "source": [
    "# Dictionary to check single key in a dictinary\n",
    "d = {'EMP_NO': '123', 'Name': 'Aaditya', 'Department': 'SALES', 'EMP_NO': '345'}\n",
    "\n",
    "if 'Department' in d:\n",
    "    print(d['Department'])"
   ]
  },
  {
   "cell_type": "markdown",
   "id": "34e3d018",
   "metadata": {},
   "source": [
    "+ The **in keyword** can be used to check whether a single key is in the dictionary."
   ]
  },
  {
   "cell_type": "code",
   "execution_count": 73,
   "id": "9321daa4",
   "metadata": {},
   "outputs": [
    {
     "name": "stdout",
     "output_type": "stream",
     "text": [
      "{'Roll No': '101', 'Name': 'krish', 'Marks': 90}\n"
     ]
    }
   ],
   "source": [
    "# Dictionary using a tuple of lists having key-value pairs\n",
    "student = dict((['Roll No', '101'], ['Name', 'krish'], ['Marks', 90]))\n",
    "print(student)"
   ]
  },
  {
   "cell_type": "code",
   "execution_count": 74,
   "id": "476dd438",
   "metadata": {},
   "outputs": [
    {
     "ename": "TypeError",
     "evalue": "dict expected at most 1 argument, got 3",
     "output_type": "error",
     "traceback": [
      "\u001b[1;31m---------------------------------------------------------------------------\u001b[0m",
      "\u001b[1;31mTypeError\u001b[0m                                 Traceback (most recent call last)",
      "Cell \u001b[1;32mIn[74], line 1\u001b[0m\n\u001b[1;32m----> 1\u001b[0m student \u001b[38;5;241m=\u001b[39m \u001b[38;5;28;43mdict\u001b[39;49m\u001b[43m(\u001b[49m\u001b[43m(\u001b[49m\u001b[38;5;124;43m'\u001b[39;49m\u001b[38;5;124;43mRoll No\u001b[39;49m\u001b[38;5;124;43m'\u001b[39;49m\u001b[43m,\u001b[49m\u001b[43m \u001b[49m\u001b[38;5;124;43m'\u001b[39;49m\u001b[38;5;124;43m101\u001b[39;49m\u001b[38;5;124;43m'\u001b[39;49m\u001b[43m)\u001b[49m\u001b[43m,\u001b[49m\u001b[43m \u001b[49m\u001b[43m(\u001b[49m\u001b[38;5;124;43m'\u001b[39;49m\u001b[38;5;124;43mName\u001b[39;49m\u001b[38;5;124;43m'\u001b[39;49m\u001b[43m,\u001b[49m\u001b[43m \u001b[49m\u001b[38;5;124;43m'\u001b[39;49m\u001b[38;5;124;43mkrish\u001b[39;49m\u001b[38;5;124;43m'\u001b[39;49m\u001b[43m)\u001b[49m\u001b[43m,\u001b[49m\u001b[43m \u001b[49m\u001b[43m(\u001b[49m\u001b[38;5;124;43m'\u001b[39;49m\u001b[38;5;124;43mMarks\u001b[39;49m\u001b[38;5;124;43m'\u001b[39;49m\u001b[43m,\u001b[49m\u001b[43m \u001b[49m\u001b[38;5;241;43m90\u001b[39;49m\u001b[43m)\u001b[49m\u001b[43m)\u001b[49m\n\u001b[0;32m      2\u001b[0m \u001b[38;5;28mprint\u001b[39m(student)\n",
      "\u001b[1;31mTypeError\u001b[0m: dict expected at most 1 argument, got 3"
     ]
    }
   ],
   "source": [
    "student = dict(('Roll No', '101'), ('Name', 'krish'), ('Marks', 90))\n",
    "print(student)"
   ]
  },
  {
   "cell_type": "code",
   "execution_count": 75,
   "id": "18226957",
   "metadata": {},
   "outputs": [
    {
     "name": "stdout",
     "output_type": "stream",
     "text": [
      "{'Roll No': '101', 'Name': 'Krish', 'Marks': 90}\n"
     ]
    }
   ],
   "source": [
    "student = dict((('Roll No', '101'), ('Name', 'Krish'), ('Marks', 90)))\n",
    "print(student)"
   ]
  },
  {
   "cell_type": "markdown",
   "id": "3db440e0",
   "metadata": {},
   "source": [
    "## Traversing a Dictionary\n",
    "\n",
    "+ Looping over a Dictionary can be done to access only values, only keys or both using the for loop.\n",
    "+ We can use the **items()** method that returns a list of tuples (key-value pair).\n",
    "+ The **keys()** method returns a list of keys in the dictionary.\n",
    "+ The **values()** method returns a list of values in dictionary."
   ]
  },
  {
   "cell_type": "code",
   "execution_count": 80,
   "id": "37baf924",
   "metadata": {},
   "outputs": [
    {
     "name": "stdout",
     "output_type": "stream",
     "text": [
      "KEYS:  EMP_NO Name Department "
     ]
    }
   ],
   "source": [
    "# Program to access items in a dictionary\n",
    "d = {'EMP_NO': '123', 'Name': 'Aaditya', 'Department': 'SALES', 'EMP_NO': '345'}\n",
    "\n",
    "print(\"KEYS: \", end = \" \")\n",
    "for key in d:\n",
    "    print(key, end = \" \") # accessing only keys"
   ]
  },
  {
   "cell_type": "code",
   "execution_count": 81,
   "id": "468393f2",
   "metadata": {},
   "outputs": [
    {
     "name": "stdout",
     "output_type": "stream",
     "text": [
      "\n",
      "VALUES :  345 Aaditya SALES "
     ]
    }
   ],
   "source": [
    "print(\"\\nVALUES : \", end = \" \")\n",
    "\n",
    "for val in d.values():\n",
    "    print(val, end = ' ') # accessing only values"
   ]
  },
  {
   "cell_type": "code",
   "execution_count": 83,
   "id": "b3df0651",
   "metadata": {},
   "outputs": [
    {
     "name": "stdout",
     "output_type": "stream",
     "text": [
      "\n",
      "DICTIONARY :  EMP_NO 345 \t Name Aaditya \t Department SALES \t "
     ]
    }
   ],
   "source": [
    "print(\"\\nDICTIONARY : \", end = \" \")\n",
    "\n",
    "for key,val in d.items():\n",
    "    print(key, val, \"\\t\", end = ' ') # accessing keys and values"
   ]
  },
  {
   "cell_type": "markdown",
   "id": "52c56fdc",
   "metadata": {},
   "source": [
    "## NESTED DICTIONARIES"
   ]
  },
  {
   "cell_type": "code",
   "execution_count": 85,
   "id": "7f7b77cd",
   "metadata": {},
   "outputs": [
    {
     "name": "stdout",
     "output_type": "stream",
     "text": [
      "Aman {'EMP_NO': 90, 'Sal': 89, 'Desig': 'Analyst'}\n",
      "Sadhvi {'EMP_NO': 91, 'Sal': 87, 'Desig': 'Programmer'}\n",
      "Kiyan {'EMP_NO': 92, 'Sal': 92, 'Desig': 'Testing Professional'}\n"
     ]
    }
   ],
   "source": [
    "# program to illustrate nested dictionary\n",
    "Employee = {'Aman': {'EMP_NO':90, 'Sal':89, 'Desig': 'Analyst'},\n",
    "            'Sadhvi': {'EMP_NO': 91, 'Sal':87, 'Desig': 'Programmer'},\n",
    "             'Kiyan': {'EMP_NO': 92, 'Sal': 92, 'Desig': 'Testing Professional'}}\n",
    "\n",
    "for key, val in Employee.items():\n",
    "    print(key, val)"
   ]
  },
  {
   "cell_type": "markdown",
   "id": "427033cd",
   "metadata": {},
   "source": [
    "## THE copy() METHOD\n",
    "\n",
    "+ The copy() method of dictionary returns a shallow copy of the dictionary, i.e., the dictionary returned will not have a duplicate copy of the original dictionary but will have the same reference.\n",
    "\n",
    "+ This means that both the copies of dictionaries will point to the same object (or address) in the computer's memory."
   ]
  },
  {
   "cell_type": "code",
   "execution_count": 88,
   "id": "7ce07762",
   "metadata": {},
   "outputs": [
    {
     "name": "stdout",
     "output_type": "stream",
     "text": [
      "Original Emp:  {'EMP_NO': 90, 'Sal': 89, 'Desig': 'Analyst'}\n",
      "Copied Emp:  {'EMP_NO': 90, 'Sal': 89, 'Desig': 'Analyst'}\n"
     ]
    }
   ],
   "source": [
    "# program using copy() method\n",
    "\n",
    "Emp = {'EMP_NO': 90, 'Sal': 89, 'Desig': 'Analyst'}\n",
    "print('Original Emp: ', Emp)\n",
    "\n",
    "Emp_copy = Emp.copy()\n",
    "print(\"Copied Emp: \", Emp_copy)"
   ]
  },
  {
   "cell_type": "code",
   "execution_count": 87,
   "id": "33f200eb",
   "metadata": {},
   "outputs": [
    {
     "name": "stdout",
     "output_type": "stream",
     "text": [
      "Emp after modification :  {'EMP_NO': 90, 'Sal': 89, 'Desig': 'Analyst'}\n",
      "Copy of Emp after modification :  {'EMP_NO': 90, 'Sal': 99, 'Desig': 'Analyst'}\n"
     ]
    }
   ],
   "source": [
    "Emp_copy['Sal'] = 99\n",
    "print(\"Emp after modification : \", Emp)\n",
    "print(\"Copy of Emp after modification : \", Emp_copy)"
   ]
  },
  {
   "cell_type": "markdown",
   "id": "c35d25b6",
   "metadata": {},
   "source": [
    "## BUILT-IN Dictionary Functions and Methods"
   ]
  },
  {
   "cell_type": "code",
   "execution_count": null,
   "id": "aa681017",
   "metadata": {},
   "outputs": [],
   "source": []
  }
 ],
 "metadata": {
  "kernelspec": {
   "display_name": "Python 3 (ipykernel)",
   "language": "python",
   "name": "python3"
  },
  "language_info": {
   "codemirror_mode": {
    "name": "ipython",
    "version": 3
   },
   "file_extension": ".py",
   "mimetype": "text/x-python",
   "name": "python",
   "nbconvert_exporter": "python",
   "pygments_lexer": "ipython3",
   "version": "3.11.0"
  }
 },
 "nbformat": 4,
 "nbformat_minor": 5
}
