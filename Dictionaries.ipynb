{
 "cells": [
  {
   "cell_type": "markdown",
   "id": "3bfedb63",
   "metadata": {},
   "source": [
    "# Dictionaries"
   ]
  },
  {
   "cell_type": "markdown",
   "id": "dc02f521",
   "metadata": {},
   "source": [
    "This chapter introduces dictionary data structure for mapping identifiers to their respective values.\n",
    "\n",
    "To this end, we shall discuss the following topics:\n",
    " \n",
    "+ Introduction\n",
    "+ Creating Dictionaries\n",
    "+ Accessing and traversing values\n",
    "+ Adding, deleting and modifying items\n",
    "+ pop() and copy() method\n",
    "+ Nested dictionaries\n",
    "+ Built-in functions and methods\n",
    "+ Comparison of list with dictionary"
   ]
  },
  {
   "cell_type": "markdown",
   "id": "9c8acbdc",
   "metadata": {},
   "source": [
    "## Introduction"
   ]
  },
  {
   "cell_type": "markdown",
   "id": "a891de0b",
   "metadata": {},
   "source": [
    "+ Dictionary is a data structure in which we store values as a **pair of key and values**.\n",
    "+ Each key is separated from its value by a colon (:) and consecutive items are separated by commas.\n",
    "+ The entire set of items in a dictionary is enclosed its curly braces ({}).\n",
    "+ The syntax for defining a dictionary is:\n",
    "> **dictionary_name = { key_1: value_1, key_2: value_2, key_3: value_3 }**\n",
    "\n",
    "+ If there are many keys and values in dictionaries, then we can also write just one key-value   \n",
    "pair on a line to make the code easier to read and understand. This is shown below:\n",
    "\n",
    "> **dictionary_name = {key_1: value_1,  \n",
    "                       key_2: value_2,  \n",
    "                       key_3: value_3\n",
    "                      }**\n",
    "\n",
    "\n",
    "+ While keys in the **dictionary must be unique and be of any immutable data type (like strings, numbers, or tuples),   \n",
    "there is no stringent requirements for uniqueness and type of values.**\n",
    "\n",
    "+ Using a mutable object as a dictionary key causes a **TypeError**.\n",
    "+ Remember that dictionaries are not sequences, rather they are **mappings**.\n",
    "+ Mappings are collections of objects in which the objects are stored by key instead of by relative position.\n",
    "+ Dictionary is like an associative array ( also known as a hash) in which any key of the dictionary can be  \n",
    "associated or mappped to a value. "
   ]
  },
  {
   "cell_type": "markdown",
   "id": "6afc6150",
   "metadata": {},
   "source": [
    "## Creating A Dictionary"
   ]
  },
  {
   "cell_type": "code",
   "execution_count": 3,
   "id": "a93ea93c",
   "metadata": {},
   "outputs": [
    {
     "name": "stdout",
     "output_type": "stream",
     "text": [
      "{}\n"
     ]
    }
   ],
   "source": [
    "# to create a empty dictionary\n",
    "d = {}\n",
    "print(d)"
   ]
  },
  {
   "cell_type": "code",
   "execution_count": 5,
   "id": "03a72909",
   "metadata": {},
   "outputs": [
    {
     "name": "stdout",
     "output_type": "stream",
     "text": [
      "{'EMP NO': '123', 'Name': 'Aaditya', 'Department': 'SALES'}\n"
     ]
    }
   ],
   "source": [
    "# to create a dictionary with key-value pairs\n",
    "d = {'EMP NO': '123', 'Name': 'Aaditya', 'Department': 'SALES'}\n",
    "print(d)"
   ]
  },
  {
   "cell_type": "markdown",
   "id": "ba3d8070",
   "metadata": {},
   "source": [
    "### Creating a Dictionary Using dict() Method\n",
    "\n",
    "The **dict()** creates a dictionary directly from a sequence of key-value pairs."
   ]
  },
  {
   "cell_type": "code",
   "execution_count": 6,
   "id": "92e35052",
   "metadata": {},
   "outputs": [
    {
     "name": "stdout",
     "output_type": "stream",
     "text": [
      "{'EMP_NO': '123', 'Name': 'Aaditya', 'Department': 'SALES'}\n"
     ]
    }
   ],
   "source": [
    "# Creating a dictionary using dict() method\n",
    "d = dict([('EMP_NO', '123'), ('Name', 'Aaditya'), ('Department', 'SALES')])\n",
    "print(d)"
   ]
  },
  {
   "cell_type": "markdown",
   "id": "dd681eee",
   "metadata": {},
   "source": [
    "+ We can enclose the keys and values in a separate tuple and then use them as argument in the **zip()** function.\n",
    "+ The output of the **zip()** function can then be passed as an argument to the **dict()** function so that   \n",
    "the dictionary can be created using two tuples."
   ]
  },
  {
   "cell_type": "code",
   "execution_count": 9,
   "id": "e36609b3",
   "metadata": {},
   "outputs": [
    {
     "name": "stdout",
     "output_type": "stream",
     "text": [
      "{'Roll No': '101', 'Name': 'Mishti', 'Marks': 99}\n"
     ]
    }
   ],
   "source": [
    "# Creating dictionary using keys and values that \n",
    "# are stored as tuples\n",
    "\n",
    "heads = ('Roll No', 'Name', 'Marks')\n",
    "vals = ('101', 'Mishti', 99)\n",
    "Student = dict(zip(heads, vals))\n",
    "print(Student)"
   ]
  },
  {
   "cell_type": "markdown",
   "id": "4c680112",
   "metadata": {},
   "source": [
    "## Accessing Values in a Dictionary\n",
    "\n",
    "+ To access values in a dictionary, square brackets are used along with the **key**.\n",
    "+ Note that if you try to access an item with a key that is not specified in the dictionary, a **KeyError** is generated."
   ]
  },
  {
   "cell_type": "code",
   "execution_count": 12,
   "id": "3a0f6687",
   "metadata": {},
   "outputs": [
    {
     "name": "stdout",
     "output_type": "stream",
     "text": [
      "d['EMP_NO'] =  123\n",
      "d['Name'] =  Aaditya\n",
      "d['Deparment'] =  SALES\n"
     ]
    }
   ],
   "source": [
    "#Accessing Dicitonary values\n",
    "d = {'EMP_NO': '123', 'Name': 'Aaditya', 'Department': 'SALES'}\n",
    "print(\"d['EMP_NO'] = \", d['EMP_NO'])\n",
    "print(\"d['Name'] = \", d['Name'])\n",
    "print(\"d['Deparment'] = \", d['Department'])"
   ]
  },
  {
   "cell_type": "code",
   "execution_count": 13,
   "id": "0b390421",
   "metadata": {},
   "outputs": [
    {
     "ename": "KeyError",
     "evalue": "'Salary'",
     "output_type": "error",
     "traceback": [
      "\u001b[1;31m---------------------------------------------------------------------------\u001b[0m",
      "\u001b[1;31mKeyError\u001b[0m                                  Traceback (most recent call last)",
      "Cell \u001b[1;32mIn[13], line 1\u001b[0m\n\u001b[1;32m----> 1\u001b[0m \u001b[38;5;28mprint\u001b[39m(\u001b[43md\u001b[49m\u001b[43m[\u001b[49m\u001b[38;5;124;43m'\u001b[39;49m\u001b[38;5;124;43mSalary\u001b[39;49m\u001b[38;5;124;43m'\u001b[39;49m\u001b[43m]\u001b[49m)\n",
      "\u001b[1;31mKeyError\u001b[0m: 'Salary'"
     ]
    }
   ],
   "source": [
    "print(d['Salary'])"
   ]
  },
  {
   "cell_type": "code",
   "execution_count": null,
   "id": "986467b8",
   "metadata": {},
   "outputs": [],
   "source": []
  }
 ],
 "metadata": {
  "kernelspec": {
   "display_name": "Python 3 (ipykernel)",
   "language": "python",
   "name": "python3"
  },
  "language_info": {
   "codemirror_mode": {
    "name": "ipython",
    "version": 3
   },
   "file_extension": ".py",
   "mimetype": "text/x-python",
   "name": "python",
   "nbconvert_exporter": "python",
   "pygments_lexer": "ipython3",
   "version": "3.11.0"
  }
 },
 "nbformat": 4,
 "nbformat_minor": 5
}
