{
 "cells": [
  {
   "cell_type": "markdown",
   "id": "fed0a901",
   "metadata": {},
   "source": [
    "## LIST BASED PROGRAMMING QUESTIONS"
   ]
  },
  {
   "cell_type": "markdown",
   "id": "408afc6b",
   "metadata": {},
   "source": [
    "## SET - 01"
   ]
  },
  {
   "cell_type": "markdown",
   "id": "d8ef0450",
   "metadata": {},
   "source": [
    "### 1. WAPP to sum all the items\n",
    "\n",
    "**Input**: <br>\n",
    "[1,7,-10,34,2,-8]\n",
    "\n",
    "**Output**: <br>\n",
    "Sum all the items = 26"
   ]
  },
  {
   "cell_type": "markdown",
   "id": "b4aad9df",
   "metadata": {},
   "source": [
    "### 2. WAPP to multiply all the items in a list\n",
    "\n",
    "**Input**: <br>\n",
    "[3,4,5,4,7]\n",
    "\n",
    "**Output**: <br>\n",
    "Multiply all the items in a list: 1680"
   ]
  },
  {
   "cell_type": "markdown",
   "id": "8a18a92d",
   "metadata": {},
   "source": [
    "### 3. WAPP to get the largest number from a list\n",
    "\n",
    "**Input**: <br>\n",
    "[1,7,10,34,2,8]\n",
    "\n",
    "**Output**: <br>\n",
    "Largest Number: 34"
   ]
  },
  {
   "cell_type": "markdown",
   "id": "2dfb27ce",
   "metadata": {},
   "source": [
    "### 4. WAPP to get the smallest number from a list\n",
    "\n",
    "**Input**: <br>\n",
    "[51,7,10,34,2,8]\n",
    "\n",
    "**Output**: <br>\n",
    "Smallest Number: 2"
   ]
  },
  {
   "cell_type": "markdown",
   "id": "216c07d0",
   "metadata": {},
   "source": [
    "### 5. WAPP to count the number of strings where the string length is 2 or more and the first and last character are same from a give list of strings\n",
    "\n",
    "**Input**: <br>\n",
    "['abc','xyz','aba','1221']\n",
    "\n",
    "**Output**: <br>\n",
    "Find and Last Character are same: 2"
   ]
  },
  {
   "cell_type": "markdown",
   "id": "dbca81af",
   "metadata": {},
   "source": [
    "### 6. WAPP to remove duplicates from a list\n",
    "\n",
    "**Input**: <br>\n",
    "[1,2,3,7,2,1,5,6,4,8,5,4]\n",
    "\n",
    "**Output**: <br>\n",
    "[1,2,3,4,5,6,7,8]"
   ]
  },
  {
   "cell_type": "markdown",
   "id": "a0ad46bf",
   "metadata": {},
   "source": [
    "### 7. WAPP to check a list is empty or not\n",
    "\n",
    "**Input**: <br>\n",
    "[3,4,5,4,7]\n",
    "\n",
    "**Output**: <br>\n",
    "List is Not Empty"
   ]
  },
  {
   "cell_type": "markdown",
   "id": "97f54aec",
   "metadata": {},
   "source": [
    "### 8. WAPP to clone or copy a list\n",
    "\n",
    "**Input**: <br>\n",
    "[3,4,5,4,7]\n",
    "\n",
    "**Output**: <br>\n",
    "Clone or Copy a List: [10,22,44,23,4]"
   ]
  },
  {
   "cell_type": "markdown",
   "id": "a5273102",
   "metadata": {},
   "source": [
    "### 9. WAPP to find the list of words that are longer than n from a given list of words.\n",
    "\n",
    "**Input**: <br>\n",
    "Find the List of Words that are Longer than n from a given List of Words\n",
    "Given value of n = 4\n",
    "\n",
    "**Output**: <br>\n",
    "['Words', 'Longer', 'given', 'Words']"
   ]
  },
  {
   "cell_type": "markdown",
   "id": "2f7ff91b",
   "metadata": {},
   "source": [
    "### 10. WAPP that get two lists as input and check if they have at least one common member.\n",
    "\n",
    "**Input**: <br>\n",
    "[1,2,3,4,5]\n",
    "[5,6,7,8,9]\n",
    "\n",
    "**Output**: <br>\n",
    "Lists have atleast one common member"
   ]
  },
  {
   "cell_type": "markdown",
   "id": "916640e6",
   "metadata": {},
   "source": [
    "## SOLUTION -- SET 01"
   ]
  },
  {
   "cell_type": "code",
   "execution_count": 90,
   "id": "606bcf1f",
   "metadata": {},
   "outputs": [
    {
     "name": "stdout",
     "output_type": "stream",
     "text": [
      "26\n"
     ]
    }
   ],
   "source": [
    "# 01\n",
    "item=[1,7,-10,34,2,-8]\n",
    "sum = 0\n",
    "for i in item:\n",
    "    sum += i\n",
    "print(sum)"
   ]
  },
  {
   "cell_type": "code",
   "execution_count": 91,
   "id": "fc0beaa3",
   "metadata": {},
   "outputs": [
    {
     "name": "stdout",
     "output_type": "stream",
     "text": [
      "1680\n"
     ]
    }
   ],
   "source": [
    "# 02\n",
    "item=[3,4,5,4,7]\n",
    "total = 1\n",
    "for i in item:\n",
    "    total *= i\n",
    "print(total)"
   ]
  },
  {
   "cell_type": "code",
   "execution_count": 92,
   "id": "0d990640",
   "metadata": {},
   "outputs": [
    {
     "name": "stdout",
     "output_type": "stream",
     "text": [
      "Largest Number : 34\n"
     ]
    }
   ],
   "source": [
    "# 03\n",
    "a=[1,7,10,34,2,8]\n",
    "print(\"Largest Number :\",max(a))"
   ]
  },
  {
   "cell_type": "code",
   "execution_count": 93,
   "id": "645835d1",
   "metadata": {},
   "outputs": [
    {
     "name": "stdout",
     "output_type": "stream",
     "text": [
      "Largest Number : 34\n"
     ]
    }
   ],
   "source": [
    "# 03 <- ALTERNATIVE SOLUTION\n",
    "a=[1,7,10,34,2,8]\n",
    "max_v = a[0]\n",
    "for i in a:\n",
    "    if i > max_v:\n",
    "        max_v = i\n",
    "print(\"Largest Number :\",max_v)"
   ]
  },
  {
   "cell_type": "code",
   "execution_count": 94,
   "id": "78852440",
   "metadata": {},
   "outputs": [
    {
     "name": "stdout",
     "output_type": "stream",
     "text": [
      "Smallest Number : 2\n"
     ]
    }
   ],
   "source": [
    "# 04\n",
    "a=[51,7,10,34,2,8]\n",
    "print(\"Smallest Number :\",min(a))"
   ]
  },
  {
   "cell_type": "code",
   "execution_count": 95,
   "id": "5c5bdced",
   "metadata": {},
   "outputs": [
    {
     "name": "stdout",
     "output_type": "stream",
     "text": [
      "Smallest Number : 2\n"
     ]
    }
   ],
   "source": [
    "# 04 <-- ALTERNATIVE SOLUTION\n",
    "a=[51,7,10,34,2,8]\n",
    "min_num = a[0]\n",
    "for i in a:\n",
    "    if i < min_num:\n",
    "        min_num = i\n",
    "print(\"Smallest Number :\",min_num)"
   ]
  },
  {
   "cell_type": "code",
   "execution_count": 96,
   "id": "52bf8db3",
   "metadata": {},
   "outputs": [
    {
     "name": "stdout",
     "output_type": "stream",
     "text": [
      "2\n"
     ]
    }
   ],
   "source": [
    "# 05\n",
    "\"\"\"\n",
    "Sample List: ['abc', 'xyz', 'aba', '1221']\n",
    "Expected Result: 2\n",
    "\"\"\"\n",
    "\n",
    "word=[\"madem\",\"3643\",\"apple\",\"3756\"]\n",
    "ch = 0\n",
    "for w in word:\n",
    "    if len(w) > 1 and w[0] == w[-1]:\n",
    "        ch += 1\n",
    "print(ch)"
   ]
  },
  {
   "cell_type": "code",
   "execution_count": 97,
   "id": "ca612891",
   "metadata": {},
   "outputs": [
    {
     "name": "stdout",
     "output_type": "stream",
     "text": [
      "[1, 2, 3, 4, 5, 6, 7, 8]\n"
     ]
    }
   ],
   "source": [
    "# 06 \n",
    "a = [1,2,3,7,2,1,5,6,4,8,5,4]\n",
    "b=set(a)\n",
    "print(list(b))"
   ]
  },
  {
   "cell_type": "code",
   "execution_count": 98,
   "id": "7200b755",
   "metadata": {},
   "outputs": [
    {
     "name": "stdout",
     "output_type": "stream",
     "text": [
      "[1, 2, 3, 4, 5, 6, 7, 8]\n"
     ]
    }
   ],
   "source": [
    "# 06 <-- ALTERNATIVE SOLUTION\n",
    "a = [1,2,3,7,2,1,5,6,4,8,5,4]\n",
    "dup = set()\n",
    "uniq = []\n",
    "for x in a:\n",
    "    if x not in dup:\n",
    "        uniq.append(x)\n",
    "        dup.add(x)\n",
    "print(list(dup))"
   ]
  },
  {
   "cell_type": "code",
   "execution_count": 99,
   "id": "ef0c62cc",
   "metadata": {},
   "outputs": [
    {
     "name": "stdout",
     "output_type": "stream",
     "text": [
      "List is Empty...\n"
     ]
    }
   ],
   "source": [
    "# 07\n",
    "a = []\n",
    "if not a:\n",
    "    print(\"List is Empty...\")\n",
    "else:\n",
    "    print(\"List is Not Empty...\")"
   ]
  },
  {
   "cell_type": "code",
   "execution_count": 100,
   "id": "1560c2b6",
   "metadata": {},
   "outputs": [
    {
     "name": "stdout",
     "output_type": "stream",
     "text": [
      "Old List :  [10, 22, 44, 23, 4]\n",
      "New List :  [10, 22, 44, 23, 4]\n"
     ]
    }
   ],
   "source": [
    "# 08\n",
    "old_list = [10, 22, 44, 23, 4]\n",
    "new_list = list(old_list)\n",
    "\n",
    "print(\"Old List : \",old_list)\n",
    "print(\"New List : \",new_list)"
   ]
  },
  {
   "cell_type": "code",
   "execution_count": 101,
   "id": "42fd4b8d",
   "metadata": {},
   "outputs": [
    {
     "name": "stdout",
     "output_type": "stream",
     "text": [
      "['Words', 'Longer', 'given', 'Words']\n"
     ]
    }
   ],
   "source": [
    "# 09\n",
    "n=4\n",
    "str1 =\"Find the List of Words that are Longer than n from a given List of Words\"\n",
    "new_list = []\n",
    "\n",
    "text = str1.split(\" \")\n",
    "\n",
    "for x in text:\n",
    "    if len(x) > n:\n",
    "        new_list.append(x)\n",
    "print(new_list)"
   ]
  },
  {
   "cell_type": "code",
   "execution_count": 102,
   "id": "f73e8bef",
   "metadata": {},
   "outputs": [
    {
     "name": "stdout",
     "output_type": "stream",
     "text": [
      "True\n",
      "Lists have at least one common member\n"
     ]
    }
   ],
   "source": [
    "# 10\n",
    "list1=[1,2,3,4,5]\n",
    "list2=[5,6,7,8,9]\n",
    "\n",
    "result = False\n",
    "for x in list1:\n",
    "    for y in list2:\n",
    "        if x == y:\n",
    "            result = True\n",
    "            print(result)\n",
    "if result:\n",
    "    print(\"Lists have at least one common member\")\n",
    "else:\n",
    "    print(\"Lists do not have any common member\")"
   ]
  },
  {
   "cell_type": "markdown",
   "id": "ab72fdca",
   "metadata": {},
   "source": [
    "## SET - 02"
   ]
  },
  {
   "cell_type": "markdown",
   "id": "00984458",
   "metadata": {},
   "source": [
    "### 11. WAPP to print a specified list after removing the 0th, 4th and 5th elements. (enumerate)\n",
    "\n",
    "**Input**: <br>\n",
    "[\"Cat\", \"Dog\", \"Elephant\", \"Fox\", \"Tiger\", \"Lion\", \"Ponda\"]\n",
    "\n",
    "**Output**: <br>\n",
    "['Dog', 'Elephant', 'Fox', 'Ponda']"
   ]
  },
  {
   "cell_type": "markdown",
   "id": "0eca0767",
   "metadata": {},
   "source": [
    "### 12. WAPP to print the numbers of a specified list after removing even numbers from it\n",
    "**Input**: <br>\n",
    "[7,32,81,20,25,14,23,27]\n",
    "\n",
    "**Output**: <br>\n",
    "[7, 81, 25, 23, 27]"
   ]
  },
  {
   "cell_type": "markdown",
   "id": "581a5667",
   "metadata": {},
   "source": [
    "### 13. WAPP to shuffle and print a specified list (shuffle)\n",
    "**Input**: <br>\n",
    "[\"Cat\", \"Dog\", \"Elephant\", \"Fox\", \"Tiger\", \"Lion\", \"Ponda\"]\n",
    "\n",
    "**Output**: <br>\n",
    "['Fox', 'Cat', 'Tiger', 'Lion', 'Dog', 'Ponda', 'Elephant']"
   ]
  },
  {
   "cell_type": "markdown",
   "id": "ef2c2dcd",
   "metadata": {},
   "source": [
    "### 14. WAPP to generate and print a list of first and last 5 elements where the values are square of numbers between 1 and 30\n",
    "\n",
    "\n",
    "**Output**: <br>\n",
    "First 5 elements : [1, 4, 9, 16, 25] <br>\n",
    "Last 5 elements : [625, 676, 729, 784, 841]`"
   ]
  },
  {
   "cell_type": "markdown",
   "id": "76fd7cfc",
   "metadata": {},
   "source": [
    "### 15. WAPP to generate all permutations of a list in Python. (itertools)\n",
    "**Input**: <br>\n",
    "[1,2,3]\n",
    "\n",
    "**Output**: <br>\n",
    "[(1, 2, 3), (1, 3, 2), (2, 1, 3), (2, 3, 1), (3, 1, 2), (3, 2, 1)]"
   ]
  },
  {
   "cell_type": "markdown",
   "id": "aaedac43",
   "metadata": {},
   "source": [
    "### 16. WAPP to convert a list of characters into a string\n",
    "**Input**: <br>\n",
    "['D','P','S',' ', 'R','u','b','y']\n",
    "\n",
    "**Output**: <br>\n",
    "DPS Ruby"
   ]
  },
  {
   "cell_type": "markdown",
   "id": "4ded4405",
   "metadata": {},
   "source": [
    "### 17. WAPP to find the index of an item in a specified list\n",
    "**Input**: <br>\n",
    "[20, 70, 30, 90, 10, 30, 90, 10, 80]\n",
    "\n",
    "**Output**: <br>\n",
    "Item to find the index of 30\n",
    "\n",
    "Index Number of Item = 2"
   ]
  },
  {
   "cell_type": "markdown",
   "id": "e00d14c2",
   "metadata": {},
   "source": [
    "### 18. WAPP to flatten a shallow list\n",
    "**Input**: <br>\n",
    "[[20,30,70],[30,90,10], [30,20], [70,90,10,80]]\n",
    "\n",
    "**Output**: <br>\n",
    "[20, 30, 70, 30, 90, 10, 30, 20, 70, 90, 10, 80]"
   ]
  },
  {
   "cell_type": "markdown",
   "id": "591b86b2",
   "metadata": {},
   "source": [
    "### 19. WAPP to add a list to the second list\n",
    "**Input**: <br>\n",
    "[10, 20, 30, 40]\n",
    "\n",
    "[\"Cat\", \"Dog\", \"Lion\", \"Ponda\"]\n",
    "\n",
    "**Output**: <br>\n",
    "[10, 20, 30, 40, 'Cat', 'Dog', 'Lion', 'Ponda']"
   ]
  },
  {
   "cell_type": "markdown",
   "id": "d6fe7428",
   "metadata": {},
   "source": [
    "### 20. WAPP to  select an item randomly from a list Using random.choice()\n",
    "**Input**: <br>\n",
    "[\"Cat\", \"Dog\", \"Elephant\", \"Fox\", \"Tiger\", \"Lion\", \"Ponda\"]\n",
    "\n",
    "**Output**: <br>\n",
    "Item randomly from a list : Fox"
   ]
  },
  {
   "cell_type": "markdown",
   "id": "112ea647",
   "metadata": {},
   "source": [
    "## SOLUTION -- SET 02"
   ]
  },
  {
   "cell_type": "code",
   "execution_count": 103,
   "id": "199237f9",
   "metadata": {},
   "outputs": [
    {
     "name": "stdout",
     "output_type": "stream",
     "text": [
      "['Dog', 'Elephant', 'Fox', 'Ponda']\n"
     ]
    }
   ],
   "source": [
    "# 11\n",
    "animal = [\"Cat\", \"Dog\", \"Elephant\", \"Fox\", \"Tiger\", \"Lion\", \"Ponda\"]\n",
    "a = []\n",
    "for i, x in enumerate(animal):\n",
    "    if i not in (0,4,5):\n",
    "        a.append(x)\n",
    "print(a)"
   ]
  },
  {
   "cell_type": "code",
   "execution_count": 104,
   "id": "aef11182",
   "metadata": {},
   "outputs": [
    {
     "name": "stdout",
     "output_type": "stream",
     "text": [
      "['Dog', 'Elephant', 'Fox', 'Ponda']\n"
     ]
    }
   ],
   "source": [
    "# 11 <-- ALTERNATE SOLUTION USING LIST COMPREHENSION\n",
    "animal = [\"Cat\", \"Dog\", \"Elephant\", \"Fox\", \"Tiger\", \"Lion\", \"Ponda\"]\n",
    "animal = [x for (i,x) in enumerate(animal) if i not in (0,4,5)]\n",
    "print(animal)"
   ]
  },
  {
   "cell_type": "code",
   "execution_count": 105,
   "id": "4312f1a1",
   "metadata": {},
   "outputs": [
    {
     "name": "stdout",
     "output_type": "stream",
     "text": [
      "[7, 81, 25, 23, 27]\n"
     ]
    }
   ],
   "source": [
    "# 12\n",
    "n = [7,32,81,20,25,14,23,27]\n",
    "n1 = []\n",
    "for x in n:\n",
    "    if x%2 != 0:\n",
    "        n1.append(x)\n",
    "print(n1)"
   ]
  },
  {
   "cell_type": "code",
   "execution_count": 106,
   "id": "e8c1eacb",
   "metadata": {},
   "outputs": [
    {
     "name": "stdout",
     "output_type": "stream",
     "text": [
      "[7, 81, 25, 23, 27]\n"
     ]
    }
   ],
   "source": [
    "# 12 <- ALTERNATE SOLUTION\n",
    "n = [7,32,81,20,25,14,23,27]\n",
    "n = [x for x in n if x%2!=0]\n",
    "print(n)"
   ]
  },
  {
   "cell_type": "code",
   "execution_count": 107,
   "id": "ee0c2fe3",
   "metadata": {},
   "outputs": [
    {
     "name": "stdout",
     "output_type": "stream",
     "text": [
      "['Elephant', 'Tiger', 'Lion', 'Cat', 'Fox', 'Dog', 'Ponda']\n"
     ]
    }
   ],
   "source": [
    "# 13\n",
    "from random import shuffle\n",
    "animal = [\"Cat\", \"Dog\", \"Elephant\", \"Fox\", \"Tiger\", \"Lion\", \"Ponda\"]\n",
    "shuffle(animal)\n",
    "print(animal)"
   ]
  },
  {
   "cell_type": "code",
   "execution_count": 108,
   "id": "2c266802",
   "metadata": {},
   "outputs": [
    {
     "name": "stdout",
     "output_type": "stream",
     "text": [
      "[1, 4, 9, 16, 25]\n",
      "[400, 441, 484, 529, 576]\n"
     ]
    }
   ],
   "source": [
    "# 14\n",
    "l = list()\n",
    "for i in range(1,25):\n",
    "    l.append(i**2)\n",
    "print(l[:5])\n",
    "print(l[-5:])"
   ]
  },
  {
   "cell_type": "code",
   "execution_count": 109,
   "id": "cc96f854",
   "metadata": {},
   "outputs": [
    {
     "name": "stdout",
     "output_type": "stream",
     "text": [
      "[(1, 2, 3), (1, 3, 2), (2, 1, 3), (2, 3, 1), (3, 1, 2), (3, 2, 1)]\n"
     ]
    }
   ],
   "source": [
    "# 15\n",
    "import itertools\n",
    "print(list(itertools.permutations([1,2,3])))"
   ]
  },
  {
   "cell_type": "code",
   "execution_count": 110,
   "id": "2b45f4d2",
   "metadata": {},
   "outputs": [
    {
     "name": "stdout",
     "output_type": "stream",
     "text": [
      "DPS Ruby\n"
     ]
    }
   ],
   "source": [
    "# 16\n",
    "s = ['D','P','S',' ', 'R','u','b','y']\n",
    "s1 = ''.join(s)\n",
    "print(s1)"
   ]
  },
  {
   "cell_type": "code",
   "execution_count": 111,
   "id": "b88fb95b",
   "metadata": {},
   "outputs": [
    {
     "name": "stdout",
     "output_type": "stream",
     "text": [
      "2\n"
     ]
    }
   ],
   "source": [
    "# 17\n",
    "num = [20, 70, 30, 90, 10, 30, 90, 10, 80]\n",
    "print(num.index(30))"
   ]
  },
  {
   "cell_type": "code",
   "execution_count": 112,
   "id": "0a8549f0",
   "metadata": {},
   "outputs": [
    {
     "name": "stdout",
     "output_type": "stream",
     "text": [
      "[20, 30, 70, 30, 90, 10, 30, 20, 70, 90, 10, 80]\n"
     ]
    }
   ],
   "source": [
    "# 18\n",
    "ori_list = [[20,30,70],[30,90,10], [30,20], [70,90,10,80]]\n",
    "flatten = []\n",
    "for i in ori_list:\n",
    "    for j in i:\n",
    "        flatten.append(j)\n",
    "print(flatten)"
   ]
  },
  {
   "cell_type": "code",
   "execution_count": 113,
   "id": "fcd0c73c",
   "metadata": {},
   "outputs": [
    {
     "name": "stdout",
     "output_type": "stream",
     "text": [
      "[20, 30, 70, 30, 90, 10, 30, 20, 70, 90, 10, 80]\n"
     ]
    }
   ],
   "source": [
    "# 18 <-- ALTERNATE SOLUTION\n",
    "import itertools\n",
    "\n",
    "ori_list = [[20,30,70],[30,90,10], [30,20], [70,90,10,80]]\n",
    "merged_list = list(itertools.chain(*ori_list))\n",
    "print(merged_list)"
   ]
  },
  {
   "cell_type": "code",
   "execution_count": 114,
   "id": "c587cc37",
   "metadata": {},
   "outputs": [
    {
     "name": "stdout",
     "output_type": "stream",
     "text": [
      "[10, 20, 30, 40, 'Cat', 'Dog', 'Lion', 'Ponda']\n"
     ]
    }
   ],
   "source": [
    "# 19\n",
    "Number = [10, 20, 30, 40]\n",
    "animal = [\"Cat\", \"Dog\", \"Lion\", \"Ponda\"]\n",
    "final_list = Number + animal\n",
    "print(final_list)"
   ]
  },
  {
   "cell_type": "code",
   "execution_count": 115,
   "id": "97f0f273",
   "metadata": {},
   "outputs": [
    {
     "name": "stdout",
     "output_type": "stream",
     "text": [
      "Elephant\n"
     ]
    }
   ],
   "source": [
    "# 20\n",
    "import random\n",
    "animal = [\"Cat\", \"Dog\", \"Elephant\", \"Fox\", \"Tiger\", \"Lion\", \"Panda\"]\n",
    "print(random.choice(animal))"
   ]
  },
  {
   "cell_type": "markdown",
   "id": "3ce9f881",
   "metadata": {},
   "source": [
    "# SET - 03"
   ]
  },
  {
   "cell_type": "markdown",
   "id": "64c1a5b5",
   "metadata": {},
   "source": [
    "### 21. WAPP to check whether two lists are circularly identical\n",
    "**Input**: <br>\n",
    "[8, 8, 12, 12, 8]\n",
    "\n",
    "[8, 8, 8, 12, 12]\n",
    "\n",
    "[1, 8, 8, 12, 12]\n",
    "\n",
    "**Output**: <br>\n",
    "Compare List1 and List2 : True\n",
    "\n",
    "Compare List1 and List3 : False"
   ]
  },
  {
   "cell_type": "markdown",
   "id": "a56fe34d",
   "metadata": {},
   "source": [
    "### 22. WAPP to find the second smallest number in a list\n",
    "**Input**: <br>\n",
    "[2,4,56,78,4,34,5,8,9]\n",
    "\n",
    "**Output**: <br>\n",
    "Second Smallest Number : 4"
   ]
  },
  {
   "cell_type": "markdown",
   "id": "88ab4f86",
   "metadata": {},
   "source": [
    "### 23. WAPP to find the second largest number in a list\n",
    "**Input**: <br>\n",
    "[82,4,56,78,4,34,5,100,9]\n",
    "\n",
    "**Output**: <br>\n",
    "Second Largest Number : 82"
   ]
  },
  {
   "cell_type": "markdown",
   "id": "6ac72d79",
   "metadata": {},
   "source": [
    "### 24. WAPP to get unique values from a list\n",
    "**Input**: <br>\n",
    "[82, 4, 10, 56, 78, 4, 34, 5, 10, 9]\n",
    "\n",
    "**Output**: <br>\n",
    "[34, 4, 5, 9, 10, 78, 82, 56]"
   ]
  },
  {
   "cell_type": "markdown",
   "id": "2ced9b9f",
   "metadata": {},
   "source": [
    "### 25. WAPP to get the frequency of the elements in a list.\n",
    "**Input**: <br>\n",
    "[10, 30, 50, 10, 20, 60, 20, 60, 40, 40, 50, 50, 30]\n",
    "\n",
    "**Output**: <br>\n",
    "{50: 3, 10: 2, 30: 2, 20: 2, 60: 2, 40: 2}"
   ]
  },
  {
   "cell_type": "markdown",
   "id": "e7d2e3b3",
   "metadata": {},
   "source": [
    "### 26. Create a list by concatenating a given list which range goes from 1 to n\n",
    "**Input**: <br>\n",
    "['T', 'J']\n",
    "\n",
    "N = 10\n",
    "\n",
    "**Output**: <br>\n",
    "['T1', 'J1', 'T2', 'J2', 'T3', 'J3', 'T4', 'J4', 'T5', 'J5', 'T6', 'J6', 'T7', 'J7', 'T8', 'J8', 'T9', 'J9', 'T10', 'J10']"
   ]
  },
  {
   "cell_type": "markdown",
   "id": "daaae18d",
   "metadata": {},
   "source": [
    "### 27. WAPP to get variable unique identification number or string\n",
    "**Input**: <br>\n",
    "x = 30\n",
    "\n",
    "s = \"DPS Ruby\"\n",
    "\n",
    "\n",
    "**Output**: <br>\n",
    "Unique Identification Number : 7005f980\n",
    "\n",
    "Unique Identification String : c24bb0"
   ]
  },
  {
   "cell_type": "markdown",
   "id": "a3b9e827",
   "metadata": {},
   "source": [
    "### 28. WAPP to find common items from two lists\n",
    "**Input**: <br>\n",
    "[23,45,67,78,89,34]\n",
    "\n",
    "[34,89,55,56,39,67]\n",
    "\n",
    "**Output**: <br>\n",
    "Common items from two lists : {89, 34, 67}"
   ]
  },
  {
   "cell_type": "markdown",
   "id": "1260b3f2",
   "metadata": {},
   "source": [
    "### 29. WAPP to split a list based on first character of word\n",
    "**Input**: <br>\n",
    "[\"cat\", \"dog\", \"cow\", \"tiger\", \"lion\", \"Fox\", \"Shark\", \"Snake\", \"turtle\", \"mouse\", \"monkey\", \"bear\"]\n",
    "\n",
    "**Output**: <br>\n",
    "**F** <br>\n",
    "     Fox <br>\n",
    "**S** <br>\n",
    "     Shark <br>\n",
    "     Snake <br>\n",
    "**b** <br>\n",
    "     bear <br>\n",
    "**c** <br>\n",
    "     cat <br>\n",
    "     cow <br>\n",
    "**d** <br>\n",
    "     dog <br>\n",
    "**l** <br>\n",
    "     lion <br>\n",
    "**m** <br>\n",
    "     monkey <br>\n",
    "     mouse <br>\n",
    "**t** <br>\n",
    "     tiger <br>\n",
    "     turtle"
   ]
  },
  {
   "cell_type": "markdown",
   "id": "9cf2a43e",
   "metadata": {},
   "source": [
    "### 30. WAPP to select the odd number of a list\n",
    "**Input**: <br>\n",
    "[1,2,4,3,6,7,5,8,9,7,8,9,10]\n",
    "\n",
    "**Output**: <br>\n",
    "[1, 3, 7, 5, 9, 7, 9]"
   ]
  },
  {
   "cell_type": "markdown",
   "id": "12ee70c5",
   "metadata": {},
   "source": [
    "# SOLUTION -- SET 03"
   ]
  },
  {
   "cell_type": "code",
   "execution_count": 116,
   "id": "ff80775a",
   "metadata": {},
   "outputs": [
    {
     "name": "stdout",
     "output_type": "stream",
     "text": [
      "Compare List1 and List2 :  True\n",
      "Compare List1 and List3 :  False\n"
     ]
    }
   ],
   "source": [
    "# 21\n",
    "list1 = [8, 8, 12, 12, 8]\n",
    "list2 = [8, 8, 8, 12, 12]\n",
    "list3 = [1, 8, 8, 12, 12]\n",
    "\n",
    "print(\"Compare List1 and List2 : \",' '.join(map(str, list2)) in ' '.join(map(str, list1 * 2)))\n",
    "print(\"Compare List1 and List3 : \",' '.join(map(str, list3)) in ' '.join(map(str, list1 * 2)))"
   ]
  },
  {
   "cell_type": "code",
   "execution_count": 117,
   "id": "5a167bb5",
   "metadata": {},
   "outputs": [
    {
     "name": "stdout",
     "output_type": "stream",
     "text": [
      "4\n"
     ]
    }
   ],
   "source": [
    "# 22\n",
    "num = [2,4,56,78,4,34,5,8,9]\n",
    "\n",
    "if len(num)<2:\n",
    "    print(num)\n",
    "    \n",
    "if (len(num)==2)  and (num[0] == num[1]):\n",
    "    print(num)\n",
    "    \n",
    "dup_items = set()\n",
    "uniq_items = []\n",
    "for x in num:\n",
    "    if x not in dup_items:\n",
    "        uniq_items.append(x)\n",
    "        dup_items.add(x)\n",
    "        \n",
    "uniq_items.sort()    \n",
    "print(uniq_items[1])"
   ]
  },
  {
   "cell_type": "code",
   "execution_count": 118,
   "id": "bf8fdd0e",
   "metadata": {},
   "outputs": [
    {
     "name": "stdout",
     "output_type": "stream",
     "text": [
      "82\n"
     ]
    }
   ],
   "source": [
    "# 23\n",
    "num = [ 82,4,56,78,4,34,5,100,9]\n",
    "\n",
    "if (len(num)<2):\n",
    "    print(num)\n",
    "    \n",
    "if ((len(num)==2)  and (num[0] == num[1]) ):\n",
    "    print(num)\n",
    "    \n",
    "dup_items = set()\n",
    "uniq_items = []\n",
    "for x in num:\n",
    "    if x not in dup_items:\n",
    "        uniq_items.append(x)\n",
    "        dup_items.add(x)\n",
    "uniq_items.sort()    \n",
    "print(uniq_items[-2])"
   ]
  },
  {
   "cell_type": "code",
   "execution_count": 119,
   "id": "1d62a905",
   "metadata": {},
   "outputs": [
    {
     "name": "stdout",
     "output_type": "stream",
     "text": [
      "Original List :  [82, 4, 10, 56, 78, 4, 34, 5, 10, 9]\n",
      "Unique Numbers :  [34, 4, 5, 9, 10, 78, 82, 56]\n"
     ]
    }
   ],
   "source": [
    "# 24\n",
    "l = [ 82,4,10,56,78,4,34,5,10,9]\n",
    "\n",
    "print(\"Original List : \",l)\n",
    "\n",
    "s = set(l)\n",
    "new_list = list(s)\n",
    "\n",
    "print(\"Unique Numbers : \",new_list)"
   ]
  },
  {
   "cell_type": "code",
   "execution_count": 120,
   "id": "267c3ad5",
   "metadata": {},
   "outputs": [
    {
     "name": "stdout",
     "output_type": "stream",
     "text": [
      "Original List :  [10, 30, 50, 10, 20, 60, 20, 60, 40, 40, 50, 50, 30]\n",
      "Frequency of the Elements:  Counter({50: 3, 10: 2, 30: 2, 20: 2, 60: 2, 40: 2})\n"
     ]
    }
   ],
   "source": [
    "# 25\n",
    "import collections\n",
    "l = [10,30,50,10,20,60,20,60,40,40,50,50,30]\n",
    "\n",
    "print(\"Original List : \",l)\n",
    "\n",
    "f = collections.Counter(l)\n",
    "\n",
    "print(\"Frequency of the Elements: \",f)"
   ]
  },
  {
   "cell_type": "code",
   "execution_count": 121,
   "id": "bf49d630",
   "metadata": {},
   "outputs": [
    {
     "name": "stdout",
     "output_type": "stream",
     "text": [
      "['T1', 'J1', 'T2', 'J2', 'T3', 'J3', 'T4', 'J4', 'T5', 'J5', 'T6', 'J6', 'T7', 'J7', 'T8', 'J8', 'T9', 'J9', 'T10', 'J10']\n"
     ]
    }
   ],
   "source": [
    "# 26\n",
    "ch = ['T', 'J']\n",
    "n = 10\n",
    "new_list = ['{}{}'.format(a, b) for b in range(1, n+1) for a in ch]\n",
    "print(new_list)"
   ]
  },
  {
   "cell_type": "code",
   "execution_count": 122,
   "id": "e666cbf6",
   "metadata": {},
   "outputs": [
    {
     "name": "stdout",
     "output_type": "stream",
     "text": [
      "7ffcb4a0d6c8\n",
      "2136278fdb0\n"
     ]
    }
   ],
   "source": [
    "# 27\n",
    "x = 30\n",
    "print(format(id(x), 'x'))\n",
    "s = \"DPS Ruby\"\n",
    "print(format(id(s), 'x')) "
   ]
  },
  {
   "cell_type": "code",
   "execution_count": 123,
   "id": "9e7fee2e",
   "metadata": {},
   "outputs": [
    {
     "name": "stdout",
     "output_type": "stream",
     "text": [
      "{89, 34, 67}\n"
     ]
    }
   ],
   "source": [
    "# 28\n",
    "num1 = [23,45,67,78,89,34]\n",
    "num2 = [34,89,55,56,39,67]\n",
    "print(set(num1) & set(num2))"
   ]
  },
  {
   "cell_type": "code",
   "execution_count": 124,
   "id": "c6fba94c",
   "metadata": {},
   "outputs": [
    {
     "name": "stdout",
     "output_type": "stream",
     "text": [
      "F\n",
      "  Fox\n",
      "\n",
      "S\n",
      "  Shark\n",
      "\n",
      "  Snake\n",
      "\n",
      "b\n",
      "  bear\n",
      "\n",
      "c\n",
      "  cat\n",
      "\n",
      "  cow\n",
      "\n",
      "d\n",
      "  dog\n",
      "\n",
      "l\n",
      "  lion\n",
      "\n",
      "m\n",
      "  monkey\n",
      "\n",
      "  mouse\n",
      "\n",
      "t\n",
      "  tiger\n",
      "\n",
      "  turtle\n",
      "\n"
     ]
    }
   ],
   "source": [
    "# 29\n",
    "from itertools import groupby\n",
    "from operator import itemgetter\n",
    " \n",
    "a = [\"cat\",\"dog\",\"cow\",\"tiger\",\"lion\",\"Fox\",\"Shark\",\"Snake\",\"turtle\",\"mouse\",\"monkey\",\"bear\"]\n",
    " \n",
    "for ltr, wds in groupby(sorted(a), key=itemgetter(0)):\n",
    "    print(ltr)\n",
    "    for w in wds:\n",
    "        print(\" \", w)\n",
    "        print(\"\")"
   ]
  },
  {
   "cell_type": "code",
   "execution_count": 125,
   "id": "8cd0ef01",
   "metadata": {},
   "outputs": [
    {
     "name": "stdout",
     "output_type": "stream",
     "text": [
      "[1, 3, 7, 5, 9, 7, 9]\n"
     ]
    }
   ],
   "source": [
    "# 30\n",
    "a=[1,2,4,3,6,7,5,8,9,7,8,9,10]\n",
    "odd_num=[]\n",
    "\n",
    "for i in a:\n",
    "    if(i%2==1):\n",
    "        #print(i)\n",
    "        odd_num.append(i)\n",
    "        \n",
    "print(odd_num)"
   ]
  },
  {
   "cell_type": "markdown",
   "id": "c53b1740",
   "metadata": {},
   "source": [
    "# SET - 04"
   ]
  },
  {
   "cell_type": "markdown",
   "id": "7bdfa79e",
   "metadata": {},
   "source": [
    "### 31. WAPP to count unique values inside a list\n",
    "**Input**: <br>\n",
    "[10, 20, 30, 50, 80, 70, 70, 80, 10]\n",
    "\n",
    "**Output**: <br>\n",
    "No of Unique Items in List : 6"
   ]
  },
  {
   "cell_type": "markdown",
   "id": "8dc6d562",
   "metadata": {},
   "source": [
    "### 32. WAPP to List product excluding duplicates\n",
    "**Input**: <br>\n",
    "[2, 1, 2, 4, 6, 4, 3, 2, 1]\n",
    "\n",
    "**Output**: <br>\n",
    "Duplication removal list product : 144"
   ]
  },
  {
   "cell_type": "markdown",
   "id": "60a8c3c5",
   "metadata": {},
   "source": [
    "### 33. WAPP to Extract elements with Frequency greater than K\n",
    "**Input**: <br>\n",
    "[4, 6, 4, 3, 3, 4, 3, 7, 8, 8]\n",
    "\n",
    "**Output**: <br>"
   ]
  },
  {
   "cell_type": "markdown",
   "id": "109679df",
   "metadata": {},
   "source": [
    "### 34. WAPP to Test if List contains elements in Range\n",
    "**Input**: <br>\n",
    "[4, 5, 6, 7, 3, 9]\n",
    "\n",
    "**Output**: <br>\n",
    "Does list contain all elements in range : True"
   ]
  },
  {
   "cell_type": "markdown",
   "id": "f357e19a",
   "metadata": {},
   "source": [
    "### 35. WAPP to check if the list contains three consecutive common numbers in Python\n",
    "\n",
    "**Input**: <br>\n",
    "[18, 18, 18, 6, 3, 4, 9, 9, 9]\n",
    "\n",
    "**Output**: <br>\n",
    "Three Consecutive common numbers = 18, 9"
   ]
  },
  {
   "cell_type": "markdown",
   "id": "93e5dd5b",
   "metadata": {},
   "source": [
    "### 36. WAPP to find the Strongest Neighbour\n",
    "**Input**: <br>\n",
    "[10,20,30,20,30,400]\n",
    "\n",
    "**Output**: <br>\n",
    "20 30 30 30 400"
   ]
  },
  {
   "cell_type": "markdown",
   "id": "3c4a40fb",
   "metadata": {},
   "source": [
    "### 37. WAPP to  print all Possible Combinations from the three Digits\n",
    "**Input**: <br>\n",
    "[1, 2, 3]\n",
    "\n",
    "**Output**: <br>\n",
    "1 2 3 \n",
    "\n",
    "1 3 2\n",
    "\n",
    "2 1 3\n",
    "\n",
    "2 3 1\n",
    "\n",
    "3 1 2\n",
    "\n",
    "3 2 1"
   ]
  },
  {
   "cell_type": "markdown",
   "id": "84f8c6da",
   "metadata": {},
   "source": [
    "### 38. WAPP to find all the Combinations in the list with the given condition\n",
    "**Input**: <br>\n",
    "['DPS Ruby', ['Software', 'Computer'], ['Solution', 'Education']]\n",
    "\n",
    "**Output**: <br>\n",
    "[ ['DPS Ruby', 'Software', 'Solution'], ['DPS Ruby', 'Computer', 'Education'] ]"
   ]
  },
  {
   "cell_type": "markdown",
   "id": "08b352b3",
   "metadata": {},
   "source": [
    "### 39. WAPP to get all unique combinations of two Lists\n",
    "**Input**: <br>\n",
    "['A','B','C']\n",
    "\n",
    "[1,2,3]\n",
    "\n",
    "**Output**: <br>\n",
    "[ [('A', 1), ('B', 2), ('C', 3)], [('A', 1), ('C', 2), ('B', 3)], [('B', 1), ('A', 2), ('C', 3)], [('B', 1), ('C', 2), ('A', 3)], [('C', 1), ('A', 2), ('B', 3)], [('C', 1), ('B', 2), ('A', 3)] ]"
   ]
  },
  {
   "cell_type": "markdown",
   "id": "7dc314d3",
   "metadata": {},
   "source": [
    "### 40. WAPP to remove all the occurrences of an element from a list\n",
    "**Input**: <br>\n",
    "[1, 3, 4, 6, 5, 1]\n",
    "\n",
    "**Output**: <br>\n",
    "[3, 4, 6, 5]"
   ]
  },
  {
   "cell_type": "markdown",
   "id": "31983c71",
   "metadata": {},
   "source": [
    "# SOLUTION -- SET 04"
   ]
  },
  {
   "cell_type": "code",
   "execution_count": 126,
   "id": "9b16f8f9",
   "metadata": {},
   "outputs": [
    {
     "name": "stdout",
     "output_type": "stream",
     "text": [
      "No of Unique Items in List : 6\n"
     ]
    }
   ],
   "source": [
    "# 31\n",
    "#First Method\n",
    " \n",
    "a = [10, 20, 30, 50, 80, 70, 70, 80, 10]\n",
    "s = set(a)\n",
    "print(\"No of Unique Items in List :\", len(s))"
   ]
  },
  {
   "cell_type": "code",
   "execution_count": 127,
   "id": "20246646",
   "metadata": {},
   "outputs": [
    {
     "name": "stdout",
     "output_type": "stream",
     "text": [
      "No of Unique Items in List : 6\n"
     ]
    }
   ],
   "source": [
    "# 31\n",
    "# Second Method\n",
    "a = [10, 20, 30, 50, 80, 70, 70, 80, 10]\n",
    "l = []\n",
    "count = 0\n",
    "for i in a:\n",
    "    if i not in l:\n",
    "        count += 1\n",
    "        l.append(i)\n",
    "\n",
    "print(\"No of Unique Items in List :\", count)"
   ]
  },
  {
   "cell_type": "code",
   "execution_count": 40,
   "id": "245361ff",
   "metadata": {},
   "outputs": [
    {
     "ename": "TypeError",
     "evalue": "'str' object is not callable",
     "output_type": "error",
     "traceback": [
      "\u001b[1;31m---------------------------------------------------------------------------\u001b[0m",
      "\u001b[1;31mTypeError\u001b[0m                                 Traceback (most recent call last)",
      "Cell \u001b[1;32mIn[40], line 3\u001b[0m\n\u001b[0;32m      1\u001b[0m \u001b[38;5;66;03m# 32\u001b[39;00m\n\u001b[0;32m      2\u001b[0m a \u001b[38;5;241m=\u001b[39m [\u001b[38;5;241m2\u001b[39m,\u001b[38;5;241m1\u001b[39m,\u001b[38;5;241m2\u001b[39m,\u001b[38;5;241m4\u001b[39m,\u001b[38;5;241m6\u001b[39m,\u001b[38;5;241m4\u001b[39m,\u001b[38;5;241m3\u001b[39m,\u001b[38;5;241m2\u001b[39m,\u001b[38;5;241m1\u001b[39m]\n\u001b[1;32m----> 3\u001b[0m \u001b[38;5;28mprint\u001b[39m (\u001b[38;5;124m\"\u001b[39m\u001b[38;5;124mOriginal list : \u001b[39m\u001b[38;5;124m\"\u001b[39m \u001b[38;5;241m+\u001b[39m \u001b[38;5;28;43mstr\u001b[39;49m\u001b[43m(\u001b[49m\u001b[43ma\u001b[49m\u001b[43m)\u001b[49m)\n\u001b[0;32m      5\u001b[0m b\u001b[38;5;241m=\u001b[39m\u001b[38;5;28mlist\u001b[39m(\u001b[38;5;28mset\u001b[39m(a))\n\u001b[0;32m      6\u001b[0m p\u001b[38;5;241m=\u001b[39m\u001b[38;5;241m1\u001b[39m\n",
      "\u001b[1;31mTypeError\u001b[0m: 'str' object is not callable"
     ]
    }
   ],
   "source": [
    "# 32\n",
    "a = [2,1,2,4,6,4,3,2,1]\n",
    "print (\"Original list : \" + str(a))\n",
    " \n",
    "b=list(set(a))\n",
    "p=1\n",
    "for i in b:\n",
    "    p*=i\n",
    "\n",
    "print(\"Duplication removal list product : \" + str(p))"
   ]
  },
  {
   "cell_type": "code",
   "execution_count": 43,
   "id": "a592797d",
   "metadata": {},
   "outputs": [
    {
     "ename": "TypeError",
     "evalue": "'str' object is not callable",
     "output_type": "error",
     "traceback": [
      "\u001b[1;31m---------------------------------------------------------------------------\u001b[0m",
      "\u001b[1;31mTypeError\u001b[0m                                 Traceback (most recent call last)",
      "Cell \u001b[1;32mIn[43], line 3\u001b[0m\n\u001b[0;32m      1\u001b[0m \u001b[38;5;66;03m# 33\u001b[39;00m\n\u001b[0;32m      2\u001b[0m a \u001b[38;5;241m=\u001b[39m [\u001b[38;5;241m4\u001b[39m, \u001b[38;5;241m6\u001b[39m, \u001b[38;5;241m4\u001b[39m, \u001b[38;5;241m3\u001b[39m, \u001b[38;5;241m3\u001b[39m, \u001b[38;5;241m4\u001b[39m, \u001b[38;5;241m3\u001b[39m, \u001b[38;5;241m7\u001b[39m, \u001b[38;5;241m8\u001b[39m, \u001b[38;5;241m8\u001b[39m]\n\u001b[1;32m----> 3\u001b[0m \u001b[38;5;28mprint\u001b[39m(\u001b[38;5;124m\"\u001b[39m\u001b[38;5;124mOriginal list : \u001b[39m\u001b[38;5;124m\"\u001b[39m \u001b[38;5;241m+\u001b[39m \u001b[38;5;28;43mstr\u001b[39;49m\u001b[43m(\u001b[49m\u001b[43ma\u001b[49m\u001b[43m)\u001b[49m)\n\u001b[0;32m      4\u001b[0m K \u001b[38;5;241m=\u001b[39m \u001b[38;5;241m2\u001b[39m\n\u001b[0;32m      6\u001b[0m res \u001b[38;5;241m=\u001b[39m []\n",
      "\u001b[1;31mTypeError\u001b[0m: 'str' object is not callable"
     ]
    }
   ],
   "source": [
    "# 33\n",
    "a = [4, 6, 4, 3, 3, 4, 3, 7, 8, 8]\n",
    "print(\"Original list : \" + str(a))\n",
    "K = 2\n",
    " \n",
    "res = []\n",
    "for i in a:\n",
    "    freq = a.count(i)\n",
    "    if freq > K and i not in res:\n",
    "        res.append(i)\n",
    "\n",
    "print(\"The Required Elements : \" + str(res))"
   ]
  },
  {
   "cell_type": "code",
   "execution_count": 44,
   "id": "9903abad",
   "metadata": {},
   "outputs": [
    {
     "ename": "TypeError",
     "evalue": "'str' object is not callable",
     "output_type": "error",
     "traceback": [
      "\u001b[1;31m---------------------------------------------------------------------------\u001b[0m",
      "\u001b[1;31mTypeError\u001b[0m                                 Traceback (most recent call last)",
      "Cell \u001b[1;32mIn[44], line 4\u001b[0m\n\u001b[0;32m      1\u001b[0m \u001b[38;5;66;03m# 34\u001b[39;00m\n\u001b[0;32m      2\u001b[0m a \u001b[38;5;241m=\u001b[39m [\u001b[38;5;241m4\u001b[39m, \u001b[38;5;241m5\u001b[39m, \u001b[38;5;241m6\u001b[39m, \u001b[38;5;241m7\u001b[39m, \u001b[38;5;241m3\u001b[39m, \u001b[38;5;241m9\u001b[39m]\n\u001b[1;32m----> 4\u001b[0m \u001b[38;5;28mprint\u001b[39m(\u001b[38;5;124m\"\u001b[39m\u001b[38;5;124mOriginal list is : \u001b[39m\u001b[38;5;124m\"\u001b[39m \u001b[38;5;241m+\u001b[39m \u001b[38;5;28;43mstr\u001b[39;49m\u001b[43m(\u001b[49m\u001b[43ma\u001b[49m\u001b[43m)\u001b[49m)\n\u001b[0;32m      6\u001b[0m i, j \u001b[38;5;241m=\u001b[39m \u001b[38;5;241m3\u001b[39m, \u001b[38;5;241m10\u001b[39m\n\u001b[0;32m      8\u001b[0m res \u001b[38;5;241m=\u001b[39m \u001b[38;5;28;01mTrue\u001b[39;00m\n",
      "\u001b[1;31mTypeError\u001b[0m: 'str' object is not callable"
     ]
    }
   ],
   "source": [
    "# 34\n",
    "a = [4, 5, 6, 7, 3, 9]\n",
    " \n",
    "print(\"Original list is : \" + str(a))\n",
    " \n",
    "i, j = 3, 10\n",
    " \n",
    "res = True\n",
    "for e in a:\n",
    "    if e < i or e >= j :\n",
    "        res = False\n",
    "        break\n",
    "\n",
    "print (\"Does list contain all elements in range : \" + str(res))"
   ]
  },
  {
   "cell_type": "code",
   "execution_count": 45,
   "id": "db8418bd",
   "metadata": {},
   "outputs": [
    {
     "name": "stdout",
     "output_type": "stream",
     "text": [
      "18\n",
      "9\n"
     ]
    }
   ],
   "source": [
    "# 35\n",
    "# creating the aay\n",
    "a = [18, 18, 18, 6, 3, 4, 9, 9, 9]\n",
    "l = len(a)\n",
    "for i in range(l - 2):\n",
    "    if a[i] == a[i + 1] and a[i + 1] == a[i + 2]:\n",
    "        print(a[i])"
   ]
  },
  {
   "cell_type": "code",
   "execution_count": 46,
   "id": "43039b3e",
   "metadata": {},
   "outputs": [
    {
     "ename": "TypeError",
     "evalue": "'int' object is not callable",
     "output_type": "error",
     "traceback": [
      "\u001b[1;31m---------------------------------------------------------------------------\u001b[0m",
      "\u001b[1;31mTypeError\u001b[0m                                 Traceback (most recent call last)",
      "Cell \u001b[1;32mIn[46], line 6\u001b[0m\n\u001b[0;32m      4\u001b[0m a2 \u001b[38;5;241m=\u001b[39m []\t\n\u001b[0;32m      5\u001b[0m \u001b[38;5;28;01mfor\u001b[39;00m i \u001b[38;5;129;01min\u001b[39;00m \u001b[38;5;28mrange\u001b[39m(\u001b[38;5;241m1\u001b[39m, n):\n\u001b[1;32m----> 6\u001b[0m     r \u001b[38;5;241m=\u001b[39m \u001b[38;5;28;43mmax\u001b[39;49m\u001b[43m(\u001b[49m\u001b[43ma1\u001b[49m\u001b[43m[\u001b[49m\u001b[43mi\u001b[49m\u001b[43m]\u001b[49m\u001b[43m,\u001b[49m\u001b[43m \u001b[49m\u001b[43ma1\u001b[49m\u001b[43m[\u001b[49m\u001b[43mi\u001b[49m\u001b[38;5;241;43m-\u001b[39;49m\u001b[38;5;241;43m1\u001b[39;49m\u001b[43m]\u001b[49m\u001b[43m)\u001b[49m\n\u001b[0;32m      7\u001b[0m     a2\u001b[38;5;241m.\u001b[39mappend(r)\n\u001b[0;32m      8\u001b[0m \u001b[38;5;28;01mfor\u001b[39;00m i \u001b[38;5;129;01min\u001b[39;00m a2 :\n",
      "\u001b[1;31mTypeError\u001b[0m: 'int' object is not callable"
     ]
    }
   ],
   "source": [
    "# 36\n",
    "n = 6\n",
    "a1 = [10,20,30,20,30,400]\n",
    "a2 = []\n",
    "for i in range(1, n):\n",
    "    r = max(a1[i], a1[i-1])\n",
    "    a2.append(r)\n",
    "for i in a2 :\n",
    "    print(i,end=\" \")"
   ]
  },
  {
   "cell_type": "code",
   "execution_count": 47,
   "id": "312fd2b2",
   "metadata": {},
   "outputs": [
    {
     "name": "stdout",
     "output_type": "stream",
     "text": [
      "1 2 3\n",
      "1 3 2\n",
      "2 1 3\n",
      "2 3 1\n",
      "3 1 2\n",
      "3 2 1\n"
     ]
    }
   ],
   "source": [
    "# 37\n",
    "a = [1, 2, 3]\n",
    "for i in range(3):\n",
    "    for j in range(3):\n",
    "        for k in range(3):\n",
    "            if (i!=j and j!=k and i!=k):\n",
    "                print(a[i], a[j], a[k])"
   ]
  },
  {
   "cell_type": "code",
   "execution_count": 81,
   "id": "186b4d20",
   "metadata": {},
   "outputs": [
    {
     "ename": "TypeError",
     "evalue": "'str' object is not callable",
     "output_type": "error",
     "traceback": [
      "\u001b[1;31m---------------------------------------------------------------------------\u001b[0m",
      "\u001b[1;31mTypeError\u001b[0m                                 Traceback (most recent call last)",
      "Cell \u001b[1;32mIn[81], line 3\u001b[0m\n\u001b[0;32m      1\u001b[0m \u001b[38;5;66;03m# 38\u001b[39;00m\n\u001b[0;32m      2\u001b[0m val \u001b[38;5;241m=\u001b[39m [\u001b[38;5;124m\"\u001b[39m\u001b[38;5;124mDPS Ruby\u001b[39m\u001b[38;5;124m\"\u001b[39m,[\u001b[38;5;124m\"\u001b[39m\u001b[38;5;124mSoftware\u001b[39m\u001b[38;5;124m\"\u001b[39m,\u001b[38;5;124m\"\u001b[39m\u001b[38;5;124mComputer\u001b[39m\u001b[38;5;124m\"\u001b[39m], [\u001b[38;5;124m\"\u001b[39m\u001b[38;5;124mSolution\u001b[39m\u001b[38;5;124m\"\u001b[39m, \u001b[38;5;124m\"\u001b[39m\u001b[38;5;124mEducation\u001b[39m\u001b[38;5;124m\"\u001b[39m]]\n\u001b[1;32m----> 3\u001b[0m \u001b[38;5;28mprint\u001b[39m(\u001b[38;5;124m\"\u001b[39m\u001b[38;5;124mOriginal List : \u001b[39m\u001b[38;5;124m\"\u001b[39m \u001b[38;5;241m+\u001b[39m \u001b[38;5;28;43mstr\u001b[39;49m\u001b[43m(\u001b[49m\u001b[43mval\u001b[49m\u001b[43m)\u001b[49m)\n\u001b[0;32m      4\u001b[0m a \u001b[38;5;241m=\u001b[39m \u001b[38;5;241m2\u001b[39m\n\u001b[0;32m      5\u001b[0m l \u001b[38;5;241m=\u001b[39m []\n",
      "\u001b[1;31mTypeError\u001b[0m: 'str' object is not callable"
     ]
    }
   ],
   "source": [
    "# 38\n",
    "val = [\"DPS Ruby\",[\"Software\",\"Computer\"], [\"Solution\", \"Education\"]]\n",
    "print(\"Original List : \" + str(val))\n",
    "a = 2\n",
    "l = []\n",
    "c = 0\n",
    "\n",
    "while c <= a - 1:\n",
    "    t = []\n",
    "    for i in val:\n",
    "        if not isinstance(i, list):\n",
    "            t.append(i)\n",
    "        else:\n",
    "            t.append(i[c])\n",
    "    c += 1\n",
    "    l.append(t)\n",
    "\n",
    "print(\"\\nIndex Combinations : \" + str(l))"
   ]
  },
  {
   "cell_type": "code",
   "execution_count": 49,
   "id": "8e7766f2",
   "metadata": {},
   "outputs": [
    {
     "name": "stdout",
     "output_type": "stream",
     "text": [
      "[[('A', 1), ('B', 2), ('C', 3)], [('A', 1), ('C', 2), ('B', 3)], [('B', 1), ('A', 2), ('C', 3)], [('B', 1), ('C', 2), ('A', 3)], [('C', 1), ('A', 2), ('B', 3)], [('C', 1), ('B', 2), ('A', 3)]]\n"
     ]
    }
   ],
   "source": [
    "# 39\n",
    "import itertools\n",
    "from itertools import permutations\n",
    "l1 = ['A','B','C']\n",
    "l2 = [1,2,3]\n",
    "unique = []\n",
    "permut = itertools.permutations(l1, len(l2))\n",
    "for comb in permut:\n",
    "    zipped = zip(comb, l2)\n",
    "    unique.append(list(zipped))\n",
    "\n",
    "print(unique)"
   ]
  },
  {
   "cell_type": "code",
   "execution_count": 80,
   "id": "b10d2351",
   "metadata": {},
   "outputs": [
    {
     "name": "stdout",
     "output_type": "stream",
     "text": [
      "Original list : [1, 3, 4, 6, 5, 1]\n",
      "Remove operation : [3, 4, 6, 5]\n"
     ]
    }
   ],
   "source": [
    "# 40\n",
    "val = [1, 3, 4, 6, 5, 1]\n",
    "a = 1\n",
    "print (\"Original list :\" ,val)\n",
    "\n",
    "c = val.count(a)\n",
    "for i in range(c):\n",
    "    val.remove(a)\n",
    "    \n",
    "print (\"Remove operation :\" , val)"
   ]
  },
  {
   "cell_type": "markdown",
   "id": "ba241c04",
   "metadata": {},
   "source": [
    "# SET - 05"
   ]
  },
  {
   "cell_type": "markdown",
   "id": "feb66ec1",
   "metadata": {},
   "source": [
    "### 41. WAPP to Remove Consecutive K element records\n",
    "**Input**: <br>\n",
    "[ ('A', 'B', 'C', 'D'), ('B', 'C', 'C', 'I'), ('H', 'D', 'B', 'C'), ('C', 'C', 'G', 'F') ]\n",
    "\n",
    "**Output**: <br>\n",
    "[ ('A', 'B', 'C', 'D'), ('H', 'D', 'B', 'C') ]"
   ]
  },
  {
   "cell_type": "markdown",
   "id": "276f17ad",
   "metadata": {},
   "source": [
    "### 42. WAPP to Replace index elements with elements in Other List\n",
    "**Input**: <br>\n",
    "[['DPS Ruby', 'Computer', 'Education']\n",
    "\n",
    "[2, 1, 0, 1, 0, 2, 2, 0, 1, 0, 1, 2]\n",
    "\n",
    "**Output**: <br>\n",
    "['Education', 'Computer', 'DPS Ruby', 'Computer', 'DPS Ruby', 'Education', 'Education', 'DPS Ruby', 'Computer', 'DPS Ruby', 'Computer', 'Education']"
   ]
  },
  {
   "cell_type": "markdown",
   "id": "a523480c",
   "metadata": {},
   "source": [
    "### 43. WAPP to Retain records with N occurrences of K\n",
    "**Input**: <br>\n",
    "[ (4, 5, 6, 5, 4), (4, 5, 3), (5, 5, 2), (3, 4, 9) ]\n",
    "\n",
    "K = 5\n",
    "\n",
    "N = 2\n",
    "\n",
    "**Output**: <br>\n",
    "[ (4, 5, 6, 5, 4), (5, 5, 2) ]"
   ]
  },
  {
   "cell_type": "markdown",
   "id": "f0b502c2",
   "metadata": {},
   "source": [
    "### 44. WAPP to Swap elements in String list\n",
    "**Input**: <br>\n",
    "['DPS', 'Ruby', 'Computer', 'Education']\n",
    "\n",
    "**Output**: <br>\n",
    "['DPS', \"Ruby\", 'Software', 'Solutions']"
   ]
  },
  {
   "cell_type": "markdown",
   "id": "f61cd88f",
   "metadata": {},
   "source": [
    "### 45. WAPP to reverse All Strings in String List\n",
    "**Input**: <br>\n",
    "Original list :  ['DPS', 'ruby', 'Computer', 'Education']\n",
    "\n",
    "**Output**: <br>\n",
    "Reversed list :  ['SPD', 'ybur', 'retupmoC', 'noitacudE']"
   ]
  },
  {
   "cell_type": "markdown",
   "id": "118eef36",
   "metadata": {},
   "source": [
    "### 46. WAPP to find the character position of Kth word from a list of strings\n",
    "**Input**: <br>\n",
    "['DPS', 'ruby', 'Computer', 'Education']\n",
    "\n",
    "K = 20\n",
    "\n",
    "**Output**: <br>\n",
    "Index of character at Kth position word : 5"
   ]
  },
  {
   "cell_type": "markdown",
   "id": "b5b9b3b4",
   "metadata": {},
   "source": [
    "### 47. WAPP to Prefix frequency in string List\n",
    "**Input**: <br>\n",
    "['TjC', 'TjCpp', 'TjPython', 'Java']\n",
    "\n",
    "Prefix = 'Tj'\n",
    "\n",
    "**Output**: <br>\n",
    "Strings count with matching frequency : 3"
   ]
  },
  {
   "cell_type": "markdown",
   "id": "d7a8a99e",
   "metadata": {},
   "source": [
    "### 48. WAPP to Split Strings on Prefix Occurrence\n",
    "**Input**: <br>\n",
    "['TjC', 'TjCpp', 'TjPython', 'Java', 'tj']\n",
    "\n",
    "Prefix = 'Tj'\n",
    "\n",
    "**Output**: <br>\n",
    "[ ['TjC'], ['TjCpp'], ['TjPython', 'Java', 'tj'] ]"
   ]
  },
  {
   "cell_type": "markdown",
   "id": "6688b726",
   "metadata": {},
   "source": [
    "### 49. WAPP to Replace all Characters of a List Except the given character\n",
    "**Input**: <br>\n",
    "['P', 'Y', 'T', 'H', 'O', 'N']\n",
    "\n",
    "**Output**: <br>\n",
    "['@', '@', 'T', '@', '@', '@']"
   ]
  },
  {
   "cell_type": "markdown",
   "id": "1c8ccb9d",
   "metadata": {},
   "source": [
    "### 50. WAPP to Add Space between Potential Words\n",
    "**Input**: <br>\n",
    "['DPSRuby', 'ComputerEducations']\n",
    "\n",
    "**Output**: <br>\n",
    "[' D P S Ruby', ' Computer Educations']"
   ]
  },
  {
   "cell_type": "markdown",
   "id": "a247ada7",
   "metadata": {},
   "source": [
    "# SOLUTION -- SET 05"
   ]
  },
  {
   "cell_type": "code",
   "execution_count": 48,
   "id": "2ed63023",
   "metadata": {},
   "outputs": [
    {
     "ename": "TypeError",
     "evalue": "'str' object is not callable",
     "output_type": "error",
     "traceback": [
      "\u001b[1;31m---------------------------------------------------------------------------\u001b[0m",
      "\u001b[1;31mTypeError\u001b[0m                                 Traceback (most recent call last)",
      "Cell \u001b[1;32mIn[48], line 3\u001b[0m\n\u001b[0;32m      1\u001b[0m \u001b[38;5;66;03m# 41\u001b[39;00m\n\u001b[0;32m      2\u001b[0m val \u001b[38;5;241m=\u001b[39m [(\u001b[38;5;124m'\u001b[39m\u001b[38;5;124mA\u001b[39m\u001b[38;5;124m'\u001b[39m, \u001b[38;5;124m'\u001b[39m\u001b[38;5;124mB\u001b[39m\u001b[38;5;124m'\u001b[39m, \u001b[38;5;124m'\u001b[39m\u001b[38;5;124mC\u001b[39m\u001b[38;5;124m'\u001b[39m, \u001b[38;5;124m'\u001b[39m\u001b[38;5;124mD\u001b[39m\u001b[38;5;124m'\u001b[39m), (\u001b[38;5;124m'\u001b[39m\u001b[38;5;124mB\u001b[39m\u001b[38;5;124m'\u001b[39m, \u001b[38;5;124m'\u001b[39m\u001b[38;5;124mC\u001b[39m\u001b[38;5;124m'\u001b[39m, \u001b[38;5;124m'\u001b[39m\u001b[38;5;124mC\u001b[39m\u001b[38;5;124m'\u001b[39m, \u001b[38;5;124m'\u001b[39m\u001b[38;5;124mI\u001b[39m\u001b[38;5;124m'\u001b[39m), (\u001b[38;5;124m'\u001b[39m\u001b[38;5;124mH\u001b[39m\u001b[38;5;124m'\u001b[39m, \u001b[38;5;124m'\u001b[39m\u001b[38;5;124mD\u001b[39m\u001b[38;5;124m'\u001b[39m, \u001b[38;5;124m'\u001b[39m\u001b[38;5;124mB\u001b[39m\u001b[38;5;124m'\u001b[39m, \u001b[38;5;124m'\u001b[39m\u001b[38;5;124mC\u001b[39m\u001b[38;5;124m'\u001b[39m), (\u001b[38;5;124m'\u001b[39m\u001b[38;5;124mC\u001b[39m\u001b[38;5;124m'\u001b[39m, \u001b[38;5;124m'\u001b[39m\u001b[38;5;124mC\u001b[39m\u001b[38;5;124m'\u001b[39m, \u001b[38;5;124m'\u001b[39m\u001b[38;5;124mG\u001b[39m\u001b[38;5;124m'\u001b[39m, \u001b[38;5;124m'\u001b[39m\u001b[38;5;124mF\u001b[39m\u001b[38;5;124m'\u001b[39m)]\n\u001b[1;32m----> 3\u001b[0m \u001b[38;5;28mprint\u001b[39m(\u001b[38;5;124m\"\u001b[39m\u001b[38;5;124mOriginal List : \u001b[39m\u001b[38;5;124m\"\u001b[39m \u001b[38;5;241m+\u001b[39m \u001b[38;5;28;43mstr\u001b[39;49m\u001b[43m(\u001b[49m\u001b[43mval\u001b[49m\u001b[43m)\u001b[49m)\n\u001b[0;32m      4\u001b[0m K \u001b[38;5;241m=\u001b[39m \u001b[38;5;124m'\u001b[39m\u001b[38;5;124mC\u001b[39m\u001b[38;5;124m'\u001b[39m\n\u001b[0;32m      5\u001b[0m res \u001b[38;5;241m=\u001b[39m [i \u001b[38;5;28;01mfor\u001b[39;00m i \u001b[38;5;129;01min\u001b[39;00m val \u001b[38;5;28;01mif\u001b[39;00m \u001b[38;5;129;01mnot\u001b[39;00m \u001b[38;5;28many\u001b[39m(i[j] \u001b[38;5;241m==\u001b[39m K \u001b[38;5;129;01mand\u001b[39;00m i[j \u001b[38;5;241m+\u001b[39m \u001b[38;5;241m1\u001b[39m] \u001b[38;5;241m==\u001b[39m K \u001b[38;5;28;01mfor\u001b[39;00m j \u001b[38;5;129;01min\u001b[39;00m \u001b[38;5;28mrange\u001b[39m(\u001b[38;5;28mlen\u001b[39m(i) \u001b[38;5;241m-\u001b[39m \u001b[38;5;241m1\u001b[39m))]\n",
      "\u001b[1;31mTypeError\u001b[0m: 'str' object is not callable"
     ]
    }
   ],
   "source": [
    "# 41\n",
    "val = [('A', 'B', 'C', 'D'), ('B', 'C', 'C', 'I'), ('H', 'D', 'B', 'C'), ('C', 'C', 'G', 'F')]\n",
    "print(\"Original List : \" + str(val))\n",
    "K = 'C'\n",
    "res = [i for i in val if not any(i[j] == K and i[j + 1] == K for j in range(len(i) - 1))]\n",
    " \n",
    "print(\"After Removal : \" , res)"
   ]
  },
  {
   "cell_type": "code",
   "execution_count": 49,
   "id": "3d8515aa",
   "metadata": {},
   "outputs": [
    {
     "name": "stdout",
     "output_type": "stream",
     "text": [
      "List 1 :  ['DPS', 'Computer', 'Education']\n",
      "List 2 :  [2, 1, 0, 1, 0, 2, 2, 0, 1, 0, 1, 2]\n",
      "After Index Elements Replacements is :  ['Education', 'Computer', 'DPS', 'Computer', 'DPS', 'Education', 'Education', 'DPS', 'Computer', 'DPS', 'Computer', 'Education']\n"
     ]
    }
   ],
   "source": [
    "# 42\n",
    "a = ['DPS', 'Computer', 'Education']\n",
    "b = [2 ,1 ,0 ,1 ,0 ,2 ,2 ,0 ,1 ,0 ,1 ,2]\n",
    "print(\"List 1 : \" , a)\n",
    "print(\"List 2 : \" , b)\n",
    "res = [a[i] for i in b]\n",
    " \n",
    "print (\"After Index Elements Replacements is : \" ,res)"
   ]
  },
  {
   "cell_type": "code",
   "execution_count": 53,
   "id": "293e2690",
   "metadata": {},
   "outputs": [
    {
     "name": "stdout",
     "output_type": "stream",
     "text": [
      "[(4, 5, 6, 5, 4), (4, 5, 3), (5, 5, 2), (3, 4, 9)]\n",
      "[(4, 5, 6, 5, 4), (5, 5, 2)]\n"
     ]
    }
   ],
   "source": [
    "# 43\n",
    "val = [(4, 5, 6, 5, 4), (4, 5, 3), (5, 5, 2), (3, 4, 9)]\n",
    "print(val)\n",
    "K = 5\n",
    "N = 2\n",
    "res = [e for e in val if e.count(K) == N]\n",
    " \n",
    "print(res)"
   ]
  },
  {
   "cell_type": "code",
   "execution_count": 52,
   "id": "ef1d229f",
   "metadata": {},
   "outputs": [
    {
     "name": "stdout",
     "output_type": "stream",
     "text": [
      "Before Swap : ['DPS', 'ruby', 'Computer', 'Education']\n",
      "After Swap :  ['DPS', 'Ruby', 'Software', 'Solutions']\n"
     ]
    }
   ],
   "source": [
    "# 44\n",
    "s = [\"DPS\",\"ruby\",\"Computer\",\"Education\"]\n",
    " \n",
    "print(\"Before Swap :\",s)\n",
    " \n",
    "res = [sub.replace(\"ruby\",\"Ruby\").replace(\"Computer\", \"Software\").replace(\"Education\", \"Solutions\") for sub in s]\n",
    " \n",
    "print (\"After Swap : \",res)"
   ]
  },
  {
   "cell_type": "code",
   "execution_count": 55,
   "id": "815ee143",
   "metadata": {},
   "outputs": [
    {
     "name": "stdout",
     "output_type": "stream",
     "text": [
      "Before Swap : ['DPS', 'ruby', 'Computer', 'Education']\n",
      "After Swap :  ['DPS', 'Ruby', 'Software', 'Solutions']\n"
     ]
    }
   ],
   "source": [
    "# 44 <-- Alternate Solution\n",
    "s = [\"DPS\",\"ruby\",\"Computer\",\"Education\"]\n",
    " \n",
    "print(\"Before Swap :\",s)\n",
    "\n",
    "res = []\n",
    "for i in s:\n",
    "    res.append(i.replace(\"ruby\",\"Ruby\").replace(\"Computer\", \"Software\").replace(\"Education\", \"Solutions\"))\n",
    "\n",
    "print (\"After Swap : \",res)"
   ]
  },
  {
   "cell_type": "code",
   "execution_count": 58,
   "id": "3b89fafd",
   "metadata": {},
   "outputs": [
    {
     "name": "stdout",
     "output_type": "stream",
     "text": [
      "Original list :  ['DPS', 'ruby', 'Computer', 'Education']\n",
      "Reversed list :  ['SPD', 'ybur', 'retupmoC', 'noitacudE']\n"
     ]
    }
   ],
   "source": [
    "# 45\n",
    "val = [\"DPS\",\"ruby\",\"Computer\",\"Education\"]\n",
    "print (\"Original list : \", val)\n",
    " \n",
    "#First Methods\n",
    " \n",
    "res = [i[::-1] for i in val]\n",
    "print (\"Reversed list : \" , res)"
   ]
  },
  {
   "cell_type": "code",
   "execution_count": 57,
   "id": "f1a97e38",
   "metadata": {},
   "outputs": [
    {
     "name": "stdout",
     "output_type": "stream",
     "text": [
      "Original list :  ['DPS', 'ruby', 'Computer', 'Education']\n",
      "Reversed list :  ['Education', 'Computer', 'ruby', 'DPS']\n"
     ]
    }
   ],
   "source": [
    "# 45 <- ALTERNATE SOLUTION\n",
    "# Second Methods\n",
    "val = [\"DPS\",\"ruby\",\"Computer\",\"Education\"]\n",
    "print (\"Original list : \", val)\n",
    "print(\"Reversed list : \" ,val[::-1])"
   ]
  },
  {
   "cell_type": "code",
   "execution_count": 59,
   "id": "98a6a529",
   "metadata": {},
   "outputs": [
    {
     "name": "stdout",
     "output_type": "stream",
     "text": [
      "The original list is :  ['DPS', 'ruby', 'Computer', 'Education']\n"
     ]
    },
    {
     "ename": "TypeError",
     "evalue": "'str' object is not callable",
     "output_type": "error",
     "traceback": [
      "\u001b[1;31m---------------------------------------------------------------------------\u001b[0m",
      "\u001b[1;31mTypeError\u001b[0m                                 Traceback (most recent call last)",
      "Cell \u001b[1;32mIn[59], line 7\u001b[0m\n\u001b[0;32m      5\u001b[0m res \u001b[38;5;241m=\u001b[39m [i[\u001b[38;5;241m0\u001b[39m] \u001b[38;5;28;01mfor\u001b[39;00m sub \u001b[38;5;129;01min\u001b[39;00m \u001b[38;5;28menumerate\u001b[39m(val) \u001b[38;5;28;01mfor\u001b[39;00m i \u001b[38;5;129;01min\u001b[39;00m \u001b[38;5;28menumerate\u001b[39m(sub[\u001b[38;5;241m1\u001b[39m])]\n\u001b[0;32m      6\u001b[0m res \u001b[38;5;241m=\u001b[39m res[K]\n\u001b[1;32m----> 7\u001b[0m \u001b[38;5;28mprint\u001b[39m(\u001b[38;5;124m\"\u001b[39m\u001b[38;5;124mIndex of character at Kth position word : \u001b[39m\u001b[38;5;124m\"\u001b[39m \u001b[38;5;241m+\u001b[39m \u001b[38;5;28;43mstr\u001b[39;49m\u001b[43m(\u001b[49m\u001b[43mres\u001b[49m\u001b[43m)\u001b[49m)\n",
      "\u001b[1;31mTypeError\u001b[0m: 'str' object is not callable"
     ]
    }
   ],
   "source": [
    "# 46\n",
    "val = [\"DPS\",\"ruby\",\"Computer\",\"Education\"]\n",
    "print(\"The original list is : \" ,val)\n",
    "K = 20\n",
    "res = [i[0] for sub in enumerate(val) for i in enumerate(sub[1])]\n",
    "res = res[K]\n",
    "print(\"Index of character at Kth position word : \" + str(res))"
   ]
  },
  {
   "cell_type": "code",
   "execution_count": 57,
   "id": "93f189a0",
   "metadata": {},
   "outputs": [
    {
     "name": "stdout",
     "output_type": "stream",
     "text": [
      "Original List :  ['TjC', 'TjCpp', 'TjPython', 'Java']\n",
      "Strings count with matching frequency :  3\n"
     ]
    }
   ],
   "source": [
    "# 47\n",
    "val = [\"TjC\",\"TjCpp\",\"TjPython\",\"Java\"]\n",
    "print(\"Original List : \",val)\n",
    "sub = 'Tj'\n",
    "res = 0\n",
    "for e in val:\n",
    "    if e.startswith(sub):\n",
    "        res = res + 1\n",
    "print (\"Strings count with matching frequency : \",res)"
   ]
  },
  {
   "cell_type": "code",
   "execution_count": 60,
   "id": "beb10f3e",
   "metadata": {},
   "outputs": [
    {
     "name": "stdout",
     "output_type": "stream",
     "text": [
      "The original list is :  ['TjC', 'TjCpp', 'TjPython', 'Java', 'tj']\n"
     ]
    },
    {
     "ename": "TypeError",
     "evalue": "'str' object is not callable",
     "output_type": "error",
     "traceback": [
      "\u001b[1;31m---------------------------------------------------------------------------\u001b[0m",
      "\u001b[1;31mTypeError\u001b[0m                                 Traceback (most recent call last)",
      "Cell \u001b[1;32mIn[60], line 11\u001b[0m\n\u001b[0;32m      9\u001b[0m     \u001b[38;5;28;01melse\u001b[39;00m:\n\u001b[0;32m     10\u001b[0m         res[\u001b[38;5;241m-\u001b[39m\u001b[38;5;241m1\u001b[39m]\u001b[38;5;241m.\u001b[39mappend(val)\n\u001b[1;32m---> 11\u001b[0m \u001b[38;5;28mprint\u001b[39m(\u001b[38;5;124m\"\u001b[39m\u001b[38;5;124mPrefix Split List : \u001b[39m\u001b[38;5;124m\"\u001b[39m \u001b[38;5;241m+\u001b[39m \u001b[38;5;28;43mstr\u001b[39;49m\u001b[43m(\u001b[49m\u001b[43mres\u001b[49m\u001b[43m)\u001b[49m)\n",
      "\u001b[1;31mTypeError\u001b[0m: 'str' object is not callable"
     ]
    }
   ],
   "source": [
    "# 49\n",
    "l = [\"TjC\",\"TjCpp\",\"TjPython\",\"Java\",\"tj\"]\n",
    "print(\"The original list is : \",l)\n",
    "pref = \"Tj\"\n",
    " \n",
    "res = []\n",
    "for val in l:\n",
    "    if val.startswith(pref):\n",
    "        res.append([val])\n",
    "    else:\n",
    "        res[-1].append(val)\n",
    "print(\"Prefix Split List : \" + str(res))"
   ]
  },
  {
   "cell_type": "code",
   "execution_count": 59,
   "id": "033ce6ff",
   "metadata": {},
   "outputs": [
    {
     "ename": "TypeError",
     "evalue": "'str' object is not callable",
     "output_type": "error",
     "traceback": [
      "\u001b[1;31m---------------------------------------------------------------------------\u001b[0m",
      "\u001b[1;31mTypeError\u001b[0m                                 Traceback (most recent call last)",
      "Cell \u001b[1;32mIn[59], line 3\u001b[0m\n\u001b[0;32m      1\u001b[0m \u001b[38;5;66;03m# 49\u001b[39;00m\n\u001b[0;32m      2\u001b[0m val \u001b[38;5;241m=\u001b[39m [\u001b[38;5;124m'\u001b[39m\u001b[38;5;124mP\u001b[39m\u001b[38;5;124m'\u001b[39m, \u001b[38;5;124m'\u001b[39m\u001b[38;5;124mY\u001b[39m\u001b[38;5;124m'\u001b[39m, \u001b[38;5;124m'\u001b[39m\u001b[38;5;124mT\u001b[39m\u001b[38;5;124m'\u001b[39m, \u001b[38;5;124m'\u001b[39m\u001b[38;5;124mH\u001b[39m\u001b[38;5;124m'\u001b[39m, \u001b[38;5;124m'\u001b[39m\u001b[38;5;124mO\u001b[39m\u001b[38;5;124m'\u001b[39m, \u001b[38;5;124m'\u001b[39m\u001b[38;5;124mN\u001b[39m\u001b[38;5;124m'\u001b[39m]\n\u001b[1;32m----> 3\u001b[0m \u001b[38;5;28mprint\u001b[39m(\u001b[38;5;124m\"\u001b[39m\u001b[38;5;124mThe original list : \u001b[39m\u001b[38;5;124m\"\u001b[39m \u001b[38;5;241m+\u001b[39m \u001b[38;5;28;43mstr\u001b[39;49m\u001b[43m(\u001b[49m\u001b[43mval\u001b[49m\u001b[43m)\u001b[49m)\n\u001b[0;32m      5\u001b[0m res \u001b[38;5;241m=\u001b[39m [i \u001b[38;5;28;01mif\u001b[39;00m i \u001b[38;5;241m==\u001b[39m \u001b[38;5;124m'\u001b[39m\u001b[38;5;124mT\u001b[39m\u001b[38;5;124m'\u001b[39m \u001b[38;5;28;01melse\u001b[39;00m \u001b[38;5;124m'\u001b[39m\u001b[38;5;124m@\u001b[39m\u001b[38;5;124m'\u001b[39m \u001b[38;5;28;01mfor\u001b[39;00m i \u001b[38;5;129;01min\u001b[39;00m val]\n\u001b[0;32m      6\u001b[0m \u001b[38;5;28mprint\u001b[39m(\u001b[38;5;124m\"\u001b[39m\u001b[38;5;124mList after replacement : \u001b[39m\u001b[38;5;124m\"\u001b[39m \u001b[38;5;241m+\u001b[39m \u001b[38;5;28mstr\u001b[39m(res))\n",
      "\u001b[1;31mTypeError\u001b[0m: 'str' object is not callable"
     ]
    }
   ],
   "source": [
    "# 49\n",
    "val = ['P', 'Y', 'T', 'H', 'O', 'N']\n",
    "print(\"The original list : \" + str(val))\n",
    " \n",
    "res = [i if i == 'T' else '@' for i in val]\n",
    "print(\"List after replacement : \" + str(res))"
   ]
  },
  {
   "cell_type": "code",
   "execution_count": 62,
   "id": "94fb80fe",
   "metadata": {},
   "outputs": [
    {
     "name": "stdout",
     "output_type": "stream",
     "text": [
      "Original list :  ['DPSRuby', 'ComputerEducations']\n",
      "The space added list of strings :  [' D P S Ruby', ' Computer Educations']\n"
     ]
    }
   ],
   "source": [
    "# 50\n",
    "val = [\"DPSRuby\", \"ComputerEducations\"]\n",
    "print(\"Original list : \" ,val)\n",
    " \n",
    "res = []\n",
    "for i in val:\n",
    "    t = [[]]\n",
    "    for ch in i:\n",
    "        if ch.isupper():\n",
    "            t.append([])\n",
    "        t[-1].append(ch)\n",
    "    res.append(' '.join(''.join(i) for i in t))\n",
    "\n",
    "print(\"The space added list of strings : \" , res)"
   ]
  },
  {
   "cell_type": "markdown",
   "id": "1b49346f",
   "metadata": {},
   "source": [
    "## THANK YOU FOR SOLVING 50 QUESTIONS 😁"
   ]
  }
 ],
 "metadata": {
  "kernelspec": {
   "display_name": "Python 3 (ipykernel)",
   "language": "python",
   "name": "python3"
  },
  "language_info": {
   "codemirror_mode": {
    "name": "ipython",
    "version": 3
   },
   "file_extension": ".py",
   "mimetype": "text/x-python",
   "name": "python",
   "nbconvert_exporter": "python",
   "pygments_lexer": "ipython3",
   "version": "3.11.0"
  }
 },
 "nbformat": 4,
 "nbformat_minor": 5
}
