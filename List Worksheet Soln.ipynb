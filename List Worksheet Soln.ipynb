{
 "cells": [
  {
   "cell_type": "markdown",
   "id": "47611c8d",
   "metadata": {},
   "source": [
    "# Objective Type Questions\n",
    "\n",
    "1. (a), (b) <br>\n",
    "2. (b), (c)  \n",
    "3. (d)  \n",
    "4. (d) [30,40,50]  \n",
    "5. (c) [40,50,60]  \n",
    "6. (d) [50,60,70]  \n",
    "7. (c) [0,1,2]  \n",
    "8. (a) ['h', 'e', 'l', 'l', 'o']  \n",
    "9. None of the option is correct. Output is 'a'  \n",
    "10. (d) len()  \n",
    "11. (d) sorted()  \n",
    "12. (c) index()  "
   ]
  },
  {
   "cell_type": "markdown",
   "id": "f2100b39",
   "metadata": {},
   "source": [
    "# Fill in the blanks\n",
    "1. mutable  \n",
    "2. list()  \n",
    "3. `+`  \n",
    "4. `*`  \n",
    "5. in  \n",
    "6. del  \n",
    "7.   \n",
    "8. insert()  \n",
    "9. del  \n",
    "10. extend()  \n",
    "11. sort()  \n",
    "12. sorted()  "
   ]
  },
  {
   "cell_type": "markdown",
   "id": "b0dc6af4",
   "metadata": {},
   "source": [
    "# True/False Questions\n",
    "1. False  \n",
    "2. False  \n",
    "3. True  \n",
    "4. False  \n",
    "5. True  \n",
    "6. False  \n",
    "7. False  \n",
    "8. True  \n",
    "9. False  \n",
    "10. False  "
   ]
  },
  {
   "cell_type": "markdown",
   "id": "21f06509",
   "metadata": {},
   "source": [
    "# Assertion & Reasoning Question\n",
    "\n",
    "1.   \n",
    "2. \n",
    "3.  \n",
    "4.   \n",
    "5.  "
   ]
  },
  {
   "cell_type": "markdown",
   "id": "69181ec7",
   "metadata": {},
   "source": [
    "# Answer the following"
   ]
  },
  {
   "cell_type": "markdown",
   "id": "fffdeb03",
   "metadata": {},
   "source": [
    "1. The lists and strings are different in following ways :  \n",
    " a. The lists are mutable sequences while strings are immutable.  \n",
    " b. Strings store single type of elements all characters while lists can store elements belonging to different types.   \n",
    " c. In consecutive locations strings store the individual characters while list stores the references of its elements.\n",
    "\n",
    "<hr>\n",
    " \n",
    " 2. (a) List.remove(<element>)  \n",
    "    (b) del list[2]  \n",
    "    (c) List.append(<element>)  \n",
    "    (d) List.extend(<element>)  \n",
    "    \n",
    "<hr>\n",
    "3. The sort() function returns nothing and changes the original sequence, while the sorted() function creates a new sequence type containing a sorted version of the given sequence.\n",
    "\n",
    "For details: https://www.scaler.com/topics/difference-between-sort-and-sorted-in-python/\n",
    "    \n",
    "<hr>\n",
    "4. \n",
    "(a) [10, 12, 26, 32, 65, 80]  \n",
    "    \n",
    "(b)   \n",
    "[12, 32, 65, 26, 80, 10]  \n",
    "[10, 12, 26, 32, 65, 80]\n",
    "    \n",
    "(c)   \n",
    "[10, 8, 6, 4, 2]  \n",
    "[1, 2, 3, 4, 5, 6, 7, 8, 9, 10]  \n",
    "    \n",
    "(d) 5  \n",
    "<hr>\n",
    "    \n",
    "5.   \n",
    "False  \n",
    "[9, 7, 5, 3, 1]  \n",
    "<hr>\n",
    "\n",
    "6.   \n",
    "['p', 'r', 'b', 'l', 'e', 'm']  \n",
    "['p', 'r', 'm']  \n",
    "<hr>\n",
    "    \n",
    "7.\n",
    "1  \n",
    "2  \n",
    "[13, 18, 11, 16, 13, 18, 13, 3]  \n",
    "<hr>\n",
    "    \n",
    "8. \n",
    "4  \n",
    "10\n",
    "<hr>\n",
    "    \n",
    "9.\n",
    "No, the output is not same. \n",
    "True\n",
    "False\n",
    "Because is operator returns false of id() values are different and true if they are same.\n",
    "<hr>\n",
    "    \n",
    "10. \n",
    "(a) https://www.scaler.com/topics/extend-vs-append-python/  \n",
    "(b) https://www.geeksforgeeks.org/what-is-difference-between-del-remove-and-pop-on-python-lists/  \n",
    "(c) \n",
    "   "
   ]
  },
  {
   "cell_type": "markdown",
   "id": "ac48c8dc",
   "metadata": {},
   "source": [
    "# Case Study Based Questions\n",
    "\n",
    "1. (a) r  \n",
    "(b) q  \n",
    "(c) s  \n",
    "(d) p  \n",
    "\n",
    "2. (a) None  \n",
    "(b) ['e', 'i', 'o', 12, 13, 14]  \n",
    "(c) ['a', 'o', 'u', 12, 13, 14]  \n",
    "(d) True  "
   ]
  },
  {
   "cell_type": "markdown",
   "id": "a4d475ba",
   "metadata": {},
   "source": [
    "# Programming Assignment"
   ]
  },
  {
   "cell_type": "code",
   "execution_count": 34,
   "id": "cb2ccac7",
   "metadata": {},
   "outputs": [
    {
     "name": "stdout",
     "output_type": "stream",
     "text": [
      "Enter a list of integers: [1,2,3,4,5]\n",
      "Product of integers are:  120\n"
     ]
    }
   ],
   "source": [
    "# 01\n",
    "l = eval(input(\"Enter a list of integers: \"))\n",
    "p = 1\n",
    "for i in l:\n",
    "    p *= i\n",
    "    \n",
    "print(\"Product of integers are: \", p)"
   ]
  },
  {
   "cell_type": "code",
   "execution_count": 35,
   "id": "89fcbe48",
   "metadata": {},
   "outputs": [
    {
     "name": "stdout",
     "output_type": "stream",
     "text": [
      "Enter a list of integers: [1,2,3,4]\n",
      "Sum of even numbers are:  6\n",
      "Sum of odd numbers are:  4\n"
     ]
    }
   ],
   "source": [
    "# 02\n",
    "l = eval(input(\"Enter a list of integers: \"))\n",
    "s_e, s_o = 0,0\n",
    "for i in l:\n",
    "    if i%2 == 0:\n",
    "        s_e += i\n",
    "    else:\n",
    "        s_o += i\n",
    "\n",
    "print(\"Sum of even numbers are: \", s_e)\n",
    "print(\"Sum of odd numbers are: \", s_o)"
   ]
  },
  {
   "cell_type": "code",
   "execution_count": 42,
   "id": "3d2cd0e6",
   "metadata": {},
   "outputs": [],
   "source": [
    "# 03\n"
   ]
  },
  {
   "cell_type": "code",
   "execution_count": 43,
   "id": "ff8bbf3d",
   "metadata": {},
   "outputs": [],
   "source": [
    "# 04"
   ]
  },
  {
   "cell_type": "code",
   "execution_count": 44,
   "id": "19a0c3e0",
   "metadata": {},
   "outputs": [],
   "source": [
    "# 05"
   ]
  }
 ],
 "metadata": {
  "kernelspec": {
   "display_name": "Python 3 (ipykernel)",
   "language": "python",
   "name": "python3"
  },
  "language_info": {
   "codemirror_mode": {
    "name": "ipython",
    "version": 3
   },
   "file_extension": ".py",
   "mimetype": "text/x-python",
   "name": "python",
   "nbconvert_exporter": "python",
   "pygments_lexer": "ipython3",
   "version": "3.11.0"
  }
 },
 "nbformat": 4,
 "nbformat_minor": 5
}
