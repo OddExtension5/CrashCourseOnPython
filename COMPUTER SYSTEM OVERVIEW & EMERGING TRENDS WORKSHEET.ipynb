{
 "cells": [
  {
   "cell_type": "markdown",
   "id": "38c6bca7",
   "metadata": {},
   "source": [
    "## COMPUTER SYSTEM OVERVIEW & EMERGING TRENDS"
   ]
  },
  {
   "cell_type": "markdown",
   "id": "5ee1b14c",
   "metadata": {},
   "source": [
    "### MCQ\n",
    "\n",
    "```python\n",
    "\n",
    "1. (b) RAM\n",
    "2. (b) ALU\n",
    "3. Terabyte, Gigabyte\n",
    "4. Utility Software/ Application Software\n",
    "5. (c) Secondary\n",
    "6. (c) System Software\n",
    "7. (d) Cryptography\n",
    "8. (a) Google Drive\n",
    "9. (d) DaaS\n",
    "10.\n",
    "11. (b) hash code\n",
    "12. (a) Remotely controllable \n",
    "\n",
    "```\n",
    "\n",
    "### FILL IN THE BLANKS\n",
    "\n",
    "```python\n",
    "13. Registers\n",
    "14. Application Software\n",
    "15. Battery\n",
    "16. Computer Organisation\n",
    "17. Control Unit (CU)\n",
    "18. Block\n",
    "19. Blockchain\n",
    "20. Community Cloud\n",
    "```"
   ]
  },
  {
   "cell_type": "markdown",
   "id": "2bdd3119",
   "metadata": {},
   "source": [
    "## SAQ\n",
    "\n",
    "```python\n",
    "\n",
    "23. \n",
    "A mobile system has to cater to a variety of operations and applications and its CPU has to manage all these. \n",
    "Thus the CPU of a mobile system has many sub-processors that help it control and manage diverse applications. \n",
    "\n",
    "The CPU of a mobile manages all these types of applications and operations:\n",
    "1. Manages communications while connecting to radio transceivers and SIM.\n",
    "2. Manages audio through ADC (analog to digital converter) and DAC (digital to analog converter).\n",
    "3. Manages display and touch sensitive sensors and interface.\n",
    "4. Works in tandem with memory and storage.\n",
    "\n",
    "24. \n",
    "The cache memory is a high speed memory available inside CPU in order to speed up access to data and instructions stored in RAM memory. \n",
    "Whenever some data is required, the CPU first looks in the cache, if it is there or not. If the data is found in cache, \n",
    "CPU does not access memory and hence the process becomes very fast.\n",
    "\n",
    "Memory caching is effective because most programs access the same data or instructions over and over. \n",
    "By keeping as much of this information as possible in cache memory (SRAM), the computer avoids accessing \n",
    "the slower main memory (DRAM). \n",
    "\n",
    "Hence, cache memory is useful for improving the performance of the computer.\n",
    "\n",
    "25.Example for System Software includes Android, Mac Operating system, MS Windows, etc. \n",
    "Examples of Application Software includes Word Processor, games, media player, etc.\n",
    "```"
   ]
  },
  {
   "cell_type": "code",
   "execution_count": null,
   "id": "d4f4df79",
   "metadata": {},
   "outputs": [],
   "source": []
  }
 ],
 "metadata": {
  "kernelspec": {
   "display_name": "Python 3 (ipykernel)",
   "language": "python",
   "name": "python3"
  },
  "language_info": {
   "codemirror_mode": {
    "name": "ipython",
    "version": 3
   },
   "file_extension": ".py",
   "mimetype": "text/x-python",
   "name": "python",
   "nbconvert_exporter": "python",
   "pygments_lexer": "ipython3",
   "version": "3.11.0"
  }
 },
 "nbformat": 4,
 "nbformat_minor": 5
}
